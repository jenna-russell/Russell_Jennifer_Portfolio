{
  "nbformat": 4,
  "nbformat_minor": 0,
  "metadata": {
    "colab": {
      "provenance": [],
      "toc_visible": true
    },
    "kernelspec": {
      "name": "python3",
      "display_name": "Python 3"
    },
    "accelerator": "GPU",
    "widgets": {
      "application/vnd.jupyter.widget-state+json": {
        "89b8c176055e4ac781c1d50299de97ae": {
          "model_module": "@jupyter-widgets/controls",
          "model_name": "HBoxModel",
          "state": {
            "_view_name": "HBoxView",
            "_dom_classes": [],
            "_model_name": "HBoxModel",
            "_view_module": "@jupyter-widgets/controls",
            "_model_module_version": "1.5.0",
            "_view_count": null,
            "_view_module_version": "1.5.0",
            "box_style": "",
            "layout": "IPY_MODEL_1911ba808d284590ac0597db55904f39",
            "_model_module": "@jupyter-widgets/controls",
            "children": [
              "IPY_MODEL_af01ef0d2a174c7f873d56ddaaac3cb1",
              "IPY_MODEL_1f5d4fc1cc9e4cbc86902bb178965ac2"
            ]
          },
          "model_module_version": "1.5.0"
        },
        "1911ba808d284590ac0597db55904f39": {
          "model_module": "@jupyter-widgets/base",
          "model_name": "LayoutModel",
          "state": {
            "_view_name": "LayoutView",
            "grid_template_rows": null,
            "right": null,
            "justify_content": null,
            "_view_module": "@jupyter-widgets/base",
            "overflow": null,
            "_model_module_version": "1.2.0",
            "_view_count": null,
            "flex_flow": null,
            "width": null,
            "min_width": null,
            "border": null,
            "align_items": null,
            "bottom": null,
            "_model_module": "@jupyter-widgets/base",
            "top": null,
            "grid_column": null,
            "overflow_y": null,
            "overflow_x": null,
            "grid_auto_flow": null,
            "grid_area": null,
            "grid_template_columns": null,
            "flex": null,
            "_model_name": "LayoutModel",
            "justify_items": null,
            "grid_row": null,
            "max_height": null,
            "align_content": null,
            "visibility": null,
            "align_self": null,
            "height": null,
            "min_height": null,
            "padding": null,
            "grid_auto_rows": null,
            "grid_gap": null,
            "max_width": null,
            "order": null,
            "_view_module_version": "1.2.0",
            "grid_template_areas": null,
            "object_position": null,
            "object_fit": null,
            "grid_auto_columns": null,
            "margin": null,
            "display": null,
            "left": null
          },
          "model_module_version": "1.2.0"
        },
        "af01ef0d2a174c7f873d56ddaaac3cb1": {
          "model_module": "@jupyter-widgets/controls",
          "model_name": "FloatProgressModel",
          "state": {
            "_view_name": "ProgressView",
            "style": "IPY_MODEL_368e9c23a6dc42e7b162b16b6128f868",
            "_dom_classes": [],
            "description": "Epochs:   0%",
            "_model_name": "FloatProgressModel",
            "bar_style": "danger",
            "max": 1,
            "_view_module": "@jupyter-widgets/controls",
            "_model_module_version": "1.5.0",
            "value": 0,
            "_view_count": null,
            "_view_module_version": "1.5.0",
            "orientation": "horizontal",
            "min": 0,
            "description_tooltip": null,
            "_model_module": "@jupyter-widgets/controls",
            "layout": "IPY_MODEL_4bcfa34d23c54b30886c8aea629df7a7"
          },
          "model_module_version": "1.5.0"
        },
        "1f5d4fc1cc9e4cbc86902bb178965ac2": {
          "model_module": "@jupyter-widgets/controls",
          "model_name": "HTMLModel",
          "state": {
            "_view_name": "HTMLView",
            "style": "IPY_MODEL_31e44de5f98c464db38a55e0716836de",
            "_dom_classes": [],
            "description": "",
            "_model_name": "HTMLModel",
            "placeholder": "​",
            "_view_module": "@jupyter-widgets/controls",
            "_model_module_version": "1.5.0",
            "value": " 0/1 [2:02:23&lt;?, ?it/s]",
            "_view_count": null,
            "_view_module_version": "1.5.0",
            "description_tooltip": null,
            "_model_module": "@jupyter-widgets/controls",
            "layout": "IPY_MODEL_d6a15c6b50164347a4f6ce769f3d8748"
          },
          "model_module_version": "1.5.0"
        },
        "368e9c23a6dc42e7b162b16b6128f868": {
          "model_module": "@jupyter-widgets/controls",
          "model_name": "ProgressStyleModel",
          "state": {
            "_view_name": "StyleView",
            "_model_name": "ProgressStyleModel",
            "description_width": "initial",
            "_view_module": "@jupyter-widgets/base",
            "_model_module_version": "1.5.0",
            "_view_count": null,
            "_view_module_version": "1.2.0",
            "bar_color": null,
            "_model_module": "@jupyter-widgets/controls"
          },
          "model_module_version": "1.5.0"
        },
        "4bcfa34d23c54b30886c8aea629df7a7": {
          "model_module": "@jupyter-widgets/base",
          "model_name": "LayoutModel",
          "state": {
            "_view_name": "LayoutView",
            "grid_template_rows": null,
            "right": null,
            "justify_content": null,
            "_view_module": "@jupyter-widgets/base",
            "overflow": null,
            "_model_module_version": "1.2.0",
            "_view_count": null,
            "flex_flow": null,
            "width": null,
            "min_width": null,
            "border": null,
            "align_items": null,
            "bottom": null,
            "_model_module": "@jupyter-widgets/base",
            "top": null,
            "grid_column": null,
            "overflow_y": null,
            "overflow_x": null,
            "grid_auto_flow": null,
            "grid_area": null,
            "grid_template_columns": null,
            "flex": null,
            "_model_name": "LayoutModel",
            "justify_items": null,
            "grid_row": null,
            "max_height": null,
            "align_content": null,
            "visibility": null,
            "align_self": null,
            "height": null,
            "min_height": null,
            "padding": null,
            "grid_auto_rows": null,
            "grid_gap": null,
            "max_width": null,
            "order": null,
            "_view_module_version": "1.2.0",
            "grid_template_areas": null,
            "object_position": null,
            "object_fit": null,
            "grid_auto_columns": null,
            "margin": null,
            "display": null,
            "left": null
          },
          "model_module_version": "1.2.0"
        },
        "31e44de5f98c464db38a55e0716836de": {
          "model_module": "@jupyter-widgets/controls",
          "model_name": "DescriptionStyleModel",
          "state": {
            "_view_name": "StyleView",
            "_model_name": "DescriptionStyleModel",
            "description_width": "",
            "_view_module": "@jupyter-widgets/base",
            "_model_module_version": "1.5.0",
            "_view_count": null,
            "_view_module_version": "1.2.0",
            "_model_module": "@jupyter-widgets/controls"
          },
          "model_module_version": "1.5.0"
        },
        "d6a15c6b50164347a4f6ce769f3d8748": {
          "model_module": "@jupyter-widgets/base",
          "model_name": "LayoutModel",
          "state": {
            "_view_name": "LayoutView",
            "grid_template_rows": null,
            "right": null,
            "justify_content": null,
            "_view_module": "@jupyter-widgets/base",
            "overflow": null,
            "_model_module_version": "1.2.0",
            "_view_count": null,
            "flex_flow": null,
            "width": null,
            "min_width": null,
            "border": null,
            "align_items": null,
            "bottom": null,
            "_model_module": "@jupyter-widgets/base",
            "top": null,
            "grid_column": null,
            "overflow_y": null,
            "overflow_x": null,
            "grid_auto_flow": null,
            "grid_area": null,
            "grid_template_columns": null,
            "flex": null,
            "_model_name": "LayoutModel",
            "justify_items": null,
            "grid_row": null,
            "max_height": null,
            "align_content": null,
            "visibility": null,
            "align_self": null,
            "height": null,
            "min_height": null,
            "padding": null,
            "grid_auto_rows": null,
            "grid_gap": null,
            "max_width": null,
            "order": null,
            "_view_module_version": "1.2.0",
            "grid_template_areas": null,
            "object_position": null,
            "object_fit": null,
            "grid_auto_columns": null,
            "margin": null,
            "display": null,
            "left": null
          },
          "model_module_version": "1.2.0"
        },
        "1d602102a11c44089b49d47a2d637895": {
          "model_module": "@jupyter-widgets/controls",
          "model_name": "HBoxModel",
          "state": {
            "_view_name": "HBoxView",
            "_dom_classes": [],
            "_model_name": "HBoxModel",
            "_view_module": "@jupyter-widgets/controls",
            "_model_module_version": "1.5.0",
            "_view_count": null,
            "_view_module_version": "1.5.0",
            "box_style": "",
            "layout": "IPY_MODEL_4536f79cb5484cfaa237c63365bb089f",
            "_model_module": "@jupyter-widgets/controls",
            "children": [
              "IPY_MODEL_968fbb51f20b4116b3037a8c7afde073",
              "IPY_MODEL_8998659f10e1451ea976b4476a7501bc"
            ]
          },
          "model_module_version": "1.5.0"
        },
        "4536f79cb5484cfaa237c63365bb089f": {
          "model_module": "@jupyter-widgets/base",
          "model_name": "LayoutModel",
          "state": {
            "_view_name": "LayoutView",
            "grid_template_rows": null,
            "right": null,
            "justify_content": null,
            "_view_module": "@jupyter-widgets/base",
            "overflow": null,
            "_model_module_version": "1.2.0",
            "_view_count": null,
            "flex_flow": null,
            "width": null,
            "min_width": null,
            "border": null,
            "align_items": null,
            "bottom": null,
            "_model_module": "@jupyter-widgets/base",
            "top": null,
            "grid_column": null,
            "overflow_y": null,
            "overflow_x": null,
            "grid_auto_flow": null,
            "grid_area": null,
            "grid_template_columns": null,
            "flex": null,
            "_model_name": "LayoutModel",
            "justify_items": null,
            "grid_row": null,
            "max_height": null,
            "align_content": null,
            "visibility": null,
            "align_self": null,
            "height": null,
            "min_height": null,
            "padding": null,
            "grid_auto_rows": null,
            "grid_gap": null,
            "max_width": null,
            "order": null,
            "_view_module_version": "1.2.0",
            "grid_template_areas": null,
            "object_position": null,
            "object_fit": null,
            "grid_auto_columns": null,
            "margin": null,
            "display": null,
            "left": null
          },
          "model_module_version": "1.2.0"
        },
        "968fbb51f20b4116b3037a8c7afde073": {
          "model_module": "@jupyter-widgets/controls",
          "model_name": "FloatProgressModel",
          "state": {
            "_view_name": "ProgressView",
            "style": "IPY_MODEL_689a7464f1c5456894254f55e6100fa2",
            "_dom_classes": [],
            "description": "Training Batches:  52%",
            "_model_name": "FloatProgressModel",
            "bar_style": "danger",
            "max": 104255,
            "_view_module": "@jupyter-widgets/controls",
            "_model_module_version": "1.5.0",
            "value": 54667,
            "_view_count": null,
            "_view_module_version": "1.5.0",
            "orientation": "horizontal",
            "min": 0,
            "description_tooltip": null,
            "_model_module": "@jupyter-widgets/controls",
            "layout": "IPY_MODEL_21c734dcc7fd44e59606c77b07faa7df"
          },
          "model_module_version": "1.5.0"
        },
        "8998659f10e1451ea976b4476a7501bc": {
          "model_module": "@jupyter-widgets/controls",
          "model_name": "HTMLModel",
          "state": {
            "_view_name": "HTMLView",
            "style": "IPY_MODEL_4ecc18b2116b4bf8875f7ad2ab6c9d85",
            "_dom_classes": [],
            "description": "",
            "_model_name": "HTMLModel",
            "placeholder": "​",
            "_view_module": "@jupyter-widgets/controls",
            "_model_module_version": "1.5.0",
            "value": " 54667/104255 [2:02:23&lt;35:05, 23.55it/s]",
            "_view_count": null,
            "_view_module_version": "1.5.0",
            "description_tooltip": null,
            "_model_module": "@jupyter-widgets/controls",
            "layout": "IPY_MODEL_4157a6dfb65148e1a08f09a89c53551c"
          },
          "model_module_version": "1.5.0"
        },
        "689a7464f1c5456894254f55e6100fa2": {
          "model_module": "@jupyter-widgets/controls",
          "model_name": "ProgressStyleModel",
          "state": {
            "_view_name": "StyleView",
            "_model_name": "ProgressStyleModel",
            "description_width": "initial",
            "_view_module": "@jupyter-widgets/base",
            "_model_module_version": "1.5.0",
            "_view_count": null,
            "_view_module_version": "1.2.0",
            "bar_color": null,
            "_model_module": "@jupyter-widgets/controls"
          },
          "model_module_version": "1.5.0"
        },
        "21c734dcc7fd44e59606c77b07faa7df": {
          "model_module": "@jupyter-widgets/base",
          "model_name": "LayoutModel",
          "state": {
            "_view_name": "LayoutView",
            "grid_template_rows": null,
            "right": null,
            "justify_content": null,
            "_view_module": "@jupyter-widgets/base",
            "overflow": null,
            "_model_module_version": "1.2.0",
            "_view_count": null,
            "flex_flow": null,
            "width": null,
            "min_width": null,
            "border": null,
            "align_items": null,
            "bottom": null,
            "_model_module": "@jupyter-widgets/base",
            "top": null,
            "grid_column": null,
            "overflow_y": null,
            "overflow_x": null,
            "grid_auto_flow": null,
            "grid_area": null,
            "grid_template_columns": null,
            "flex": null,
            "_model_name": "LayoutModel",
            "justify_items": null,
            "grid_row": null,
            "max_height": null,
            "align_content": null,
            "visibility": null,
            "align_self": null,
            "height": null,
            "min_height": null,
            "padding": null,
            "grid_auto_rows": null,
            "grid_gap": null,
            "max_width": null,
            "order": null,
            "_view_module_version": "1.2.0",
            "grid_template_areas": null,
            "object_position": null,
            "object_fit": null,
            "grid_auto_columns": null,
            "margin": null,
            "display": null,
            "left": null
          },
          "model_module_version": "1.2.0"
        },
        "4ecc18b2116b4bf8875f7ad2ab6c9d85": {
          "model_module": "@jupyter-widgets/controls",
          "model_name": "DescriptionStyleModel",
          "state": {
            "_view_name": "StyleView",
            "_model_name": "DescriptionStyleModel",
            "description_width": "",
            "_view_module": "@jupyter-widgets/base",
            "_model_module_version": "1.5.0",
            "_view_count": null,
            "_view_module_version": "1.2.0",
            "_model_module": "@jupyter-widgets/controls"
          },
          "model_module_version": "1.5.0"
        },
        "4157a6dfb65148e1a08f09a89c53551c": {
          "model_module": "@jupyter-widgets/base",
          "model_name": "LayoutModel",
          "state": {
            "_view_name": "LayoutView",
            "grid_template_rows": null,
            "right": null,
            "justify_content": null,
            "_view_module": "@jupyter-widgets/base",
            "overflow": null,
            "_model_module_version": "1.2.0",
            "_view_count": null,
            "flex_flow": null,
            "width": null,
            "min_width": null,
            "border": null,
            "align_items": null,
            "bottom": null,
            "_model_module": "@jupyter-widgets/base",
            "top": null,
            "grid_column": null,
            "overflow_y": null,
            "overflow_x": null,
            "grid_auto_flow": null,
            "grid_area": null,
            "grid_template_columns": null,
            "flex": null,
            "_model_name": "LayoutModel",
            "justify_items": null,
            "grid_row": null,
            "max_height": null,
            "align_content": null,
            "visibility": null,
            "align_self": null,
            "height": null,
            "min_height": null,
            "padding": null,
            "grid_auto_rows": null,
            "grid_gap": null,
            "max_width": null,
            "order": null,
            "_view_module_version": "1.2.0",
            "grid_template_areas": null,
            "object_position": null,
            "object_fit": null,
            "grid_auto_columns": null,
            "margin": null,
            "display": null,
            "left": null
          },
          "model_module_version": "1.2.0"
        },
        "2287699a37be44c28f6357be40e6ad9d": {
          "model_module": "@jupyter-widgets/controls",
          "model_name": "HBoxModel",
          "state": {
            "_view_name": "HBoxView",
            "_dom_classes": [],
            "_model_name": "HBoxModel",
            "_view_module": "@jupyter-widgets/controls",
            "_model_module_version": "1.5.0",
            "_view_count": null,
            "_view_module_version": "1.5.0",
            "box_style": "",
            "layout": "IPY_MODEL_78ab7b1a1a744b249e3502fb56a5aa80",
            "_model_module": "@jupyter-widgets/controls",
            "children": [
              "IPY_MODEL_254172dad2b0433292bb92ef80836463",
              "IPY_MODEL_6977710913c441c7b95930a5e8e2897a"
            ]
          },
          "model_module_version": "1.5.0"
        },
        "78ab7b1a1a744b249e3502fb56a5aa80": {
          "model_module": "@jupyter-widgets/base",
          "model_name": "LayoutModel",
          "state": {
            "_view_name": "LayoutView",
            "grid_template_rows": null,
            "right": null,
            "justify_content": null,
            "_view_module": "@jupyter-widgets/base",
            "overflow": null,
            "_model_module_version": "1.2.0",
            "_view_count": null,
            "flex_flow": null,
            "width": null,
            "min_width": null,
            "border": null,
            "align_items": null,
            "bottom": null,
            "_model_module": "@jupyter-widgets/base",
            "top": null,
            "grid_column": null,
            "overflow_y": null,
            "overflow_x": null,
            "grid_auto_flow": null,
            "grid_area": null,
            "grid_template_columns": null,
            "flex": null,
            "_model_name": "LayoutModel",
            "justify_items": null,
            "grid_row": null,
            "max_height": null,
            "align_content": null,
            "visibility": null,
            "align_self": null,
            "height": null,
            "min_height": null,
            "padding": null,
            "grid_auto_rows": null,
            "grid_gap": null,
            "max_width": null,
            "order": null,
            "_view_module_version": "1.2.0",
            "grid_template_areas": null,
            "object_position": null,
            "object_fit": null,
            "grid_auto_columns": null,
            "margin": null,
            "display": null,
            "left": null
          },
          "model_module_version": "1.2.0"
        },
        "254172dad2b0433292bb92ef80836463": {
          "model_module": "@jupyter-widgets/controls",
          "model_name": "FloatProgressModel",
          "state": {
            "_view_name": "ProgressView",
            "style": "IPY_MODEL_38f649142c954a3f86a13b404f6eca33",
            "_dom_classes": [],
            "description": "Epochs: 100%",
            "_model_name": "FloatProgressModel",
            "bar_style": "success",
            "max": 1,
            "_view_module": "@jupyter-widgets/controls",
            "_model_module_version": "1.5.0",
            "value": 1,
            "_view_count": null,
            "_view_module_version": "1.5.0",
            "orientation": "horizontal",
            "min": 0,
            "description_tooltip": null,
            "_model_module": "@jupyter-widgets/controls",
            "layout": "IPY_MODEL_77c0025435454a468d58f56f087e0444"
          },
          "model_module_version": "1.5.0"
        },
        "6977710913c441c7b95930a5e8e2897a": {
          "model_module": "@jupyter-widgets/controls",
          "model_name": "HTMLModel",
          "state": {
            "_view_name": "HTMLView",
            "style": "IPY_MODEL_3a7bed206ad9440087a969fdf986b5f5",
            "_dom_classes": [],
            "description": "",
            "_model_name": "HTMLModel",
            "placeholder": "​",
            "_view_module": "@jupyter-widgets/controls",
            "_model_module_version": "1.5.0",
            "value": " 1/1 [1:40:48&lt;00:00, 6048.17s/it]",
            "_view_count": null,
            "_view_module_version": "1.5.0",
            "description_tooltip": null,
            "_model_module": "@jupyter-widgets/controls",
            "layout": "IPY_MODEL_0c5576aa96114b8ca39657c4e27b2a8d"
          },
          "model_module_version": "1.5.0"
        },
        "38f649142c954a3f86a13b404f6eca33": {
          "model_module": "@jupyter-widgets/controls",
          "model_name": "ProgressStyleModel",
          "state": {
            "_view_name": "StyleView",
            "_model_name": "ProgressStyleModel",
            "description_width": "initial",
            "_view_module": "@jupyter-widgets/base",
            "_model_module_version": "1.5.0",
            "_view_count": null,
            "_view_module_version": "1.2.0",
            "bar_color": null,
            "_model_module": "@jupyter-widgets/controls"
          },
          "model_module_version": "1.5.0"
        },
        "77c0025435454a468d58f56f087e0444": {
          "model_module": "@jupyter-widgets/base",
          "model_name": "LayoutModel",
          "state": {
            "_view_name": "LayoutView",
            "grid_template_rows": null,
            "right": null,
            "justify_content": null,
            "_view_module": "@jupyter-widgets/base",
            "overflow": null,
            "_model_module_version": "1.2.0",
            "_view_count": null,
            "flex_flow": null,
            "width": null,
            "min_width": null,
            "border": null,
            "align_items": null,
            "bottom": null,
            "_model_module": "@jupyter-widgets/base",
            "top": null,
            "grid_column": null,
            "overflow_y": null,
            "overflow_x": null,
            "grid_auto_flow": null,
            "grid_area": null,
            "grid_template_columns": null,
            "flex": null,
            "_model_name": "LayoutModel",
            "justify_items": null,
            "grid_row": null,
            "max_height": null,
            "align_content": null,
            "visibility": null,
            "align_self": null,
            "height": null,
            "min_height": null,
            "padding": null,
            "grid_auto_rows": null,
            "grid_gap": null,
            "max_width": null,
            "order": null,
            "_view_module_version": "1.2.0",
            "grid_template_areas": null,
            "object_position": null,
            "object_fit": null,
            "grid_auto_columns": null,
            "margin": null,
            "display": null,
            "left": null
          },
          "model_module_version": "1.2.0"
        },
        "3a7bed206ad9440087a969fdf986b5f5": {
          "model_module": "@jupyter-widgets/controls",
          "model_name": "DescriptionStyleModel",
          "state": {
            "_view_name": "StyleView",
            "_model_name": "DescriptionStyleModel",
            "description_width": "",
            "_view_module": "@jupyter-widgets/base",
            "_model_module_version": "1.5.0",
            "_view_count": null,
            "_view_module_version": "1.2.0",
            "_model_module": "@jupyter-widgets/controls"
          },
          "model_module_version": "1.5.0"
        },
        "0c5576aa96114b8ca39657c4e27b2a8d": {
          "model_module": "@jupyter-widgets/base",
          "model_name": "LayoutModel",
          "state": {
            "_view_name": "LayoutView",
            "grid_template_rows": null,
            "right": null,
            "justify_content": null,
            "_view_module": "@jupyter-widgets/base",
            "overflow": null,
            "_model_module_version": "1.2.0",
            "_view_count": null,
            "flex_flow": null,
            "width": null,
            "min_width": null,
            "border": null,
            "align_items": null,
            "bottom": null,
            "_model_module": "@jupyter-widgets/base",
            "top": null,
            "grid_column": null,
            "overflow_y": null,
            "overflow_x": null,
            "grid_auto_flow": null,
            "grid_area": null,
            "grid_template_columns": null,
            "flex": null,
            "_model_name": "LayoutModel",
            "justify_items": null,
            "grid_row": null,
            "max_height": null,
            "align_content": null,
            "visibility": null,
            "align_self": null,
            "height": null,
            "min_height": null,
            "padding": null,
            "grid_auto_rows": null,
            "grid_gap": null,
            "max_width": null,
            "order": null,
            "_view_module_version": "1.2.0",
            "grid_template_areas": null,
            "object_position": null,
            "object_fit": null,
            "grid_auto_columns": null,
            "margin": null,
            "display": null,
            "left": null
          },
          "model_module_version": "1.2.0"
        },
        "2b553544abe546f9abb76faa958d7bad": {
          "model_module": "@jupyter-widgets/controls",
          "model_name": "HBoxModel",
          "state": {
            "_view_name": "HBoxView",
            "_dom_classes": [],
            "_model_name": "HBoxModel",
            "_view_module": "@jupyter-widgets/controls",
            "_model_module_version": "1.5.0",
            "_view_count": null,
            "_view_module_version": "1.5.0",
            "box_style": "",
            "layout": "IPY_MODEL_8a6c6773b55c4e9ab4b53258929d82c8",
            "_model_module": "@jupyter-widgets/controls",
            "children": [
              "IPY_MODEL_c0a2007005424295a1618f6fcc39d444",
              "IPY_MODEL_dcead0d6d1784b2abc7250df93791474"
            ]
          },
          "model_module_version": "1.5.0"
        },
        "8a6c6773b55c4e9ab4b53258929d82c8": {
          "model_module": "@jupyter-widgets/base",
          "model_name": "LayoutModel",
          "state": {
            "_view_name": "LayoutView",
            "grid_template_rows": null,
            "right": null,
            "justify_content": null,
            "_view_module": "@jupyter-widgets/base",
            "overflow": null,
            "_model_module_version": "1.2.0",
            "_view_count": null,
            "flex_flow": null,
            "width": null,
            "min_width": null,
            "border": null,
            "align_items": null,
            "bottom": null,
            "_model_module": "@jupyter-widgets/base",
            "top": null,
            "grid_column": null,
            "overflow_y": null,
            "overflow_x": null,
            "grid_auto_flow": null,
            "grid_area": null,
            "grid_template_columns": null,
            "flex": null,
            "_model_name": "LayoutModel",
            "justify_items": null,
            "grid_row": null,
            "max_height": null,
            "align_content": null,
            "visibility": null,
            "align_self": null,
            "height": null,
            "min_height": null,
            "padding": null,
            "grid_auto_rows": null,
            "grid_gap": null,
            "max_width": null,
            "order": null,
            "_view_module_version": "1.2.0",
            "grid_template_areas": null,
            "object_position": null,
            "object_fit": null,
            "grid_auto_columns": null,
            "margin": null,
            "display": null,
            "left": null
          },
          "model_module_version": "1.2.0"
        },
        "c0a2007005424295a1618f6fcc39d444": {
          "model_module": "@jupyter-widgets/controls",
          "model_name": "FloatProgressModel",
          "state": {
            "_view_name": "ProgressView",
            "style": "IPY_MODEL_7ee0358b1ff34cd6a992e8bae08b576a",
            "_dom_classes": [],
            "description": "Training Batches: 100%",
            "_model_name": "FloatProgressModel",
            "bar_style": "",
            "max": 104255,
            "_view_module": "@jupyter-widgets/controls",
            "_model_module_version": "1.5.0",
            "value": 104255,
            "_view_count": null,
            "_view_module_version": "1.5.0",
            "orientation": "horizontal",
            "min": 0,
            "description_tooltip": null,
            "_model_module": "@jupyter-widgets/controls",
            "layout": "IPY_MODEL_751b408b6284434f8560a7bd32451fb7"
          },
          "model_module_version": "1.5.0"
        },
        "dcead0d6d1784b2abc7250df93791474": {
          "model_module": "@jupyter-widgets/controls",
          "model_name": "HTMLModel",
          "state": {
            "_view_name": "HTMLView",
            "style": "IPY_MODEL_dab085484afd4c0381104499a61fd5ae",
            "_dom_classes": [],
            "description": "",
            "_model_name": "HTMLModel",
            "placeholder": "​",
            "_view_module": "@jupyter-widgets/controls",
            "_model_module_version": "1.5.0",
            "value": " 104255/104255 [1:10:19&lt;00:00, 24.56it/s]",
            "_view_count": null,
            "_view_module_version": "1.5.0",
            "description_tooltip": null,
            "_model_module": "@jupyter-widgets/controls",
            "layout": "IPY_MODEL_1f472419b12b4c2582973cf494052d3c"
          },
          "model_module_version": "1.5.0"
        },
        "7ee0358b1ff34cd6a992e8bae08b576a": {
          "model_module": "@jupyter-widgets/controls",
          "model_name": "ProgressStyleModel",
          "state": {
            "_view_name": "StyleView",
            "_model_name": "ProgressStyleModel",
            "description_width": "initial",
            "_view_module": "@jupyter-widgets/base",
            "_model_module_version": "1.5.0",
            "_view_count": null,
            "_view_module_version": "1.2.0",
            "bar_color": null,
            "_model_module": "@jupyter-widgets/controls"
          },
          "model_module_version": "1.5.0"
        },
        "751b408b6284434f8560a7bd32451fb7": {
          "model_module": "@jupyter-widgets/base",
          "model_name": "LayoutModel",
          "state": {
            "_view_name": "LayoutView",
            "grid_template_rows": null,
            "right": null,
            "justify_content": null,
            "_view_module": "@jupyter-widgets/base",
            "overflow": null,
            "_model_module_version": "1.2.0",
            "_view_count": null,
            "flex_flow": null,
            "width": null,
            "min_width": null,
            "border": null,
            "align_items": null,
            "bottom": null,
            "_model_module": "@jupyter-widgets/base",
            "top": null,
            "grid_column": null,
            "overflow_y": null,
            "overflow_x": null,
            "grid_auto_flow": null,
            "grid_area": null,
            "grid_template_columns": null,
            "flex": null,
            "_model_name": "LayoutModel",
            "justify_items": null,
            "grid_row": null,
            "max_height": null,
            "align_content": null,
            "visibility": null,
            "align_self": null,
            "height": null,
            "min_height": null,
            "padding": null,
            "grid_auto_rows": null,
            "grid_gap": null,
            "max_width": null,
            "order": null,
            "_view_module_version": "1.2.0",
            "grid_template_areas": null,
            "object_position": null,
            "object_fit": null,
            "grid_auto_columns": null,
            "margin": null,
            "display": null,
            "left": null
          },
          "model_module_version": "1.2.0"
        },
        "dab085484afd4c0381104499a61fd5ae": {
          "model_module": "@jupyter-widgets/controls",
          "model_name": "DescriptionStyleModel",
          "state": {
            "_view_name": "StyleView",
            "_model_name": "DescriptionStyleModel",
            "description_width": "",
            "_view_module": "@jupyter-widgets/base",
            "_model_module_version": "1.5.0",
            "_view_count": null,
            "_view_module_version": "1.2.0",
            "_model_module": "@jupyter-widgets/controls"
          },
          "model_module_version": "1.5.0"
        },
        "1f472419b12b4c2582973cf494052d3c": {
          "model_module": "@jupyter-widgets/base",
          "model_name": "LayoutModel",
          "state": {
            "_view_name": "LayoutView",
            "grid_template_rows": null,
            "right": null,
            "justify_content": null,
            "_view_module": "@jupyter-widgets/base",
            "overflow": null,
            "_model_module_version": "1.2.0",
            "_view_count": null,
            "flex_flow": null,
            "width": null,
            "min_width": null,
            "border": null,
            "align_items": null,
            "bottom": null,
            "_model_module": "@jupyter-widgets/base",
            "top": null,
            "grid_column": null,
            "overflow_y": null,
            "overflow_x": null,
            "grid_auto_flow": null,
            "grid_area": null,
            "grid_template_columns": null,
            "flex": null,
            "_model_name": "LayoutModel",
            "justify_items": null,
            "grid_row": null,
            "max_height": null,
            "align_content": null,
            "visibility": null,
            "align_self": null,
            "height": null,
            "min_height": null,
            "padding": null,
            "grid_auto_rows": null,
            "grid_gap": null,
            "max_width": null,
            "order": null,
            "_view_module_version": "1.2.0",
            "grid_template_areas": null,
            "object_position": null,
            "object_fit": null,
            "grid_auto_columns": null,
            "margin": null,
            "display": null,
            "left": null
          },
          "model_module_version": "1.2.0"
        },
        "1e8b0662f3d743349a952ca4c6b4f681": {
          "model_module": "@jupyter-widgets/controls",
          "model_name": "HBoxModel",
          "state": {
            "_view_name": "HBoxView",
            "_dom_classes": [],
            "_model_name": "HBoxModel",
            "_view_module": "@jupyter-widgets/controls",
            "_model_module_version": "1.5.0",
            "_view_count": null,
            "_view_module_version": "1.5.0",
            "box_style": "",
            "layout": "IPY_MODEL_5165c4e979a54989a13f8cd1874c8da1",
            "_model_module": "@jupyter-widgets/controls",
            "children": [
              "IPY_MODEL_68f8c46dece044febe595d9e639aac77",
              "IPY_MODEL_8e4350bf1a264a40883a7c10cae534ac"
            ]
          },
          "model_module_version": "1.5.0"
        },
        "5165c4e979a54989a13f8cd1874c8da1": {
          "model_module": "@jupyter-widgets/base",
          "model_name": "LayoutModel",
          "state": {
            "_view_name": "LayoutView",
            "grid_template_rows": null,
            "right": null,
            "justify_content": null,
            "_view_module": "@jupyter-widgets/base",
            "overflow": null,
            "_model_module_version": "1.2.0",
            "_view_count": null,
            "flex_flow": null,
            "width": null,
            "min_width": null,
            "border": null,
            "align_items": null,
            "bottom": null,
            "_model_module": "@jupyter-widgets/base",
            "top": null,
            "grid_column": null,
            "overflow_y": null,
            "overflow_x": null,
            "grid_auto_flow": null,
            "grid_area": null,
            "grid_template_columns": null,
            "flex": null,
            "_model_name": "LayoutModel",
            "justify_items": null,
            "grid_row": null,
            "max_height": null,
            "align_content": null,
            "visibility": null,
            "align_self": null,
            "height": null,
            "min_height": null,
            "padding": null,
            "grid_auto_rows": null,
            "grid_gap": null,
            "max_width": null,
            "order": null,
            "_view_module_version": "1.2.0",
            "grid_template_areas": null,
            "object_position": null,
            "object_fit": null,
            "grid_auto_columns": null,
            "margin": null,
            "display": null,
            "left": null
          },
          "model_module_version": "1.2.0"
        },
        "68f8c46dece044febe595d9e639aac77": {
          "model_module": "@jupyter-widgets/controls",
          "model_name": "FloatProgressModel",
          "state": {
            "_view_name": "ProgressView",
            "style": "IPY_MODEL_ba6639417e854e0092e9c39fc9f334df",
            "_dom_classes": [],
            "description": "Validation Batches: 100%",
            "_model_name": "FloatProgressModel",
            "bar_style": "",
            "max": 1000,
            "_view_module": "@jupyter-widgets/controls",
            "_model_module_version": "1.5.0",
            "value": 1000,
            "_view_count": null,
            "_view_module_version": "1.5.0",
            "orientation": "horizontal",
            "min": 0,
            "description_tooltip": null,
            "_model_module": "@jupyter-widgets/controls",
            "layout": "IPY_MODEL_82571bcefaf6449d9d23794fefff40e3"
          },
          "model_module_version": "1.5.0"
        },
        "8e4350bf1a264a40883a7c10cae534ac": {
          "model_module": "@jupyter-widgets/controls",
          "model_name": "HTMLModel",
          "state": {
            "_view_name": "HTMLView",
            "style": "IPY_MODEL_baa70e4488a64aed990a75543033360b",
            "_dom_classes": [],
            "description": "",
            "_model_name": "HTMLModel",
            "placeholder": "​",
            "_view_module": "@jupyter-widgets/controls",
            "_model_module_version": "1.5.0",
            "value": " 1000/1000 [12:43&lt;00:00,  1.17it/s]",
            "_view_count": null,
            "_view_module_version": "1.5.0",
            "description_tooltip": null,
            "_model_module": "@jupyter-widgets/controls",
            "layout": "IPY_MODEL_7490ba331eab42ccada0d4db04c92b64"
          },
          "model_module_version": "1.5.0"
        },
        "ba6639417e854e0092e9c39fc9f334df": {
          "model_module": "@jupyter-widgets/controls",
          "model_name": "ProgressStyleModel",
          "state": {
            "_view_name": "StyleView",
            "_model_name": "ProgressStyleModel",
            "description_width": "initial",
            "_view_module": "@jupyter-widgets/base",
            "_model_module_version": "1.5.0",
            "_view_count": null,
            "_view_module_version": "1.2.0",
            "bar_color": null,
            "_model_module": "@jupyter-widgets/controls"
          },
          "model_module_version": "1.5.0"
        },
        "82571bcefaf6449d9d23794fefff40e3": {
          "model_module": "@jupyter-widgets/base",
          "model_name": "LayoutModel",
          "state": {
            "_view_name": "LayoutView",
            "grid_template_rows": null,
            "right": null,
            "justify_content": null,
            "_view_module": "@jupyter-widgets/base",
            "overflow": null,
            "_model_module_version": "1.2.0",
            "_view_count": null,
            "flex_flow": null,
            "width": null,
            "min_width": null,
            "border": null,
            "align_items": null,
            "bottom": null,
            "_model_module": "@jupyter-widgets/base",
            "top": null,
            "grid_column": null,
            "overflow_y": null,
            "overflow_x": null,
            "grid_auto_flow": null,
            "grid_area": null,
            "grid_template_columns": null,
            "flex": null,
            "_model_name": "LayoutModel",
            "justify_items": null,
            "grid_row": null,
            "max_height": null,
            "align_content": null,
            "visibility": null,
            "align_self": null,
            "height": null,
            "min_height": null,
            "padding": null,
            "grid_auto_rows": null,
            "grid_gap": null,
            "max_width": null,
            "order": null,
            "_view_module_version": "1.2.0",
            "grid_template_areas": null,
            "object_position": null,
            "object_fit": null,
            "grid_auto_columns": null,
            "margin": null,
            "display": null,
            "left": null
          },
          "model_module_version": "1.2.0"
        },
        "baa70e4488a64aed990a75543033360b": {
          "model_module": "@jupyter-widgets/controls",
          "model_name": "DescriptionStyleModel",
          "state": {
            "_view_name": "StyleView",
            "_model_name": "DescriptionStyleModel",
            "description_width": "",
            "_view_module": "@jupyter-widgets/base",
            "_model_module_version": "1.5.0",
            "_view_count": null,
            "_view_module_version": "1.2.0",
            "_model_module": "@jupyter-widgets/controls"
          },
          "model_module_version": "1.5.0"
        },
        "7490ba331eab42ccada0d4db04c92b64": {
          "model_module": "@jupyter-widgets/base",
          "model_name": "LayoutModel",
          "state": {
            "_view_name": "LayoutView",
            "grid_template_rows": null,
            "right": null,
            "justify_content": null,
            "_view_module": "@jupyter-widgets/base",
            "overflow": null,
            "_model_module_version": "1.2.0",
            "_view_count": null,
            "flex_flow": null,
            "width": null,
            "min_width": null,
            "border": null,
            "align_items": null,
            "bottom": null,
            "_model_module": "@jupyter-widgets/base",
            "top": null,
            "grid_column": null,
            "overflow_y": null,
            "overflow_x": null,
            "grid_auto_flow": null,
            "grid_area": null,
            "grid_template_columns": null,
            "flex": null,
            "_model_name": "LayoutModel",
            "justify_items": null,
            "grid_row": null,
            "max_height": null,
            "align_content": null,
            "visibility": null,
            "align_self": null,
            "height": null,
            "min_height": null,
            "padding": null,
            "grid_auto_rows": null,
            "grid_gap": null,
            "max_width": null,
            "order": null,
            "_view_module_version": "1.2.0",
            "grid_template_areas": null,
            "object_position": null,
            "object_fit": null,
            "grid_auto_columns": null,
            "margin": null,
            "display": null,
            "left": null
          },
          "model_module_version": "1.2.0"
        },
        "8add43434307478b8e629fbc6a672b22": {
          "model_module": "@jupyter-widgets/controls",
          "model_name": "HBoxModel",
          "state": {
            "_view_name": "HBoxView",
            "_dom_classes": [],
            "_model_name": "HBoxModel",
            "_view_module": "@jupyter-widgets/controls",
            "_model_module_version": "1.5.0",
            "_view_count": null,
            "_view_module_version": "1.5.0",
            "box_style": "",
            "layout": "IPY_MODEL_0f508d6d2c7e43e3a12d4f20ebc791ca",
            "_model_module": "@jupyter-widgets/controls",
            "children": [
              "IPY_MODEL_980038c4b6f6465cb439db68407a6448",
              "IPY_MODEL_9fdd03a3efcc40a78cca99e6b058eaf1"
            ]
          },
          "model_module_version": "1.5.0"
        },
        "0f508d6d2c7e43e3a12d4f20ebc791ca": {
          "model_module": "@jupyter-widgets/base",
          "model_name": "LayoutModel",
          "state": {
            "_view_name": "LayoutView",
            "grid_template_rows": null,
            "right": null,
            "justify_content": null,
            "_view_module": "@jupyter-widgets/base",
            "overflow": null,
            "_model_module_version": "1.2.0",
            "_view_count": null,
            "flex_flow": null,
            "width": null,
            "min_width": null,
            "border": null,
            "align_items": null,
            "bottom": null,
            "_model_module": "@jupyter-widgets/base",
            "top": null,
            "grid_column": null,
            "overflow_y": null,
            "overflow_x": null,
            "grid_auto_flow": null,
            "grid_area": null,
            "grid_template_columns": null,
            "flex": null,
            "_model_name": "LayoutModel",
            "justify_items": null,
            "grid_row": null,
            "max_height": null,
            "align_content": null,
            "visibility": null,
            "align_self": null,
            "height": null,
            "min_height": null,
            "padding": null,
            "grid_auto_rows": null,
            "grid_gap": null,
            "max_width": null,
            "order": null,
            "_view_module_version": "1.2.0",
            "grid_template_areas": null,
            "object_position": null,
            "object_fit": null,
            "grid_auto_columns": null,
            "margin": null,
            "display": null,
            "left": null
          },
          "model_module_version": "1.2.0"
        },
        "980038c4b6f6465cb439db68407a6448": {
          "model_module": "@jupyter-widgets/controls",
          "model_name": "FloatProgressModel",
          "state": {
            "_view_name": "ProgressView",
            "style": "IPY_MODEL_5c28fbf783704f44a8b99ef22d175c9e",
            "_dom_classes": [],
            "description": "Downloading: 100%",
            "_model_name": "FloatProgressModel",
            "bar_style": "success",
            "max": 231508,
            "_view_module": "@jupyter-widgets/controls",
            "_model_module_version": "1.5.0",
            "value": 231508,
            "_view_count": null,
            "_view_module_version": "1.5.0",
            "orientation": "horizontal",
            "min": 0,
            "description_tooltip": null,
            "_model_module": "@jupyter-widgets/controls",
            "layout": "IPY_MODEL_91f69ab45967424687d5dcc5e6a84ff6"
          },
          "model_module_version": "1.5.0"
        },
        "9fdd03a3efcc40a78cca99e6b058eaf1": {
          "model_module": "@jupyter-widgets/controls",
          "model_name": "HTMLModel",
          "state": {
            "_view_name": "HTMLView",
            "style": "IPY_MODEL_ffba1d1b85004540881d34ebae6daca3",
            "_dom_classes": [],
            "description": "",
            "_model_name": "HTMLModel",
            "placeholder": "​",
            "_view_module": "@jupyter-widgets/controls",
            "_model_module_version": "1.5.0",
            "value": " 232k/232k [00:19&lt;00:00, 11.6kB/s]",
            "_view_count": null,
            "_view_module_version": "1.5.0",
            "description_tooltip": null,
            "_model_module": "@jupyter-widgets/controls",
            "layout": "IPY_MODEL_b7b66613ecc744918c7239327aca81bf"
          },
          "model_module_version": "1.5.0"
        },
        "5c28fbf783704f44a8b99ef22d175c9e": {
          "model_module": "@jupyter-widgets/controls",
          "model_name": "ProgressStyleModel",
          "state": {
            "_view_name": "StyleView",
            "_model_name": "ProgressStyleModel",
            "description_width": "initial",
            "_view_module": "@jupyter-widgets/base",
            "_model_module_version": "1.5.0",
            "_view_count": null,
            "_view_module_version": "1.2.0",
            "bar_color": null,
            "_model_module": "@jupyter-widgets/controls"
          },
          "model_module_version": "1.5.0"
        },
        "91f69ab45967424687d5dcc5e6a84ff6": {
          "model_module": "@jupyter-widgets/base",
          "model_name": "LayoutModel",
          "state": {
            "_view_name": "LayoutView",
            "grid_template_rows": null,
            "right": null,
            "justify_content": null,
            "_view_module": "@jupyter-widgets/base",
            "overflow": null,
            "_model_module_version": "1.2.0",
            "_view_count": null,
            "flex_flow": null,
            "width": null,
            "min_width": null,
            "border": null,
            "align_items": null,
            "bottom": null,
            "_model_module": "@jupyter-widgets/base",
            "top": null,
            "grid_column": null,
            "overflow_y": null,
            "overflow_x": null,
            "grid_auto_flow": null,
            "grid_area": null,
            "grid_template_columns": null,
            "flex": null,
            "_model_name": "LayoutModel",
            "justify_items": null,
            "grid_row": null,
            "max_height": null,
            "align_content": null,
            "visibility": null,
            "align_self": null,
            "height": null,
            "min_height": null,
            "padding": null,
            "grid_auto_rows": null,
            "grid_gap": null,
            "max_width": null,
            "order": null,
            "_view_module_version": "1.2.0",
            "grid_template_areas": null,
            "object_position": null,
            "object_fit": null,
            "grid_auto_columns": null,
            "margin": null,
            "display": null,
            "left": null
          },
          "model_module_version": "1.2.0"
        },
        "ffba1d1b85004540881d34ebae6daca3": {
          "model_module": "@jupyter-widgets/controls",
          "model_name": "DescriptionStyleModel",
          "state": {
            "_view_name": "StyleView",
            "_model_name": "DescriptionStyleModel",
            "description_width": "",
            "_view_module": "@jupyter-widgets/base",
            "_model_module_version": "1.5.0",
            "_view_count": null,
            "_view_module_version": "1.2.0",
            "_model_module": "@jupyter-widgets/controls"
          },
          "model_module_version": "1.5.0"
        },
        "b7b66613ecc744918c7239327aca81bf": {
          "model_module": "@jupyter-widgets/base",
          "model_name": "LayoutModel",
          "state": {
            "_view_name": "LayoutView",
            "grid_template_rows": null,
            "right": null,
            "justify_content": null,
            "_view_module": "@jupyter-widgets/base",
            "overflow": null,
            "_model_module_version": "1.2.0",
            "_view_count": null,
            "flex_flow": null,
            "width": null,
            "min_width": null,
            "border": null,
            "align_items": null,
            "bottom": null,
            "_model_module": "@jupyter-widgets/base",
            "top": null,
            "grid_column": null,
            "overflow_y": null,
            "overflow_x": null,
            "grid_auto_flow": null,
            "grid_area": null,
            "grid_template_columns": null,
            "flex": null,
            "_model_name": "LayoutModel",
            "justify_items": null,
            "grid_row": null,
            "max_height": null,
            "align_content": null,
            "visibility": null,
            "align_self": null,
            "height": null,
            "min_height": null,
            "padding": null,
            "grid_auto_rows": null,
            "grid_gap": null,
            "max_width": null,
            "order": null,
            "_view_module_version": "1.2.0",
            "grid_template_areas": null,
            "object_position": null,
            "object_fit": null,
            "grid_auto_columns": null,
            "margin": null,
            "display": null,
            "left": null
          },
          "model_module_version": "1.2.0"
        },
        "db73b9bee3f5422298ce3126f1f5549a": {
          "model_module": "@jupyter-widgets/controls",
          "model_name": "HBoxModel",
          "state": {
            "_view_name": "HBoxView",
            "_dom_classes": [],
            "_model_name": "HBoxModel",
            "_view_module": "@jupyter-widgets/controls",
            "_model_module_version": "1.5.0",
            "_view_count": null,
            "_view_module_version": "1.5.0",
            "box_style": "",
            "layout": "IPY_MODEL_263a3c208ad94b3190f8581732fb8cf7",
            "_model_module": "@jupyter-widgets/controls",
            "children": [
              "IPY_MODEL_0a93b71b508c4a8f989b2132ad12393e",
              "IPY_MODEL_2777a41580b243e7ad76ac9161139fd5"
            ]
          },
          "model_module_version": "1.5.0"
        },
        "263a3c208ad94b3190f8581732fb8cf7": {
          "model_module": "@jupyter-widgets/base",
          "model_name": "LayoutModel",
          "state": {
            "_view_name": "LayoutView",
            "grid_template_rows": null,
            "right": null,
            "justify_content": null,
            "_view_module": "@jupyter-widgets/base",
            "overflow": null,
            "_model_module_version": "1.2.0",
            "_view_count": null,
            "flex_flow": null,
            "width": null,
            "min_width": null,
            "border": null,
            "align_items": null,
            "bottom": null,
            "_model_module": "@jupyter-widgets/base",
            "top": null,
            "grid_column": null,
            "overflow_y": null,
            "overflow_x": null,
            "grid_auto_flow": null,
            "grid_area": null,
            "grid_template_columns": null,
            "flex": null,
            "_model_name": "LayoutModel",
            "justify_items": null,
            "grid_row": null,
            "max_height": null,
            "align_content": null,
            "visibility": null,
            "align_self": null,
            "height": null,
            "min_height": null,
            "padding": null,
            "grid_auto_rows": null,
            "grid_gap": null,
            "max_width": null,
            "order": null,
            "_view_module_version": "1.2.0",
            "grid_template_areas": null,
            "object_position": null,
            "object_fit": null,
            "grid_auto_columns": null,
            "margin": null,
            "display": null,
            "left": null
          },
          "model_module_version": "1.2.0"
        },
        "0a93b71b508c4a8f989b2132ad12393e": {
          "model_module": "@jupyter-widgets/controls",
          "model_name": "FloatProgressModel",
          "state": {
            "_view_name": "ProgressView",
            "style": "IPY_MODEL_5ae44b6171664d2b8bf43df540a8e722",
            "_dom_classes": [],
            "description": "Downloading: 100%",
            "_model_name": "FloatProgressModel",
            "bar_style": "success",
            "max": 466062,
            "_view_module": "@jupyter-widgets/controls",
            "_model_module_version": "1.5.0",
            "value": 466062,
            "_view_count": null,
            "_view_module_version": "1.5.0",
            "orientation": "horizontal",
            "min": 0,
            "description_tooltip": null,
            "_model_module": "@jupyter-widgets/controls",
            "layout": "IPY_MODEL_d2e772b9008b499295469d86390dd034"
          },
          "model_module_version": "1.5.0"
        },
        "2777a41580b243e7ad76ac9161139fd5": {
          "model_module": "@jupyter-widgets/controls",
          "model_name": "HTMLModel",
          "state": {
            "_view_name": "HTMLView",
            "style": "IPY_MODEL_14e4738bd80c4d1da6c38a7c7ef05133",
            "_dom_classes": [],
            "description": "",
            "_model_name": "HTMLModel",
            "placeholder": "​",
            "_view_module": "@jupyter-widgets/controls",
            "_model_module_version": "1.5.0",
            "value": " 466k/466k [00:01&lt;00:00, 412kB/s]",
            "_view_count": null,
            "_view_module_version": "1.5.0",
            "description_tooltip": null,
            "_model_module": "@jupyter-widgets/controls",
            "layout": "IPY_MODEL_9051f2c9fdf4441993e75b6d091680ed"
          },
          "model_module_version": "1.5.0"
        },
        "5ae44b6171664d2b8bf43df540a8e722": {
          "model_module": "@jupyter-widgets/controls",
          "model_name": "ProgressStyleModel",
          "state": {
            "_view_name": "StyleView",
            "_model_name": "ProgressStyleModel",
            "description_width": "initial",
            "_view_module": "@jupyter-widgets/base",
            "_model_module_version": "1.5.0",
            "_view_count": null,
            "_view_module_version": "1.2.0",
            "bar_color": null,
            "_model_module": "@jupyter-widgets/controls"
          },
          "model_module_version": "1.5.0"
        },
        "d2e772b9008b499295469d86390dd034": {
          "model_module": "@jupyter-widgets/base",
          "model_name": "LayoutModel",
          "state": {
            "_view_name": "LayoutView",
            "grid_template_rows": null,
            "right": null,
            "justify_content": null,
            "_view_module": "@jupyter-widgets/base",
            "overflow": null,
            "_model_module_version": "1.2.0",
            "_view_count": null,
            "flex_flow": null,
            "width": null,
            "min_width": null,
            "border": null,
            "align_items": null,
            "bottom": null,
            "_model_module": "@jupyter-widgets/base",
            "top": null,
            "grid_column": null,
            "overflow_y": null,
            "overflow_x": null,
            "grid_auto_flow": null,
            "grid_area": null,
            "grid_template_columns": null,
            "flex": null,
            "_model_name": "LayoutModel",
            "justify_items": null,
            "grid_row": null,
            "max_height": null,
            "align_content": null,
            "visibility": null,
            "align_self": null,
            "height": null,
            "min_height": null,
            "padding": null,
            "grid_auto_rows": null,
            "grid_gap": null,
            "max_width": null,
            "order": null,
            "_view_module_version": "1.2.0",
            "grid_template_areas": null,
            "object_position": null,
            "object_fit": null,
            "grid_auto_columns": null,
            "margin": null,
            "display": null,
            "left": null
          },
          "model_module_version": "1.2.0"
        },
        "14e4738bd80c4d1da6c38a7c7ef05133": {
          "model_module": "@jupyter-widgets/controls",
          "model_name": "DescriptionStyleModel",
          "state": {
            "_view_name": "StyleView",
            "_model_name": "DescriptionStyleModel",
            "description_width": "",
            "_view_module": "@jupyter-widgets/base",
            "_model_module_version": "1.5.0",
            "_view_count": null,
            "_view_module_version": "1.2.0",
            "_model_module": "@jupyter-widgets/controls"
          },
          "model_module_version": "1.5.0"
        },
        "9051f2c9fdf4441993e75b6d091680ed": {
          "model_module": "@jupyter-widgets/base",
          "model_name": "LayoutModel",
          "state": {
            "_view_name": "LayoutView",
            "grid_template_rows": null,
            "right": null,
            "justify_content": null,
            "_view_module": "@jupyter-widgets/base",
            "overflow": null,
            "_model_module_version": "1.2.0",
            "_view_count": null,
            "flex_flow": null,
            "width": null,
            "min_width": null,
            "border": null,
            "align_items": null,
            "bottom": null,
            "_model_module": "@jupyter-widgets/base",
            "top": null,
            "grid_column": null,
            "overflow_y": null,
            "overflow_x": null,
            "grid_auto_flow": null,
            "grid_area": null,
            "grid_template_columns": null,
            "flex": null,
            "_model_name": "LayoutModel",
            "justify_items": null,
            "grid_row": null,
            "max_height": null,
            "align_content": null,
            "visibility": null,
            "align_self": null,
            "height": null,
            "min_height": null,
            "padding": null,
            "grid_auto_rows": null,
            "grid_gap": null,
            "max_width": null,
            "order": null,
            "_view_module_version": "1.2.0",
            "grid_template_areas": null,
            "object_position": null,
            "object_fit": null,
            "grid_auto_columns": null,
            "margin": null,
            "display": null,
            "left": null
          },
          "model_module_version": "1.2.0"
        },
        "ff3fa512b531409fa9de7e13f3986817": {
          "model_module": "@jupyter-widgets/controls",
          "model_name": "HBoxModel",
          "state": {
            "_view_name": "HBoxView",
            "_dom_classes": [],
            "_model_name": "HBoxModel",
            "_view_module": "@jupyter-widgets/controls",
            "_model_module_version": "1.5.0",
            "_view_count": null,
            "_view_module_version": "1.5.0",
            "box_style": "",
            "layout": "IPY_MODEL_2c3649c2b369450ba234861a53c8c591",
            "_model_module": "@jupyter-widgets/controls",
            "children": [
              "IPY_MODEL_db2133eabda74022b7e1379e68d5da7d",
              "IPY_MODEL_7ea4daba11ee488e92c06f8ff8fbfb01"
            ]
          },
          "model_module_version": "1.5.0"
        },
        "2c3649c2b369450ba234861a53c8c591": {
          "model_module": "@jupyter-widgets/base",
          "model_name": "LayoutModel",
          "state": {
            "_view_name": "LayoutView",
            "grid_template_rows": null,
            "right": null,
            "justify_content": null,
            "_view_module": "@jupyter-widgets/base",
            "overflow": null,
            "_model_module_version": "1.2.0",
            "_view_count": null,
            "flex_flow": null,
            "width": null,
            "min_width": null,
            "border": null,
            "align_items": null,
            "bottom": null,
            "_model_module": "@jupyter-widgets/base",
            "top": null,
            "grid_column": null,
            "overflow_y": null,
            "overflow_x": null,
            "grid_auto_flow": null,
            "grid_area": null,
            "grid_template_columns": null,
            "flex": null,
            "_model_name": "LayoutModel",
            "justify_items": null,
            "grid_row": null,
            "max_height": null,
            "align_content": null,
            "visibility": null,
            "align_self": null,
            "height": null,
            "min_height": null,
            "padding": null,
            "grid_auto_rows": null,
            "grid_gap": null,
            "max_width": null,
            "order": null,
            "_view_module_version": "1.2.0",
            "grid_template_areas": null,
            "object_position": null,
            "object_fit": null,
            "grid_auto_columns": null,
            "margin": null,
            "display": null,
            "left": null
          },
          "model_module_version": "1.2.0"
        },
        "db2133eabda74022b7e1379e68d5da7d": {
          "model_module": "@jupyter-widgets/controls",
          "model_name": "FloatProgressModel",
          "state": {
            "_view_name": "ProgressView",
            "style": "IPY_MODEL_f6449aa713964978be7e9505693ca2fa",
            "_dom_classes": [],
            "description": "Downloading: 100%",
            "_model_name": "FloatProgressModel",
            "bar_style": "success",
            "max": 442,
            "_view_module": "@jupyter-widgets/controls",
            "_model_module_version": "1.5.0",
            "value": 442,
            "_view_count": null,
            "_view_module_version": "1.5.0",
            "orientation": "horizontal",
            "min": 0,
            "description_tooltip": null,
            "_model_module": "@jupyter-widgets/controls",
            "layout": "IPY_MODEL_ab49ac4dd4c34041833610918c0f72e1"
          },
          "model_module_version": "1.5.0"
        },
        "7ea4daba11ee488e92c06f8ff8fbfb01": {
          "model_module": "@jupyter-widgets/controls",
          "model_name": "HTMLModel",
          "state": {
            "_view_name": "HTMLView",
            "style": "IPY_MODEL_e8043aabde7242519f748ce22d9ec703",
            "_dom_classes": [],
            "description": "",
            "_model_name": "HTMLModel",
            "placeholder": "​",
            "_view_module": "@jupyter-widgets/controls",
            "_model_module_version": "1.5.0",
            "value": " 442/442 [00:00&lt;00:00, 1.72kB/s]",
            "_view_count": null,
            "_view_module_version": "1.5.0",
            "description_tooltip": null,
            "_model_module": "@jupyter-widgets/controls",
            "layout": "IPY_MODEL_46bb573656124c749e29b4358ae04b92"
          },
          "model_module_version": "1.5.0"
        },
        "f6449aa713964978be7e9505693ca2fa": {
          "model_module": "@jupyter-widgets/controls",
          "model_name": "ProgressStyleModel",
          "state": {
            "_view_name": "StyleView",
            "_model_name": "ProgressStyleModel",
            "description_width": "initial",
            "_view_module": "@jupyter-widgets/base",
            "_model_module_version": "1.5.0",
            "_view_count": null,
            "_view_module_version": "1.2.0",
            "bar_color": null,
            "_model_module": "@jupyter-widgets/controls"
          },
          "model_module_version": "1.5.0"
        },
        "ab49ac4dd4c34041833610918c0f72e1": {
          "model_module": "@jupyter-widgets/base",
          "model_name": "LayoutModel",
          "state": {
            "_view_name": "LayoutView",
            "grid_template_rows": null,
            "right": null,
            "justify_content": null,
            "_view_module": "@jupyter-widgets/base",
            "overflow": null,
            "_model_module_version": "1.2.0",
            "_view_count": null,
            "flex_flow": null,
            "width": null,
            "min_width": null,
            "border": null,
            "align_items": null,
            "bottom": null,
            "_model_module": "@jupyter-widgets/base",
            "top": null,
            "grid_column": null,
            "overflow_y": null,
            "overflow_x": null,
            "grid_auto_flow": null,
            "grid_area": null,
            "grid_template_columns": null,
            "flex": null,
            "_model_name": "LayoutModel",
            "justify_items": null,
            "grid_row": null,
            "max_height": null,
            "align_content": null,
            "visibility": null,
            "align_self": null,
            "height": null,
            "min_height": null,
            "padding": null,
            "grid_auto_rows": null,
            "grid_gap": null,
            "max_width": null,
            "order": null,
            "_view_module_version": "1.2.0",
            "grid_template_areas": null,
            "object_position": null,
            "object_fit": null,
            "grid_auto_columns": null,
            "margin": null,
            "display": null,
            "left": null
          },
          "model_module_version": "1.2.0"
        },
        "e8043aabde7242519f748ce22d9ec703": {
          "model_module": "@jupyter-widgets/controls",
          "model_name": "DescriptionStyleModel",
          "state": {
            "_view_name": "StyleView",
            "_model_name": "DescriptionStyleModel",
            "description_width": "",
            "_view_module": "@jupyter-widgets/base",
            "_model_module_version": "1.5.0",
            "_view_count": null,
            "_view_module_version": "1.2.0",
            "_model_module": "@jupyter-widgets/controls"
          },
          "model_module_version": "1.5.0"
        },
        "46bb573656124c749e29b4358ae04b92": {
          "model_module": "@jupyter-widgets/base",
          "model_name": "LayoutModel",
          "state": {
            "_view_name": "LayoutView",
            "grid_template_rows": null,
            "right": null,
            "justify_content": null,
            "_view_module": "@jupyter-widgets/base",
            "overflow": null,
            "_model_module_version": "1.2.0",
            "_view_count": null,
            "flex_flow": null,
            "width": null,
            "min_width": null,
            "border": null,
            "align_items": null,
            "bottom": null,
            "_model_module": "@jupyter-widgets/base",
            "top": null,
            "grid_column": null,
            "overflow_y": null,
            "overflow_x": null,
            "grid_auto_flow": null,
            "grid_area": null,
            "grid_template_columns": null,
            "flex": null,
            "_model_name": "LayoutModel",
            "justify_items": null,
            "grid_row": null,
            "max_height": null,
            "align_content": null,
            "visibility": null,
            "align_self": null,
            "height": null,
            "min_height": null,
            "padding": null,
            "grid_auto_rows": null,
            "grid_gap": null,
            "max_width": null,
            "order": null,
            "_view_module_version": "1.2.0",
            "grid_template_areas": null,
            "object_position": null,
            "object_fit": null,
            "grid_auto_columns": null,
            "margin": null,
            "display": null,
            "left": null
          },
          "model_module_version": "1.2.0"
        },
        "833d57b0739a4a30b88740550ae04fe4": {
          "model_module": "@jupyter-widgets/controls",
          "model_name": "HBoxModel",
          "state": {
            "_view_name": "HBoxView",
            "_dom_classes": [],
            "_model_name": "HBoxModel",
            "_view_module": "@jupyter-widgets/controls",
            "_model_module_version": "1.5.0",
            "_view_count": null,
            "_view_module_version": "1.5.0",
            "box_style": "",
            "layout": "IPY_MODEL_75eae132e50d41d892ca6d4aacc872dc",
            "_model_module": "@jupyter-widgets/controls",
            "children": [
              "IPY_MODEL_f5b1c80e74b74f1899296022ce5fc3f1",
              "IPY_MODEL_99848c7d159744b282a47de079f5e065"
            ]
          },
          "model_module_version": "1.5.0"
        },
        "75eae132e50d41d892ca6d4aacc872dc": {
          "model_module": "@jupyter-widgets/base",
          "model_name": "LayoutModel",
          "state": {
            "_view_name": "LayoutView",
            "grid_template_rows": null,
            "right": null,
            "justify_content": null,
            "_view_module": "@jupyter-widgets/base",
            "overflow": null,
            "_model_module_version": "1.2.0",
            "_view_count": null,
            "flex_flow": null,
            "width": null,
            "min_width": null,
            "border": null,
            "align_items": null,
            "bottom": null,
            "_model_module": "@jupyter-widgets/base",
            "top": null,
            "grid_column": null,
            "overflow_y": null,
            "overflow_x": null,
            "grid_auto_flow": null,
            "grid_area": null,
            "grid_template_columns": null,
            "flex": null,
            "_model_name": "LayoutModel",
            "justify_items": null,
            "grid_row": null,
            "max_height": null,
            "align_content": null,
            "visibility": null,
            "align_self": null,
            "height": null,
            "min_height": null,
            "padding": null,
            "grid_auto_rows": null,
            "grid_gap": null,
            "max_width": null,
            "order": null,
            "_view_module_version": "1.2.0",
            "grid_template_areas": null,
            "object_position": null,
            "object_fit": null,
            "grid_auto_columns": null,
            "margin": null,
            "display": null,
            "left": null
          },
          "model_module_version": "1.2.0"
        },
        "f5b1c80e74b74f1899296022ce5fc3f1": {
          "model_module": "@jupyter-widgets/controls",
          "model_name": "FloatProgressModel",
          "state": {
            "_view_name": "ProgressView",
            "style": "IPY_MODEL_89b1daa5caeb4f58a5f5cbbf147bb062",
            "_dom_classes": [],
            "description": "Downloading: 100%",
            "_model_name": "FloatProgressModel",
            "bar_style": "success",
            "max": 267967963,
            "_view_module": "@jupyter-widgets/controls",
            "_model_module_version": "1.5.0",
            "value": 267967963,
            "_view_count": null,
            "_view_module_version": "1.5.0",
            "orientation": "horizontal",
            "min": 0,
            "description_tooltip": null,
            "_model_module": "@jupyter-widgets/controls",
            "layout": "IPY_MODEL_9e476db2b8884c2b95806ada18491684"
          },
          "model_module_version": "1.5.0"
        },
        "99848c7d159744b282a47de079f5e065": {
          "model_module": "@jupyter-widgets/controls",
          "model_name": "HTMLModel",
          "state": {
            "_view_name": "HTMLView",
            "style": "IPY_MODEL_71169a20701544479f5719c346c6f764",
            "_dom_classes": [],
            "description": "",
            "_model_name": "HTMLModel",
            "placeholder": "​",
            "_view_module": "@jupyter-widgets/controls",
            "_model_module_version": "1.5.0",
            "value": " 268M/268M [00:06&lt;00:00, 44.5MB/s]",
            "_view_count": null,
            "_view_module_version": "1.5.0",
            "description_tooltip": null,
            "_model_module": "@jupyter-widgets/controls",
            "layout": "IPY_MODEL_5912cb86d7c246f9b10b1817d77ebb60"
          },
          "model_module_version": "1.5.0"
        },
        "89b1daa5caeb4f58a5f5cbbf147bb062": {
          "model_module": "@jupyter-widgets/controls",
          "model_name": "ProgressStyleModel",
          "state": {
            "_view_name": "StyleView",
            "_model_name": "ProgressStyleModel",
            "description_width": "initial",
            "_view_module": "@jupyter-widgets/base",
            "_model_module_version": "1.5.0",
            "_view_count": null,
            "_view_module_version": "1.2.0",
            "bar_color": null,
            "_model_module": "@jupyter-widgets/controls"
          },
          "model_module_version": "1.5.0"
        },
        "9e476db2b8884c2b95806ada18491684": {
          "model_module": "@jupyter-widgets/base",
          "model_name": "LayoutModel",
          "state": {
            "_view_name": "LayoutView",
            "grid_template_rows": null,
            "right": null,
            "justify_content": null,
            "_view_module": "@jupyter-widgets/base",
            "overflow": null,
            "_model_module_version": "1.2.0",
            "_view_count": null,
            "flex_flow": null,
            "width": null,
            "min_width": null,
            "border": null,
            "align_items": null,
            "bottom": null,
            "_model_module": "@jupyter-widgets/base",
            "top": null,
            "grid_column": null,
            "overflow_y": null,
            "overflow_x": null,
            "grid_auto_flow": null,
            "grid_area": null,
            "grid_template_columns": null,
            "flex": null,
            "_model_name": "LayoutModel",
            "justify_items": null,
            "grid_row": null,
            "max_height": null,
            "align_content": null,
            "visibility": null,
            "align_self": null,
            "height": null,
            "min_height": null,
            "padding": null,
            "grid_auto_rows": null,
            "grid_gap": null,
            "max_width": null,
            "order": null,
            "_view_module_version": "1.2.0",
            "grid_template_areas": null,
            "object_position": null,
            "object_fit": null,
            "grid_auto_columns": null,
            "margin": null,
            "display": null,
            "left": null
          },
          "model_module_version": "1.2.0"
        },
        "71169a20701544479f5719c346c6f764": {
          "model_module": "@jupyter-widgets/controls",
          "model_name": "DescriptionStyleModel",
          "state": {
            "_view_name": "StyleView",
            "_model_name": "DescriptionStyleModel",
            "description_width": "",
            "_view_module": "@jupyter-widgets/base",
            "_model_module_version": "1.5.0",
            "_view_count": null,
            "_view_module_version": "1.2.0",
            "_model_module": "@jupyter-widgets/controls"
          },
          "model_module_version": "1.5.0"
        },
        "5912cb86d7c246f9b10b1817d77ebb60": {
          "model_module": "@jupyter-widgets/base",
          "model_name": "LayoutModel",
          "state": {
            "_view_name": "LayoutView",
            "grid_template_rows": null,
            "right": null,
            "justify_content": null,
            "_view_module": "@jupyter-widgets/base",
            "overflow": null,
            "_model_module_version": "1.2.0",
            "_view_count": null,
            "flex_flow": null,
            "width": null,
            "min_width": null,
            "border": null,
            "align_items": null,
            "bottom": null,
            "_model_module": "@jupyter-widgets/base",
            "top": null,
            "grid_column": null,
            "overflow_y": null,
            "overflow_x": null,
            "grid_auto_flow": null,
            "grid_area": null,
            "grid_template_columns": null,
            "flex": null,
            "_model_name": "LayoutModel",
            "justify_items": null,
            "grid_row": null,
            "max_height": null,
            "align_content": null,
            "visibility": null,
            "align_self": null,
            "height": null,
            "min_height": null,
            "padding": null,
            "grid_auto_rows": null,
            "grid_gap": null,
            "max_width": null,
            "order": null,
            "_view_module_version": "1.2.0",
            "grid_template_areas": null,
            "object_position": null,
            "object_fit": null,
            "grid_auto_columns": null,
            "margin": null,
            "display": null,
            "left": null
          },
          "model_module_version": "1.2.0"
        },
        "b3471bbc6b0945608949d925d76b4610": {
          "model_module": "@jupyter-widgets/controls",
          "model_name": "HBoxModel",
          "state": {
            "_view_name": "HBoxView",
            "_dom_classes": [],
            "_model_name": "HBoxModel",
            "_view_module": "@jupyter-widgets/controls",
            "_model_module_version": "1.5.0",
            "_view_count": null,
            "_view_module_version": "1.5.0",
            "box_style": "",
            "layout": "IPY_MODEL_6559df4179a240edabbe41e0f88b1c79",
            "_model_module": "@jupyter-widgets/controls",
            "children": [
              "IPY_MODEL_696f6433d7c74a188c81950aac96355e",
              "IPY_MODEL_5d03dc73bab440ba9a3777e8ecd8f5fa"
            ]
          },
          "model_module_version": "1.5.0"
        },
        "6559df4179a240edabbe41e0f88b1c79": {
          "model_module": "@jupyter-widgets/base",
          "model_name": "LayoutModel",
          "state": {
            "_view_name": "LayoutView",
            "grid_template_rows": null,
            "right": null,
            "justify_content": null,
            "_view_module": "@jupyter-widgets/base",
            "overflow": null,
            "_model_module_version": "1.2.0",
            "_view_count": null,
            "flex_flow": null,
            "width": null,
            "min_width": null,
            "border": null,
            "align_items": null,
            "bottom": null,
            "_model_module": "@jupyter-widgets/base",
            "top": null,
            "grid_column": null,
            "overflow_y": null,
            "overflow_x": null,
            "grid_auto_flow": null,
            "grid_area": null,
            "grid_template_columns": null,
            "flex": null,
            "_model_name": "LayoutModel",
            "justify_items": null,
            "grid_row": null,
            "max_height": null,
            "align_content": null,
            "visibility": null,
            "align_self": null,
            "height": null,
            "min_height": null,
            "padding": null,
            "grid_auto_rows": null,
            "grid_gap": null,
            "max_width": null,
            "order": null,
            "_view_module_version": "1.2.0",
            "grid_template_areas": null,
            "object_position": null,
            "object_fit": null,
            "grid_auto_columns": null,
            "margin": null,
            "display": null,
            "left": null
          },
          "model_module_version": "1.2.0"
        },
        "696f6433d7c74a188c81950aac96355e": {
          "model_module": "@jupyter-widgets/controls",
          "model_name": "FloatProgressModel",
          "state": {
            "_view_name": "ProgressView",
            "style": "IPY_MODEL_bfd7e8a0dee141189ac858ef7f718a0e",
            "_dom_classes": [],
            "description": "Epochs: 100%",
            "_model_name": "FloatProgressModel",
            "bar_style": "success",
            "max": 1,
            "_view_module": "@jupyter-widgets/controls",
            "_model_module_version": "1.5.0",
            "value": 1,
            "_view_count": null,
            "_view_module_version": "1.5.0",
            "orientation": "horizontal",
            "min": 0,
            "description_tooltip": null,
            "_model_module": "@jupyter-widgets/controls",
            "layout": "IPY_MODEL_6e39ef4776964080a99985314ab2183f"
          },
          "model_module_version": "1.5.0"
        },
        "5d03dc73bab440ba9a3777e8ecd8f5fa": {
          "model_module": "@jupyter-widgets/controls",
          "model_name": "HTMLModel",
          "state": {
            "_view_name": "HTMLView",
            "style": "IPY_MODEL_8b24d15f0c6d4d3b9a3d6ae6287821d7",
            "_dom_classes": [],
            "description": "",
            "_model_name": "HTMLModel",
            "placeholder": "​",
            "_view_module": "@jupyter-widgets/controls",
            "_model_module_version": "1.5.0",
            "value": " 1/1 [3:29:58&lt;00:00, 12598.36s/it]",
            "_view_count": null,
            "_view_module_version": "1.5.0",
            "description_tooltip": null,
            "_model_module": "@jupyter-widgets/controls",
            "layout": "IPY_MODEL_8792a0e9b8d64856b56b2c6815606960"
          },
          "model_module_version": "1.5.0"
        },
        "bfd7e8a0dee141189ac858ef7f718a0e": {
          "model_module": "@jupyter-widgets/controls",
          "model_name": "ProgressStyleModel",
          "state": {
            "_view_name": "StyleView",
            "_model_name": "ProgressStyleModel",
            "description_width": "initial",
            "_view_module": "@jupyter-widgets/base",
            "_model_module_version": "1.5.0",
            "_view_count": null,
            "_view_module_version": "1.2.0",
            "bar_color": null,
            "_model_module": "@jupyter-widgets/controls"
          },
          "model_module_version": "1.5.0"
        },
        "6e39ef4776964080a99985314ab2183f": {
          "model_module": "@jupyter-widgets/base",
          "model_name": "LayoutModel",
          "state": {
            "_view_name": "LayoutView",
            "grid_template_rows": null,
            "right": null,
            "justify_content": null,
            "_view_module": "@jupyter-widgets/base",
            "overflow": null,
            "_model_module_version": "1.2.0",
            "_view_count": null,
            "flex_flow": null,
            "width": null,
            "min_width": null,
            "border": null,
            "align_items": null,
            "bottom": null,
            "_model_module": "@jupyter-widgets/base",
            "top": null,
            "grid_column": null,
            "overflow_y": null,
            "overflow_x": null,
            "grid_auto_flow": null,
            "grid_area": null,
            "grid_template_columns": null,
            "flex": null,
            "_model_name": "LayoutModel",
            "justify_items": null,
            "grid_row": null,
            "max_height": null,
            "align_content": null,
            "visibility": null,
            "align_self": null,
            "height": null,
            "min_height": null,
            "padding": null,
            "grid_auto_rows": null,
            "grid_gap": null,
            "max_width": null,
            "order": null,
            "_view_module_version": "1.2.0",
            "grid_template_areas": null,
            "object_position": null,
            "object_fit": null,
            "grid_auto_columns": null,
            "margin": null,
            "display": null,
            "left": null
          },
          "model_module_version": "1.2.0"
        },
        "8b24d15f0c6d4d3b9a3d6ae6287821d7": {
          "model_module": "@jupyter-widgets/controls",
          "model_name": "DescriptionStyleModel",
          "state": {
            "_view_name": "StyleView",
            "_model_name": "DescriptionStyleModel",
            "description_width": "",
            "_view_module": "@jupyter-widgets/base",
            "_model_module_version": "1.5.0",
            "_view_count": null,
            "_view_module_version": "1.2.0",
            "_model_module": "@jupyter-widgets/controls"
          },
          "model_module_version": "1.5.0"
        },
        "8792a0e9b8d64856b56b2c6815606960": {
          "model_module": "@jupyter-widgets/base",
          "model_name": "LayoutModel",
          "state": {
            "_view_name": "LayoutView",
            "grid_template_rows": null,
            "right": null,
            "justify_content": null,
            "_view_module": "@jupyter-widgets/base",
            "overflow": null,
            "_model_module_version": "1.2.0",
            "_view_count": null,
            "flex_flow": null,
            "width": null,
            "min_width": null,
            "border": null,
            "align_items": null,
            "bottom": null,
            "_model_module": "@jupyter-widgets/base",
            "top": null,
            "grid_column": null,
            "overflow_y": null,
            "overflow_x": null,
            "grid_auto_flow": null,
            "grid_area": null,
            "grid_template_columns": null,
            "flex": null,
            "_model_name": "LayoutModel",
            "justify_items": null,
            "grid_row": null,
            "max_height": null,
            "align_content": null,
            "visibility": null,
            "align_self": null,
            "height": null,
            "min_height": null,
            "padding": null,
            "grid_auto_rows": null,
            "grid_gap": null,
            "max_width": null,
            "order": null,
            "_view_module_version": "1.2.0",
            "grid_template_areas": null,
            "object_position": null,
            "object_fit": null,
            "grid_auto_columns": null,
            "margin": null,
            "display": null,
            "left": null
          },
          "model_module_version": "1.2.0"
        },
        "a31f86d7e073430c98512c70d86ca024": {
          "model_module": "@jupyter-widgets/controls",
          "model_name": "HBoxModel",
          "state": {
            "_view_name": "HBoxView",
            "_dom_classes": [],
            "_model_name": "HBoxModel",
            "_view_module": "@jupyter-widgets/controls",
            "_model_module_version": "1.5.0",
            "_view_count": null,
            "_view_module_version": "1.5.0",
            "box_style": "",
            "layout": "IPY_MODEL_aa0cf9fa70404c53af6ad6c4bc39338c",
            "_model_module": "@jupyter-widgets/controls",
            "children": [
              "IPY_MODEL_2f23f68188904e76a52a0d5527033deb",
              "IPY_MODEL_7bb0f395048447caa24e0661fded7754"
            ]
          },
          "model_module_version": "1.5.0"
        },
        "aa0cf9fa70404c53af6ad6c4bc39338c": {
          "model_module": "@jupyter-widgets/base",
          "model_name": "LayoutModel",
          "state": {
            "_view_name": "LayoutView",
            "grid_template_rows": null,
            "right": null,
            "justify_content": null,
            "_view_module": "@jupyter-widgets/base",
            "overflow": null,
            "_model_module_version": "1.2.0",
            "_view_count": null,
            "flex_flow": null,
            "width": null,
            "min_width": null,
            "border": null,
            "align_items": null,
            "bottom": null,
            "_model_module": "@jupyter-widgets/base",
            "top": null,
            "grid_column": null,
            "overflow_y": null,
            "overflow_x": null,
            "grid_auto_flow": null,
            "grid_area": null,
            "grid_template_columns": null,
            "flex": null,
            "_model_name": "LayoutModel",
            "justify_items": null,
            "grid_row": null,
            "max_height": null,
            "align_content": null,
            "visibility": null,
            "align_self": null,
            "height": null,
            "min_height": null,
            "padding": null,
            "grid_auto_rows": null,
            "grid_gap": null,
            "max_width": null,
            "order": null,
            "_view_module_version": "1.2.0",
            "grid_template_areas": null,
            "object_position": null,
            "object_fit": null,
            "grid_auto_columns": null,
            "margin": null,
            "display": null,
            "left": null
          },
          "model_module_version": "1.2.0"
        },
        "2f23f68188904e76a52a0d5527033deb": {
          "model_module": "@jupyter-widgets/controls",
          "model_name": "FloatProgressModel",
          "state": {
            "_view_name": "ProgressView",
            "style": "IPY_MODEL_c8c34131b5194bc58c1dba5f02b9e45a",
            "_dom_classes": [],
            "description": "Training Batches: 100%",
            "_model_name": "FloatProgressModel",
            "bar_style": "",
            "max": 8688,
            "_view_module": "@jupyter-widgets/controls",
            "_model_module_version": "1.5.0",
            "value": 8688,
            "_view_count": null,
            "_view_module_version": "1.5.0",
            "orientation": "horizontal",
            "min": 0,
            "description_tooltip": null,
            "_model_module": "@jupyter-widgets/controls",
            "layout": "IPY_MODEL_a1ec58b0efa440c29291faf431cfd831"
          },
          "model_module_version": "1.5.0"
        },
        "7bb0f395048447caa24e0661fded7754": {
          "model_module": "@jupyter-widgets/controls",
          "model_name": "HTMLModel",
          "state": {
            "_view_name": "HTMLView",
            "style": "IPY_MODEL_92ac162efa90454b8488d9979b6d2f41",
            "_dom_classes": [],
            "description": "",
            "_model_name": "HTMLModel",
            "placeholder": "​",
            "_view_module": "@jupyter-widgets/controls",
            "_model_module_version": "1.5.0",
            "value": " 8688/8688 [20:56&lt;00:00,  7.36it/s]",
            "_view_count": null,
            "_view_module_version": "1.5.0",
            "description_tooltip": null,
            "_model_module": "@jupyter-widgets/controls",
            "layout": "IPY_MODEL_2cb9144be40048d08836d7297b80fb0d"
          },
          "model_module_version": "1.5.0"
        },
        "c8c34131b5194bc58c1dba5f02b9e45a": {
          "model_module": "@jupyter-widgets/controls",
          "model_name": "ProgressStyleModel",
          "state": {
            "_view_name": "StyleView",
            "_model_name": "ProgressStyleModel",
            "description_width": "initial",
            "_view_module": "@jupyter-widgets/base",
            "_model_module_version": "1.5.0",
            "_view_count": null,
            "_view_module_version": "1.2.0",
            "bar_color": null,
            "_model_module": "@jupyter-widgets/controls"
          },
          "model_module_version": "1.5.0"
        },
        "a1ec58b0efa440c29291faf431cfd831": {
          "model_module": "@jupyter-widgets/base",
          "model_name": "LayoutModel",
          "state": {
            "_view_name": "LayoutView",
            "grid_template_rows": null,
            "right": null,
            "justify_content": null,
            "_view_module": "@jupyter-widgets/base",
            "overflow": null,
            "_model_module_version": "1.2.0",
            "_view_count": null,
            "flex_flow": null,
            "width": null,
            "min_width": null,
            "border": null,
            "align_items": null,
            "bottom": null,
            "_model_module": "@jupyter-widgets/base",
            "top": null,
            "grid_column": null,
            "overflow_y": null,
            "overflow_x": null,
            "grid_auto_flow": null,
            "grid_area": null,
            "grid_template_columns": null,
            "flex": null,
            "_model_name": "LayoutModel",
            "justify_items": null,
            "grid_row": null,
            "max_height": null,
            "align_content": null,
            "visibility": null,
            "align_self": null,
            "height": null,
            "min_height": null,
            "padding": null,
            "grid_auto_rows": null,
            "grid_gap": null,
            "max_width": null,
            "order": null,
            "_view_module_version": "1.2.0",
            "grid_template_areas": null,
            "object_position": null,
            "object_fit": null,
            "grid_auto_columns": null,
            "margin": null,
            "display": null,
            "left": null
          },
          "model_module_version": "1.2.0"
        },
        "92ac162efa90454b8488d9979b6d2f41": {
          "model_module": "@jupyter-widgets/controls",
          "model_name": "DescriptionStyleModel",
          "state": {
            "_view_name": "StyleView",
            "_model_name": "DescriptionStyleModel",
            "description_width": "",
            "_view_module": "@jupyter-widgets/base",
            "_model_module_version": "1.5.0",
            "_view_count": null,
            "_view_module_version": "1.2.0",
            "_model_module": "@jupyter-widgets/controls"
          },
          "model_module_version": "1.5.0"
        },
        "2cb9144be40048d08836d7297b80fb0d": {
          "model_module": "@jupyter-widgets/base",
          "model_name": "LayoutModel",
          "state": {
            "_view_name": "LayoutView",
            "grid_template_rows": null,
            "right": null,
            "justify_content": null,
            "_view_module": "@jupyter-widgets/base",
            "overflow": null,
            "_model_module_version": "1.2.0",
            "_view_count": null,
            "flex_flow": null,
            "width": null,
            "min_width": null,
            "border": null,
            "align_items": null,
            "bottom": null,
            "_model_module": "@jupyter-widgets/base",
            "top": null,
            "grid_column": null,
            "overflow_y": null,
            "overflow_x": null,
            "grid_auto_flow": null,
            "grid_area": null,
            "grid_template_columns": null,
            "flex": null,
            "_model_name": "LayoutModel",
            "justify_items": null,
            "grid_row": null,
            "max_height": null,
            "align_content": null,
            "visibility": null,
            "align_self": null,
            "height": null,
            "min_height": null,
            "padding": null,
            "grid_auto_rows": null,
            "grid_gap": null,
            "max_width": null,
            "order": null,
            "_view_module_version": "1.2.0",
            "grid_template_areas": null,
            "object_position": null,
            "object_fit": null,
            "grid_auto_columns": null,
            "margin": null,
            "display": null,
            "left": null
          },
          "model_module_version": "1.2.0"
        },
        "e70037368e59447a8260c5955bd95163": {
          "model_module": "@jupyter-widgets/controls",
          "model_name": "HBoxModel",
          "state": {
            "_view_name": "HBoxView",
            "_dom_classes": [],
            "_model_name": "HBoxModel",
            "_view_module": "@jupyter-widgets/controls",
            "_model_module_version": "1.5.0",
            "_view_count": null,
            "_view_module_version": "1.5.0",
            "box_style": "",
            "layout": "IPY_MODEL_1c08c96182d44482aaecec72f82fed2b",
            "_model_module": "@jupyter-widgets/controls",
            "children": [
              "IPY_MODEL_7ecc1d1551a641a983e7da3fc0d75912",
              "IPY_MODEL_1571d37a20c64c138ce615a1b738aa3e"
            ]
          },
          "model_module_version": "1.5.0"
        },
        "1c08c96182d44482aaecec72f82fed2b": {
          "model_module": "@jupyter-widgets/base",
          "model_name": "LayoutModel",
          "state": {
            "_view_name": "LayoutView",
            "grid_template_rows": null,
            "right": null,
            "justify_content": null,
            "_view_module": "@jupyter-widgets/base",
            "overflow": null,
            "_model_module_version": "1.2.0",
            "_view_count": null,
            "flex_flow": null,
            "width": null,
            "min_width": null,
            "border": null,
            "align_items": null,
            "bottom": null,
            "_model_module": "@jupyter-widgets/base",
            "top": null,
            "grid_column": null,
            "overflow_y": null,
            "overflow_x": null,
            "grid_auto_flow": null,
            "grid_area": null,
            "grid_template_columns": null,
            "flex": null,
            "_model_name": "LayoutModel",
            "justify_items": null,
            "grid_row": null,
            "max_height": null,
            "align_content": null,
            "visibility": null,
            "align_self": null,
            "height": null,
            "min_height": null,
            "padding": null,
            "grid_auto_rows": null,
            "grid_gap": null,
            "max_width": null,
            "order": null,
            "_view_module_version": "1.2.0",
            "grid_template_areas": null,
            "object_position": null,
            "object_fit": null,
            "grid_auto_columns": null,
            "margin": null,
            "display": null,
            "left": null
          },
          "model_module_version": "1.2.0"
        },
        "7ecc1d1551a641a983e7da3fc0d75912": {
          "model_module": "@jupyter-widgets/controls",
          "model_name": "FloatProgressModel",
          "state": {
            "_view_name": "ProgressView",
            "style": "IPY_MODEL_d5ffa0138aba4c11869bd2fb062e9157",
            "_dom_classes": [],
            "description": "Validation Batches: 100%",
            "_model_name": "FloatProgressModel",
            "bar_style": "",
            "max": 26064,
            "_view_module": "@jupyter-widgets/controls",
            "_model_module_version": "1.5.0",
            "value": 26064,
            "_view_count": null,
            "_view_module_version": "1.5.0",
            "orientation": "horizontal",
            "min": 0,
            "description_tooltip": null,
            "_model_module": "@jupyter-widgets/controls",
            "layout": "IPY_MODEL_49125ec2f759446590e6ba798bdcbfd8"
          },
          "model_module_version": "1.5.0"
        },
        "1571d37a20c64c138ce615a1b738aa3e": {
          "model_module": "@jupyter-widgets/controls",
          "model_name": "HTMLModel",
          "state": {
            "_view_name": "HTMLView",
            "style": "IPY_MODEL_a958afeaf41a4fb4b06ae0ac38ff4b37",
            "_dom_classes": [],
            "description": "",
            "_model_name": "HTMLModel",
            "placeholder": "​",
            "_view_module": "@jupyter-widgets/controls",
            "_model_module_version": "1.5.0",
            "value": " 26064/26064 [03:50&lt;00:00, 110.65it/s]",
            "_view_count": null,
            "_view_module_version": "1.5.0",
            "description_tooltip": null,
            "_model_module": "@jupyter-widgets/controls",
            "layout": "IPY_MODEL_28fc3652267943068719754e27bdb710"
          },
          "model_module_version": "1.5.0"
        },
        "d5ffa0138aba4c11869bd2fb062e9157": {
          "model_module": "@jupyter-widgets/controls",
          "model_name": "ProgressStyleModel",
          "state": {
            "_view_name": "StyleView",
            "_model_name": "ProgressStyleModel",
            "description_width": "initial",
            "_view_module": "@jupyter-widgets/base",
            "_model_module_version": "1.5.0",
            "_view_count": null,
            "_view_module_version": "1.2.0",
            "bar_color": null,
            "_model_module": "@jupyter-widgets/controls"
          },
          "model_module_version": "1.5.0"
        },
        "49125ec2f759446590e6ba798bdcbfd8": {
          "model_module": "@jupyter-widgets/base",
          "model_name": "LayoutModel",
          "state": {
            "_view_name": "LayoutView",
            "grid_template_rows": null,
            "right": null,
            "justify_content": null,
            "_view_module": "@jupyter-widgets/base",
            "overflow": null,
            "_model_module_version": "1.2.0",
            "_view_count": null,
            "flex_flow": null,
            "width": null,
            "min_width": null,
            "border": null,
            "align_items": null,
            "bottom": null,
            "_model_module": "@jupyter-widgets/base",
            "top": null,
            "grid_column": null,
            "overflow_y": null,
            "overflow_x": null,
            "grid_auto_flow": null,
            "grid_area": null,
            "grid_template_columns": null,
            "flex": null,
            "_model_name": "LayoutModel",
            "justify_items": null,
            "grid_row": null,
            "max_height": null,
            "align_content": null,
            "visibility": null,
            "align_self": null,
            "height": null,
            "min_height": null,
            "padding": null,
            "grid_auto_rows": null,
            "grid_gap": null,
            "max_width": null,
            "order": null,
            "_view_module_version": "1.2.0",
            "grid_template_areas": null,
            "object_position": null,
            "object_fit": null,
            "grid_auto_columns": null,
            "margin": null,
            "display": null,
            "left": null
          },
          "model_module_version": "1.2.0"
        },
        "a958afeaf41a4fb4b06ae0ac38ff4b37": {
          "model_module": "@jupyter-widgets/controls",
          "model_name": "DescriptionStyleModel",
          "state": {
            "_view_name": "StyleView",
            "_model_name": "DescriptionStyleModel",
            "description_width": "",
            "_view_module": "@jupyter-widgets/base",
            "_model_module_version": "1.5.0",
            "_view_count": null,
            "_view_module_version": "1.2.0",
            "_model_module": "@jupyter-widgets/controls"
          },
          "model_module_version": "1.5.0"
        },
        "28fc3652267943068719754e27bdb710": {
          "model_module": "@jupyter-widgets/base",
          "model_name": "LayoutModel",
          "state": {
            "_view_name": "LayoutView",
            "grid_template_rows": null,
            "right": null,
            "justify_content": null,
            "_view_module": "@jupyter-widgets/base",
            "overflow": null,
            "_model_module_version": "1.2.0",
            "_view_count": null,
            "flex_flow": null,
            "width": null,
            "min_width": null,
            "border": null,
            "align_items": null,
            "bottom": null,
            "_model_module": "@jupyter-widgets/base",
            "top": null,
            "grid_column": null,
            "overflow_y": null,
            "overflow_x": null,
            "grid_auto_flow": null,
            "grid_area": null,
            "grid_template_columns": null,
            "flex": null,
            "_model_name": "LayoutModel",
            "justify_items": null,
            "grid_row": null,
            "max_height": null,
            "align_content": null,
            "visibility": null,
            "align_self": null,
            "height": null,
            "min_height": null,
            "padding": null,
            "grid_auto_rows": null,
            "grid_gap": null,
            "max_width": null,
            "order": null,
            "_view_module_version": "1.2.0",
            "grid_template_areas": null,
            "object_position": null,
            "object_fit": null,
            "grid_auto_columns": null,
            "margin": null,
            "display": null,
            "left": null
          },
          "model_module_version": "1.2.0"
        },
        "8aa07a311c2f46318b469cec28a2c6a4": {
          "model_module": "@jupyter-widgets/controls",
          "model_name": "HBoxModel",
          "state": {
            "_view_name": "HBoxView",
            "_dom_classes": [],
            "_model_name": "HBoxModel",
            "_view_module": "@jupyter-widgets/controls",
            "_model_module_version": "1.5.0",
            "_view_count": null,
            "_view_module_version": "1.5.0",
            "box_style": "",
            "layout": "IPY_MODEL_5c29107da89b4769872b5aa754224c23",
            "_model_module": "@jupyter-widgets/controls",
            "children": [
              "IPY_MODEL_43299b8e769c4644aaef0df92c202482",
              "IPY_MODEL_270526b913ca417da0bd87aab1f9fa0a"
            ]
          },
          "model_module_version": "1.5.0"
        },
        "5c29107da89b4769872b5aa754224c23": {
          "model_module": "@jupyter-widgets/base",
          "model_name": "LayoutModel",
          "state": {
            "_view_name": "LayoutView",
            "grid_template_rows": null,
            "right": null,
            "justify_content": null,
            "_view_module": "@jupyter-widgets/base",
            "overflow": null,
            "_model_module_version": "1.2.0",
            "_view_count": null,
            "flex_flow": null,
            "width": null,
            "min_width": null,
            "border": null,
            "align_items": null,
            "bottom": null,
            "_model_module": "@jupyter-widgets/base",
            "top": null,
            "grid_column": null,
            "overflow_y": null,
            "overflow_x": null,
            "grid_auto_flow": null,
            "grid_area": null,
            "grid_template_columns": null,
            "flex": null,
            "_model_name": "LayoutModel",
            "justify_items": null,
            "grid_row": null,
            "max_height": null,
            "align_content": null,
            "visibility": null,
            "align_self": null,
            "height": null,
            "min_height": null,
            "padding": null,
            "grid_auto_rows": null,
            "grid_gap": null,
            "max_width": null,
            "order": null,
            "_view_module_version": "1.2.0",
            "grid_template_areas": null,
            "object_position": null,
            "object_fit": null,
            "grid_auto_columns": null,
            "margin": null,
            "display": null,
            "left": null
          },
          "model_module_version": "1.2.0"
        },
        "43299b8e769c4644aaef0df92c202482": {
          "model_module": "@jupyter-widgets/controls",
          "model_name": "FloatProgressModel",
          "state": {
            "_view_name": "ProgressView",
            "style": "IPY_MODEL_6e9384ccafef4fc9917b6aed97925eea",
            "_dom_classes": [],
            "description": "Validation Batches: 100%",
            "_model_name": "FloatProgressModel",
            "bar_style": "",
            "max": 26064,
            "_view_module": "@jupyter-widgets/controls",
            "_model_module_version": "1.5.0",
            "value": 26064,
            "_view_count": null,
            "_view_module_version": "1.5.0",
            "orientation": "horizontal",
            "min": 0,
            "description_tooltip": null,
            "_model_module": "@jupyter-widgets/controls",
            "layout": "IPY_MODEL_b9dea54512414d5ebc9db0fbb197f37b"
          },
          "model_module_version": "1.5.0"
        },
        "270526b913ca417da0bd87aab1f9fa0a": {
          "model_module": "@jupyter-widgets/controls",
          "model_name": "HTMLModel",
          "state": {
            "_view_name": "HTMLView",
            "style": "IPY_MODEL_7ee6dd438443417b904697bf747390f2",
            "_dom_classes": [],
            "description": "",
            "_model_name": "HTMLModel",
            "placeholder": "​",
            "_view_module": "@jupyter-widgets/controls",
            "_model_module_version": "1.5.0",
            "value": " 26064/26064 [03:50&lt;00:00, 114.57it/s]",
            "_view_count": null,
            "_view_module_version": "1.5.0",
            "description_tooltip": null,
            "_model_module": "@jupyter-widgets/controls",
            "layout": "IPY_MODEL_4ca0b0f047ba46fb910377db66a8d8c4"
          },
          "model_module_version": "1.5.0"
        },
        "6e9384ccafef4fc9917b6aed97925eea": {
          "model_module": "@jupyter-widgets/controls",
          "model_name": "ProgressStyleModel",
          "state": {
            "_view_name": "StyleView",
            "_model_name": "ProgressStyleModel",
            "description_width": "initial",
            "_view_module": "@jupyter-widgets/base",
            "_model_module_version": "1.5.0",
            "_view_count": null,
            "_view_module_version": "1.2.0",
            "bar_color": null,
            "_model_module": "@jupyter-widgets/controls"
          },
          "model_module_version": "1.5.0"
        },
        "b9dea54512414d5ebc9db0fbb197f37b": {
          "model_module": "@jupyter-widgets/base",
          "model_name": "LayoutModel",
          "state": {
            "_view_name": "LayoutView",
            "grid_template_rows": null,
            "right": null,
            "justify_content": null,
            "_view_module": "@jupyter-widgets/base",
            "overflow": null,
            "_model_module_version": "1.2.0",
            "_view_count": null,
            "flex_flow": null,
            "width": null,
            "min_width": null,
            "border": null,
            "align_items": null,
            "bottom": null,
            "_model_module": "@jupyter-widgets/base",
            "top": null,
            "grid_column": null,
            "overflow_y": null,
            "overflow_x": null,
            "grid_auto_flow": null,
            "grid_area": null,
            "grid_template_columns": null,
            "flex": null,
            "_model_name": "LayoutModel",
            "justify_items": null,
            "grid_row": null,
            "max_height": null,
            "align_content": null,
            "visibility": null,
            "align_self": null,
            "height": null,
            "min_height": null,
            "padding": null,
            "grid_auto_rows": null,
            "grid_gap": null,
            "max_width": null,
            "order": null,
            "_view_module_version": "1.2.0",
            "grid_template_areas": null,
            "object_position": null,
            "object_fit": null,
            "grid_auto_columns": null,
            "margin": null,
            "display": null,
            "left": null
          },
          "model_module_version": "1.2.0"
        },
        "7ee6dd438443417b904697bf747390f2": {
          "model_module": "@jupyter-widgets/controls",
          "model_name": "DescriptionStyleModel",
          "state": {
            "_view_name": "StyleView",
            "_model_name": "DescriptionStyleModel",
            "description_width": "",
            "_view_module": "@jupyter-widgets/base",
            "_model_module_version": "1.5.0",
            "_view_count": null,
            "_view_module_version": "1.2.0",
            "_model_module": "@jupyter-widgets/controls"
          },
          "model_module_version": "1.5.0"
        },
        "4ca0b0f047ba46fb910377db66a8d8c4": {
          "model_module": "@jupyter-widgets/base",
          "model_name": "LayoutModel",
          "state": {
            "_view_name": "LayoutView",
            "grid_template_rows": null,
            "right": null,
            "justify_content": null,
            "_view_module": "@jupyter-widgets/base",
            "overflow": null,
            "_model_module_version": "1.2.0",
            "_view_count": null,
            "flex_flow": null,
            "width": null,
            "min_width": null,
            "border": null,
            "align_items": null,
            "bottom": null,
            "_model_module": "@jupyter-widgets/base",
            "top": null,
            "grid_column": null,
            "overflow_y": null,
            "overflow_x": null,
            "grid_auto_flow": null,
            "grid_area": null,
            "grid_template_columns": null,
            "flex": null,
            "_model_name": "LayoutModel",
            "justify_items": null,
            "grid_row": null,
            "max_height": null,
            "align_content": null,
            "visibility": null,
            "align_self": null,
            "height": null,
            "min_height": null,
            "padding": null,
            "grid_auto_rows": null,
            "grid_gap": null,
            "max_width": null,
            "order": null,
            "_view_module_version": "1.2.0",
            "grid_template_areas": null,
            "object_position": null,
            "object_fit": null,
            "grid_auto_columns": null,
            "margin": null,
            "display": null,
            "left": null
          },
          "model_module_version": "1.2.0"
        }
      }
    }
  },
  "cells": [
    {
      "cell_type": "markdown",
      "metadata": {
        "id": "ZNdFlbLJoUXM"
      },
      "source": [
        "# Project 4: Question Answering on Squad\n",
        "## CS4740/5740 Fall 2020\n",
        "\n",
        "\n"
      ]
    },
    {
      "cell_type": "markdown",
      "metadata": {
        "id": "871f2XhgtoYX"
      },
      "source": [
        "Name: Jennifer Russell\n"
      ]
    },
    {
      "cell_type": "markdown",
      "metadata": {
        "id": "iguUiw0mor52"
      },
      "source": [
        "# Overview\n",
        "\n",
        "---\n",
        "\n",
        "In this project you will develop NLP models for question-answering tasks. Specifically, you will train models on the SQuAD 2.0 dataset which contains questions on text segments from Wikipedia. The dataset aims to measure the reading comprehension capabilities of machines. Some examples from the main paper are given below. For Project 4, the task is divided into two parts. First, you will decide on a model by yourself and train it on this task. Secondly, you will fine-tune a pretrained model. \n",
        "\n",
        "\n"
      ]
    },
    {
      "cell_type": "markdown",
      "metadata": {
        "id": "qrjCQA7uWgQ2"
      },
      "source": [
        "![Screen Shot 2020-11-16 at 12.38.55 PM.png](data:image/png;base64,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)"
      ]
    },
    {
      "cell_type": "markdown",
      "metadata": {
        "id": "sGG5rb9Hp6Yx"
      },
      "source": [
        "# Task and dataset\n",
        "\n",
        "---\n",
        "\n",
        "Obtain the data from [here](https://p4-squad-data.s3.us-east-2.amazonaws.com/train-v2.0.json). You also may consider doing so in a code block below.\n",
        "\n",
        "```bash\n",
        "!wget https://p4-squad-data.s3.us-east-2.amazonaws.com/train-v2.0.json\n",
        "```\n",
        "\n",
        "This gives you the dataset containing about 130,319 examples. You should split this into a **train** and **validation** dataset as in Project 2.\n"
      ]
    },
    {
      "cell_type": "code",
      "metadata": {
        "colab": {
          "base_uri": "https://localhost:8080/"
        },
        "id": "IwqLnWb-IEhr",
        "outputId": "2ef7ac02-d72e-4053-f1a7-0714cc696274"
      },
      "source": [
        "!python -m spacy download en_core_web_md"
      ],
      "execution_count": null,
      "outputs": [
        {
          "output_type": "stream",
          "text": [
            "Collecting en_core_web_md==2.2.5\n",
            "\u001b[?25l  Downloading https://github.com/explosion/spacy-models/releases/download/en_core_web_md-2.2.5/en_core_web_md-2.2.5.tar.gz (96.4MB)\n",
            "\u001b[K     |████████████████████████████████| 96.4MB 1.2MB/s \n",
            "\u001b[?25hRequirement already satisfied: spacy>=2.2.2 in /usr/local/lib/python3.6/dist-packages (from en_core_web_md==2.2.5) (2.2.4)\n",
            "Requirement already satisfied: catalogue<1.1.0,>=0.0.7 in /usr/local/lib/python3.6/dist-packages (from spacy>=2.2.2->en_core_web_md==2.2.5) (1.0.0)\n",
            "Requirement already satisfied: srsly<1.1.0,>=1.0.2 in /usr/local/lib/python3.6/dist-packages (from spacy>=2.2.2->en_core_web_md==2.2.5) (1.0.5)\n",
            "Requirement already satisfied: murmurhash<1.1.0,>=0.28.0 in /usr/local/lib/python3.6/dist-packages (from spacy>=2.2.2->en_core_web_md==2.2.5) (1.0.5)\n",
            "Requirement already satisfied: thinc==7.4.0 in /usr/local/lib/python3.6/dist-packages (from spacy>=2.2.2->en_core_web_md==2.2.5) (7.4.0)\n",
            "Requirement already satisfied: plac<1.2.0,>=0.9.6 in /usr/local/lib/python3.6/dist-packages (from spacy>=2.2.2->en_core_web_md==2.2.5) (1.1.3)\n",
            "Requirement already satisfied: setuptools in /usr/local/lib/python3.6/dist-packages (from spacy>=2.2.2->en_core_web_md==2.2.5) (50.3.2)\n",
            "Requirement already satisfied: requests<3.0.0,>=2.13.0 in /usr/local/lib/python3.6/dist-packages (from spacy>=2.2.2->en_core_web_md==2.2.5) (2.23.0)\n",
            "Requirement already satisfied: blis<0.5.0,>=0.4.0 in /usr/local/lib/python3.6/dist-packages (from spacy>=2.2.2->en_core_web_md==2.2.5) (0.4.1)\n",
            "Requirement already satisfied: cymem<2.1.0,>=2.0.2 in /usr/local/lib/python3.6/dist-packages (from spacy>=2.2.2->en_core_web_md==2.2.5) (2.0.5)\n",
            "Requirement already satisfied: wasabi<1.1.0,>=0.4.0 in /usr/local/lib/python3.6/dist-packages (from spacy>=2.2.2->en_core_web_md==2.2.5) (0.8.0)\n",
            "Requirement already satisfied: tqdm<5.0.0,>=4.38.0 in /usr/local/lib/python3.6/dist-packages (from spacy>=2.2.2->en_core_web_md==2.2.5) (4.41.1)\n",
            "Requirement already satisfied: preshed<3.1.0,>=3.0.2 in /usr/local/lib/python3.6/dist-packages (from spacy>=2.2.2->en_core_web_md==2.2.5) (3.0.5)\n",
            "Requirement already satisfied: numpy>=1.15.0 in /usr/local/lib/python3.6/dist-packages (from spacy>=2.2.2->en_core_web_md==2.2.5) (1.19.4)\n",
            "Requirement already satisfied: importlib-metadata>=0.20; python_version < \"3.8\" in /usr/local/lib/python3.6/dist-packages (from catalogue<1.1.0,>=0.0.7->spacy>=2.2.2->en_core_web_md==2.2.5) (3.3.0)\n",
            "Requirement already satisfied: idna<3,>=2.5 in /usr/local/lib/python3.6/dist-packages (from requests<3.0.0,>=2.13.0->spacy>=2.2.2->en_core_web_md==2.2.5) (2.10)\n",
            "Requirement already satisfied: urllib3!=1.25.0,!=1.25.1,<1.26,>=1.21.1 in /usr/local/lib/python3.6/dist-packages (from requests<3.0.0,>=2.13.0->spacy>=2.2.2->en_core_web_md==2.2.5) (1.24.3)\n",
            "Requirement already satisfied: chardet<4,>=3.0.2 in /usr/local/lib/python3.6/dist-packages (from requests<3.0.0,>=2.13.0->spacy>=2.2.2->en_core_web_md==2.2.5) (3.0.4)\n",
            "Requirement already satisfied: certifi>=2017.4.17 in /usr/local/lib/python3.6/dist-packages (from requests<3.0.0,>=2.13.0->spacy>=2.2.2->en_core_web_md==2.2.5) (2020.12.5)\n",
            "Requirement already satisfied: zipp>=0.5 in /usr/local/lib/python3.6/dist-packages (from importlib-metadata>=0.20; python_version < \"3.8\"->catalogue<1.1.0,>=0.0.7->spacy>=2.2.2->en_core_web_md==2.2.5) (3.4.0)\n",
            "Requirement already satisfied: typing-extensions>=3.6.4; python_version < \"3.8\" in /usr/local/lib/python3.6/dist-packages (from importlib-metadata>=0.20; python_version < \"3.8\"->catalogue<1.1.0,>=0.0.7->spacy>=2.2.2->en_core_web_md==2.2.5) (3.7.4.3)\n",
            "Building wheels for collected packages: en-core-web-md\n",
            "  Building wheel for en-core-web-md (setup.py) ... \u001b[?25l\u001b[?25hdone\n",
            "  Created wheel for en-core-web-md: filename=en_core_web_md-2.2.5-cp36-none-any.whl size=98051304 sha256=a767a1a768f6a05c77f55b9a857ce3b4b5223498c03f1c46ba447c476e29fcf2\n",
            "  Stored in directory: /tmp/pip-ephem-wheel-cache-l6nkgoet/wheels/df/94/ad/f5cf59224cea6b5686ac4fd1ad19c8a07bc026e13c36502d81\n",
            "Successfully built en-core-web-md\n",
            "Installing collected packages: en-core-web-md\n",
            "Successfully installed en-core-web-md-2.2.5\n",
            "\u001b[38;5;2m✔ Download and installation successful\u001b[0m\n",
            "You can now load the model via spacy.load('en_core_web_md')\n"
          ],
          "name": "stdout"
        }
      ]
    },
    {
      "cell_type": "code",
      "metadata": {
        "colab": {
          "base_uri": "https://localhost:8080/"
        },
        "id": "ktcVNAUMAXBK",
        "outputId": "ad765ea4-8a38-43a4-a1c5-bc59a71eace7"
      },
      "source": [
        "!wget https://p4-squad-data.s3.us-east-2.amazonaws.com/train-v2.0.json"
      ],
      "execution_count": null,
      "outputs": [
        {
          "output_type": "stream",
          "text": [
            "--2020-12-20 15:21:27--  https://p4-squad-data.s3.us-east-2.amazonaws.com/train-v2.0.json\n",
            "Resolving p4-squad-data.s3.us-east-2.amazonaws.com (p4-squad-data.s3.us-east-2.amazonaws.com)... 52.219.102.34\n",
            "Connecting to p4-squad-data.s3.us-east-2.amazonaws.com (p4-squad-data.s3.us-east-2.amazonaws.com)|52.219.102.34|:443... connected.\n",
            "HTTP request sent, awaiting response... 200 OK\n",
            "Length: 42123633 (40M) [application/json]\n",
            "Saving to: ‘train-v2.0.json’\n",
            "\n",
            "train-v2.0.json     100%[===================>]  40.17M  30.0MB/s    in 1.3s    \n",
            "\n",
            "2020-12-20 15:21:29 (30.0 MB/s) - ‘train-v2.0.json’ saved [42123633/42123633]\n",
            "\n"
          ],
          "name": "stdout"
        }
      ]
    },
    {
      "cell_type": "code",
      "metadata": {
        "id": "tSmc5uN34UN0",
        "colab": {
          "base_uri": "https://localhost:8080/"
        },
        "outputId": "526e6124-f7d5-4a2b-8810-5f1fef50555d"
      },
      "source": [
        "import collections\n",
        "import json\n",
        "import string\n",
        "import re\n",
        "\n",
        "import numpy as np\n",
        "!pip install transformers\n",
        "import transformers\n",
        "from torch.utils.data import Dataset, DataLoader, SubsetRandomSampler\n",
        "import torch.optim as optim\n",
        "from tqdm.notebook import tqdm, trange\n",
        "from torch.nn import init"
      ],
      "execution_count": null,
      "outputs": [
        {
          "output_type": "stream",
          "text": [
            "Collecting transformers\n",
            "\u001b[?25l  Downloading https://files.pythonhosted.org/packages/50/0c/7d5950fcd80b029be0a8891727ba21e0cd27692c407c51261c3c921f6da3/transformers-4.1.1-py3-none-any.whl (1.5MB)\n",
            "\u001b[K     |████████████████████████████████| 1.5MB 7.2MB/s \n",
            "\u001b[?25hCollecting tokenizers==0.9.4\n",
            "\u001b[?25l  Downloading https://files.pythonhosted.org/packages/0f/1c/e789a8b12e28be5bc1ce2156cf87cb522b379be9cadc7ad8091a4cc107c4/tokenizers-0.9.4-cp36-cp36m-manylinux2010_x86_64.whl (2.9MB)\n",
            "\u001b[K     |████████████████████████████████| 2.9MB 29.2MB/s \n",
            "\u001b[?25hRequirement already satisfied: tqdm>=4.27 in /usr/local/lib/python3.6/dist-packages (from transformers) (4.41.1)\n",
            "Requirement already satisfied: dataclasses; python_version < \"3.7\" in /usr/local/lib/python3.6/dist-packages (from transformers) (0.8)\n",
            "Requirement already satisfied: numpy in /usr/local/lib/python3.6/dist-packages (from transformers) (1.19.4)\n",
            "Requirement already satisfied: requests in /usr/local/lib/python3.6/dist-packages (from transformers) (2.23.0)\n",
            "Collecting sacremoses\n",
            "\u001b[?25l  Downloading https://files.pythonhosted.org/packages/7d/34/09d19aff26edcc8eb2a01bed8e98f13a1537005d31e95233fd48216eed10/sacremoses-0.0.43.tar.gz (883kB)\n",
            "\u001b[K     |████████████████████████████████| 890kB 38.6MB/s \n",
            "\u001b[?25hRequirement already satisfied: regex!=2019.12.17 in /usr/local/lib/python3.6/dist-packages (from transformers) (2019.12.20)\n",
            "Requirement already satisfied: filelock in /usr/local/lib/python3.6/dist-packages (from transformers) (3.0.12)\n",
            "Requirement already satisfied: packaging in /usr/local/lib/python3.6/dist-packages (from transformers) (20.8)\n",
            "Requirement already satisfied: idna<3,>=2.5 in /usr/local/lib/python3.6/dist-packages (from requests->transformers) (2.10)\n",
            "Requirement already satisfied: chardet<4,>=3.0.2 in /usr/local/lib/python3.6/dist-packages (from requests->transformers) (3.0.4)\n",
            "Requirement already satisfied: certifi>=2017.4.17 in /usr/local/lib/python3.6/dist-packages (from requests->transformers) (2020.12.5)\n",
            "Requirement already satisfied: urllib3!=1.25.0,!=1.25.1,<1.26,>=1.21.1 in /usr/local/lib/python3.6/dist-packages (from requests->transformers) (1.24.3)\n",
            "Requirement already satisfied: six in /usr/local/lib/python3.6/dist-packages (from sacremoses->transformers) (1.15.0)\n",
            "Requirement already satisfied: click in /usr/local/lib/python3.6/dist-packages (from sacremoses->transformers) (7.1.2)\n",
            "Requirement already satisfied: joblib in /usr/local/lib/python3.6/dist-packages (from sacremoses->transformers) (1.0.0)\n",
            "Requirement already satisfied: pyparsing>=2.0.2 in /usr/local/lib/python3.6/dist-packages (from packaging->transformers) (2.4.7)\n",
            "Building wheels for collected packages: sacremoses\n",
            "  Building wheel for sacremoses (setup.py) ... \u001b[?25l\u001b[?25hdone\n",
            "  Created wheel for sacremoses: filename=sacremoses-0.0.43-cp36-none-any.whl size=893261 sha256=f01511b48ab94bfe05a17b80662aade6a3463eaeaa01adca8e334e1159978480\n",
            "  Stored in directory: /root/.cache/pip/wheels/29/3c/fd/7ce5c3f0666dab31a50123635e6fb5e19ceb42ce38d4e58f45\n",
            "Successfully built sacremoses\n",
            "Installing collected packages: tokenizers, sacremoses, transformers\n",
            "Successfully installed sacremoses-0.0.43 tokenizers-0.9.4 transformers-4.1.1\n"
          ],
          "name": "stdout"
        }
      ]
    },
    {
      "cell_type": "code",
      "metadata": {
        "id": "udun_3VWAqMS"
      },
      "source": [
        "#look at data\n",
        "import pandas as pd\n",
        "with open(\"train-v2.0.json\") as f:\n",
        "  train = json.load(f)"
      ],
      "execution_count": null,
      "outputs": []
    },
    {
      "cell_type": "code",
      "metadata": {
        "id": "_c6qK_hPa3RK"
      },
      "source": [
        "data = pd.DataFrame.from_dict(pd.json_normalize(data = train, record_path=['data','paragraphs','qas'], meta=['version', ['data','title'], ['data', 'paragraphs','context']], errors=\"ignore\"))\n",
        "# data.plausible_answers = data.plausible_answers.fillna('[]')"
      ],
      "execution_count": null,
      "outputs": []
    },
    {
      "cell_type": "code",
      "metadata": {
        "colab": {
          "base_uri": "https://localhost:8080/",
          "height": 306
        },
        "id": "bH8pRaiOddLo",
        "outputId": "f7e9fe4d-486b-4f61-a123-b591bcac249a"
      },
      "source": [
        "#correct length of observations\n",
        "print(len(data))\n",
        "data.head()"
      ],
      "execution_count": null,
      "outputs": [
        {
          "output_type": "stream",
          "text": [
            "130319\n"
          ],
          "name": "stdout"
        },
        {
          "output_type": "execute_result",
          "data": {
            "text/html": [
              "<div>\n",
              "<style scoped>\n",
              "    .dataframe tbody tr th:only-of-type {\n",
              "        vertical-align: middle;\n",
              "    }\n",
              "\n",
              "    .dataframe tbody tr th {\n",
              "        vertical-align: top;\n",
              "    }\n",
              "\n",
              "    .dataframe thead th {\n",
              "        text-align: right;\n",
              "    }\n",
              "</style>\n",
              "<table border=\"1\" class=\"dataframe\">\n",
              "  <thead>\n",
              "    <tr style=\"text-align: right;\">\n",
              "      <th></th>\n",
              "      <th>question</th>\n",
              "      <th>id</th>\n",
              "      <th>answers</th>\n",
              "      <th>is_impossible</th>\n",
              "      <th>plausible_answers</th>\n",
              "      <th>version</th>\n",
              "      <th>data.title</th>\n",
              "      <th>data.paragraphs.context</th>\n",
              "    </tr>\n",
              "  </thead>\n",
              "  <tbody>\n",
              "    <tr>\n",
              "      <th>0</th>\n",
              "      <td>When did Beyonce start becoming popular?</td>\n",
              "      <td>56be85543aeaaa14008c9063</td>\n",
              "      <td>[{'text': 'in the late 1990s', 'answer_start':...</td>\n",
              "      <td>False</td>\n",
              "      <td>NaN</td>\n",
              "      <td>v2.0</td>\n",
              "      <td>Beyoncé</td>\n",
              "      <td>Beyoncé Giselle Knowles-Carter (/biːˈjɒnseɪ/ b...</td>\n",
              "    </tr>\n",
              "    <tr>\n",
              "      <th>1</th>\n",
              "      <td>What areas did Beyonce compete in when she was...</td>\n",
              "      <td>56be85543aeaaa14008c9065</td>\n",
              "      <td>[{'text': 'singing and dancing', 'answer_start...</td>\n",
              "      <td>False</td>\n",
              "      <td>NaN</td>\n",
              "      <td>v2.0</td>\n",
              "      <td>Beyoncé</td>\n",
              "      <td>Beyoncé Giselle Knowles-Carter (/biːˈjɒnseɪ/ b...</td>\n",
              "    </tr>\n",
              "    <tr>\n",
              "      <th>2</th>\n",
              "      <td>When did Beyonce leave Destiny's Child and bec...</td>\n",
              "      <td>56be85543aeaaa14008c9066</td>\n",
              "      <td>[{'text': '2003', 'answer_start': 526}]</td>\n",
              "      <td>False</td>\n",
              "      <td>NaN</td>\n",
              "      <td>v2.0</td>\n",
              "      <td>Beyoncé</td>\n",
              "      <td>Beyoncé Giselle Knowles-Carter (/biːˈjɒnseɪ/ b...</td>\n",
              "    </tr>\n",
              "    <tr>\n",
              "      <th>3</th>\n",
              "      <td>In what city and state did Beyonce  grow up?</td>\n",
              "      <td>56bf6b0f3aeaaa14008c9601</td>\n",
              "      <td>[{'text': 'Houston, Texas', 'answer_start': 166}]</td>\n",
              "      <td>False</td>\n",
              "      <td>NaN</td>\n",
              "      <td>v2.0</td>\n",
              "      <td>Beyoncé</td>\n",
              "      <td>Beyoncé Giselle Knowles-Carter (/biːˈjɒnseɪ/ b...</td>\n",
              "    </tr>\n",
              "    <tr>\n",
              "      <th>4</th>\n",
              "      <td>In which decade did Beyonce become famous?</td>\n",
              "      <td>56bf6b0f3aeaaa14008c9602</td>\n",
              "      <td>[{'text': 'late 1990s', 'answer_start': 276}]</td>\n",
              "      <td>False</td>\n",
              "      <td>NaN</td>\n",
              "      <td>v2.0</td>\n",
              "      <td>Beyoncé</td>\n",
              "      <td>Beyoncé Giselle Knowles-Carter (/biːˈjɒnseɪ/ b...</td>\n",
              "    </tr>\n",
              "  </tbody>\n",
              "</table>\n",
              "</div>"
            ],
            "text/plain": [
              "                                            question  ...                            data.paragraphs.context\n",
              "0           When did Beyonce start becoming popular?  ...  Beyoncé Giselle Knowles-Carter (/biːˈjɒnseɪ/ b...\n",
              "1  What areas did Beyonce compete in when she was...  ...  Beyoncé Giselle Knowles-Carter (/biːˈjɒnseɪ/ b...\n",
              "2  When did Beyonce leave Destiny's Child and bec...  ...  Beyoncé Giselle Knowles-Carter (/biːˈjɒnseɪ/ b...\n",
              "3      In what city and state did Beyonce  grow up?   ...  Beyoncé Giselle Knowles-Carter (/biːˈjɒnseɪ/ b...\n",
              "4         In which decade did Beyonce become famous?  ...  Beyoncé Giselle Knowles-Carter (/biːˈjɒnseɪ/ b...\n",
              "\n",
              "[5 rows x 8 columns]"
            ]
          },
          "metadata": {
            "tags": []
          },
          "execution_count": 5
        }
      ]
    },
    {
      "cell_type": "code",
      "metadata": {
        "id": "f_KmyCMyX8pl"
      },
      "source": [
        "#now split into a training and testing dataset\n",
        "from sklearn.model_selection import train_test_split\n",
        "train,val = train_test_split(data, test_size = 0.2, random_state = 17, shuffle=True)"
      ],
      "execution_count": null,
      "outputs": []
    },
    {
      "cell_type": "code",
      "metadata": {
        "colab": {
          "base_uri": "https://localhost:8080/",
          "height": 289
        },
        "id": "edAKNEqrYTY2",
        "outputId": "bfe94b64-a0f8-4c75-c20c-3a5e80fb3d92"
      },
      "source": [
        "train.head()"
      ],
      "execution_count": null,
      "outputs": [
        {
          "output_type": "execute_result",
          "data": {
            "text/html": [
              "<div>\n",
              "<style scoped>\n",
              "    .dataframe tbody tr th:only-of-type {\n",
              "        vertical-align: middle;\n",
              "    }\n",
              "\n",
              "    .dataframe tbody tr th {\n",
              "        vertical-align: top;\n",
              "    }\n",
              "\n",
              "    .dataframe thead th {\n",
              "        text-align: right;\n",
              "    }\n",
              "</style>\n",
              "<table border=\"1\" class=\"dataframe\">\n",
              "  <thead>\n",
              "    <tr style=\"text-align: right;\">\n",
              "      <th></th>\n",
              "      <th>question</th>\n",
              "      <th>id</th>\n",
              "      <th>answers</th>\n",
              "      <th>is_impossible</th>\n",
              "      <th>plausible_answers</th>\n",
              "      <th>version</th>\n",
              "      <th>data.title</th>\n",
              "      <th>data.paragraphs.context</th>\n",
              "    </tr>\n",
              "  </thead>\n",
              "  <tbody>\n",
              "    <tr>\n",
              "      <th>100422</th>\n",
              "      <td>Which 1962 US Supreme Court ruling forced stat...</td>\n",
              "      <td>572ca3fcf182dd1900d7c812</td>\n",
              "      <td>[{'text': 'Baker v. Carr', 'answer_start': 4}]</td>\n",
              "      <td>False</td>\n",
              "      <td>NaN</td>\n",
              "      <td>v2.0</td>\n",
              "      <td>Tennessee</td>\n",
              "      <td>The Baker v. Carr (1962) decision of the US Su...</td>\n",
              "    </tr>\n",
              "    <tr>\n",
              "      <th>83756</th>\n",
              "      <td>What was the religion of the western half of B...</td>\n",
              "      <td>5728c1bc4b864d1900164d74</td>\n",
              "      <td>[{'text': 'Muslim', 'answer_start': 132}]</td>\n",
              "      <td>False</td>\n",
              "      <td>NaN</td>\n",
              "      <td>v2.0</td>\n",
              "      <td>History_of_India</td>\n",
              "      <td>In 1905, Lord Curzon split the large province ...</td>\n",
              "    </tr>\n",
              "    <tr>\n",
              "      <th>120255</th>\n",
              "      <td>What city is southwest of Almaden?</td>\n",
              "      <td>5ad4d0325b96ef001a10a173</td>\n",
              "      <td>[]</td>\n",
              "      <td>True</td>\n",
              "      <td>[{'text': 'Madrid', 'answer_start': 430}]</td>\n",
              "      <td>v2.0</td>\n",
              "      <td>Red</td>\n",
              "      <td>The Romans liked bright colors, and many Roman...</td>\n",
              "    </tr>\n",
              "    <tr>\n",
              "      <th>62471</th>\n",
              "      <td>What methods are used to remove non-audible co...</td>\n",
              "      <td>57267b155951b619008f7419</td>\n",
              "      <td>[{'text': 'psychoacoustics', 'answer_start': 39}]</td>\n",
              "      <td>False</td>\n",
              "      <td>NaN</td>\n",
              "      <td>v2.0</td>\n",
              "      <td>Data_compression</td>\n",
              "      <td>In lossy audio compression, methods of psychoa...</td>\n",
              "    </tr>\n",
              "    <tr>\n",
              "      <th>36625</th>\n",
              "      <td>Where did the American army fight the Spanish ...</td>\n",
              "      <td>570b431eec8fbc190045b92e</td>\n",
              "      <td>[{'text': 'Cuba', 'answer_start': 360}]</td>\n",
              "      <td>False</td>\n",
              "      <td>NaN</td>\n",
              "      <td>v2.0</td>\n",
              "      <td>Military_history_of_the_United_States</td>\n",
              "      <td>The Spanish–American War was a short decisive ...</td>\n",
              "    </tr>\n",
              "  </tbody>\n",
              "</table>\n",
              "</div>"
            ],
            "text/plain": [
              "                                                 question  ...                            data.paragraphs.context\n",
              "100422  Which 1962 US Supreme Court ruling forced stat...  ...  The Baker v. Carr (1962) decision of the US Su...\n",
              "83756   What was the religion of the western half of B...  ...  In 1905, Lord Curzon split the large province ...\n",
              "120255                 What city is southwest of Almaden?  ...  The Romans liked bright colors, and many Roman...\n",
              "62471   What methods are used to remove non-audible co...  ...  In lossy audio compression, methods of psychoa...\n",
              "36625   Where did the American army fight the Spanish ...  ...  The Spanish–American War was a short decisive ...\n",
              "\n",
              "[5 rows x 8 columns]"
            ]
          },
          "metadata": {
            "tags": []
          },
          "execution_count": 7
        }
      ]
    },
    {
      "cell_type": "code",
      "metadata": {
        "colab": {
          "base_uri": "https://localhost:8080/"
        },
        "id": "n746TJe7lnep",
        "outputId": "802d8d8d-3968-48ca-f23d-199da4f06a17"
      },
      "source": [
        "print(\"The size of the training set is: \", len(train))\n",
        "print(\"The size of the validation set is: \", len(val))"
      ],
      "execution_count": null,
      "outputs": [
        {
          "output_type": "stream",
          "text": [
            "The size of the training set is:  104255\n",
            "The size of the validation set is:  26064\n"
          ],
          "name": "stdout"
        }
      ]
    },
    {
      "cell_type": "code",
      "metadata": {
        "colab": {
          "base_uri": "https://localhost:8080/"
        },
        "id": "Bty6slTwxDFx",
        "outputId": "0ca29c6c-577f-4deb-bf27-9d2c3350d052"
      },
      "source": [
        "context_lens = []\n",
        "for i in train[\"data.paragraphs.context\"]:\n",
        "  context = i.split()\n",
        "  context_len = len(context)\n",
        "  context_lens.append(context_len)\n",
        "print(len(context_lens))"
      ],
      "execution_count": null,
      "outputs": [
        {
          "output_type": "stream",
          "text": [
            "104255\n"
          ],
          "name": "stdout"
        }
      ]
    },
    {
      "cell_type": "code",
      "metadata": {
        "colab": {
          "base_uri": "https://localhost:8080/",
          "height": 295
        },
        "id": "_vUD0RhdyCEz",
        "outputId": "c97dbcaa-243e-4336-8740-770b2dfb87f0"
      },
      "source": [
        "import matplotlib.pyplot as plt\n",
        "plt.hist(context_lens, bins=40)\n",
        "plt.title(\"Distribution of lengths of the context\")\n",
        "plt.ylabel(\"Length of context\")\n",
        "plt.xlabel(\"Number of Paragraphs\")\n",
        "plt.show()"
      ],
      "execution_count": null,
      "outputs": [
        {
          "output_type": "display_data",
          "data": {
            "image/png": "[encoded data removed]",
            "text/plain": [
              "<Figure size 432x288 with 1 Axes>"
            ]
          },
          "metadata": {
            "tags": [],
            "needs_background": "light"
          }
        }
      ]
    },
    {
      "cell_type": "code",
      "metadata": {
        "colab": {
          "base_uri": "https://localhost:8080/"
        },
        "id": "UfqPHt46ytdB",
        "outputId": "e415deba-3a73-4385-fd4d-ae730056095c"
      },
      "source": [
        "print(\"Mimimum context length: \", np.min(context_lens))\n",
        "print(\"Median context length: \", np.median(context_lens))\n",
        "print(\"Mean context length: \", np.mean(context_lens))\n",
        "print(\"Maximum context length: \", np.max(context_lens))\n",
        "print(\"SD of context length: \", np.std(context_lens))"
      ],
      "execution_count": null,
      "outputs": [
        {
          "output_type": "stream",
          "text": [
            "Mimimum context length:  20\n",
            "Median context length:  109.0\n",
            "Mean context length:  119.50346745959426\n",
            "Maximum context length:  653\n",
            "SD of context length:  49.31536011370435\n"
          ],
          "name": "stdout"
        }
      ]
    },
    {
      "cell_type": "code",
      "metadata": {
        "colab": {
          "base_uri": "https://localhost:8080/",
          "height": 380
        },
        "id": "jKnOKFjG0Bul",
        "outputId": "251b221b-0d1f-4c4f-b241-c4d88ac68506"
      },
      "source": [
        "question_lens = []\n",
        "for i in train[\"question\"]:\n",
        "  question = i.split()\n",
        "  question_len = len(question)\n",
        "  question_lens.append(question_len)\n",
        "plt.hist(question_lens, bins=40)\n",
        "plt.title(\"Distribution of lengths of the questions\")\n",
        "plt.ylabel(\"Length of quesition\")\n",
        "plt.xlabel(\"Number of questions\")\n",
        "plt.show()\n",
        "print(\"Mimimum question length: \", np.min(question_lens))\n",
        "print(\"Median question length: \", np.median(question_lens))\n",
        "print(\"Mean question length: \", np.mean(question_lens))\n",
        "print(\"Maximum question length: \", np.max(question_lens))\n",
        "print(\"SD of question length: \", np.std(question_lens))"
      ],
      "execution_count": null,
      "outputs": [
        {
          "output_type": "display_data",
          "data": {
            "image/png": "[encoded data removed]",
            "text/plain": [
              "<Figure size 432x288 with 1 Axes>"
            ]
          },
          "metadata": {
            "tags": [],
            "needs_background": "light"
          }
        },
        {
          "output_type": "stream",
          "text": [
            "Mimimum question length:  1\n",
            "Median question length:  9.0\n",
            "Mean question length:  9.899515610762073\n",
            "Maximum question length:  40\n",
            "SD of question length:  3.420197922623825\n"
          ],
          "name": "stdout"
        }
      ]
    },
    {
      "cell_type": "markdown",
      "metadata": {
        "id": "RJlKLEdmzmHE"
      },
      "source": [
        "Next we can assess the percentage of answerable questions and look at examples of what makes a question unanswerable"
      ]
    },
    {
      "cell_type": "code",
      "metadata": {
        "colab": {
          "base_uri": "https://localhost:8080/"
        },
        "id": "wE6lKvGbXqS-",
        "outputId": "2511a905-7452-49a6-f7e2-900a423d03f9"
      },
      "source": [
        "print(\"The number of passages is: \", len(train.groupby(\"data.title\").count()))\n",
        "imposib = train.groupby(\"is_impossible\").count()[\"question\"][1]\n",
        "posib = train.groupby(\"is_impossible\").count()[\"question\"][0]\n",
        "print(\"The number of answerable questions is: \", posib)\n",
        "print(\"The number of unanswerable questions is: \", imposib)\n",
        "print(\"The percent of answerable questions is: \", (posib / (posib + imposib)) * 100, \"%\")"
      ],
      "execution_count": null,
      "outputs": [
        {
          "output_type": "stream",
          "text": [
            "The number of passages is:  442\n",
            "The number of answerable questions is:  69504\n",
            "The number of unanswerable questions is:  34751\n",
            "The percent of answerable questions is:  66.6673061244065 %\n"
          ],
          "name": "stdout"
        }
      ]
    },
    {
      "cell_type": "markdown",
      "metadata": {
        "id": "rHTYLY_X1WmI"
      },
      "source": [
        "Lets look deeper into the questions with answers"
      ]
    },
    {
      "cell_type": "code",
      "metadata": {
        "colab": {
          "base_uri": "https://localhost:8080/",
          "height": 743
        },
        "id": "qhUrT9N11V09",
        "outputId": "34e12e2b-7df2-4468-d494-3955f689138f"
      },
      "source": [
        "#Answerable Question Answers\n",
        "answer_lens = []\n",
        "answer_start = []\n",
        "for i in train[\"answers\"]:\n",
        "  if i != []: \n",
        "    answer = i[0][\"text\"].split()\n",
        "    start = i[0][\"answer_start\"]\n",
        "    answer_len = len(answer)\n",
        "    answer_lens.append(answer_len)\n",
        "    answer_start.append(start)\n",
        "plt.hist(answer_lens, bins=40)\n",
        "plt.title(\"Distribution of lengths of the answers\")\n",
        "plt.ylabel(\"Length of answer\")\n",
        "plt.xlabel(\"Number of answer\")\n",
        "plt.show()\n",
        "print(\"Mimimum answer length: \", np.min(answer_lens))\n",
        "print(\"Median answer length: \", np.median(answer_lens))\n",
        "print(\"Mean answer length: \", np.mean(answer_lens))\n",
        "print(\"Maximum answer length: \", np.max(answer_lens))\n",
        "print(\"SD of answer length: \", np.std(answer_lens))\n",
        "\n",
        "plt.hist(answer_start, bins=40)\n",
        "plt.title(\"Distribution of start index of the answers\")\n",
        "plt.ylabel(\"Length of answer start \")\n",
        "plt.xlabel(\"Number of answer start\")\n",
        "plt.show()\n",
        "print(\"Mimimum answer start length: \", np.min(answer_start))\n",
        "print(\"Median answer start length: \", np.median(answer_start))\n",
        "print(\"Mean answer start length: \", np.mean(answer_start))\n",
        "print(\"Maximum answer start length: \", np.max(answer_start))\n",
        "print(\"SD of answer start length: \", np.std(answer_start))"
      ],
      "execution_count": null,
      "outputs": [
        {
          "output_type": "display_data",
          "data": {
            "image/png": "[encoded data removed]",
            "text/plain": [
              "<Figure size 432x288 with 1 Axes>"
            ]
          },
          "metadata": {
            "tags": [],
            "needs_background": "light"
          }
        },
        {
          "output_type": "stream",
          "text": [
            "Mimimum answer length:  1\n",
            "Median answer length:  2.0\n",
            "Mean answer length:  3.1670695211786373\n",
            "Maximum answer length:  43\n",
            "SD of answer length:  3.398619665335489\n"
          ],
          "name": "stdout"
        },
        {
          "output_type": "display_data",
          "data": {
            "image/png": "[encoded data removed]",
            "text/plain": [
              "<Figure size 432x288 with 1 Axes>"
            ]
          },
          "metadata": {
            "tags": [],
            "needs_background": "light"
          }
        },
        {
          "output_type": "stream",
          "text": [
            "Mimimum answer start length:  0\n",
            "Median answer start length:  262.0\n",
            "Mean answer start length:  319.40761682780845\n",
            "Maximum answer start length:  3126\n",
            "SD of answer start length:  265.40157169194714\n"
          ],
          "name": "stdout"
        }
      ]
    },
    {
      "cell_type": "code",
      "metadata": {
        "colab": {
          "base_uri": "https://localhost:8080/",
          "height": 743
        },
        "id": "mlpc5P3A23Kj",
        "outputId": "f92f8c84-bbd8-4a73-b81a-8ab3007b5974"
      },
      "source": [
        "import pandas as pd\n",
        "#Unanswerable Question Plausible Answers\n",
        "answer_lens = []\n",
        "answer_start = []\n",
        "for i in train[\"plausible_answers\"]:\n",
        "  if pd.notna(i): \n",
        "    answer = i[0][\"text\"].split()\n",
        "    start = i[0][\"answer_start\"]\n",
        "    answer_len = len(answer)\n",
        "    answer_lens.append(answer_len)\n",
        "    answer_start.append(start)\n",
        "plt.hist(answer_lens, bins=40)\n",
        "plt.title(\"Distribution of lengths of the plausible answers\")\n",
        "plt.ylabel(\"Length of answer\")\n",
        "plt.xlabel(\"Number of answer\")\n",
        "plt.show()\n",
        "print(\"Mimimum answer length: \", np.min(answer_lens))\n",
        "print(\"Median answer length: \", np.median(answer_lens))\n",
        "print(\"Mean answer length: \", np.mean(answer_lens))\n",
        "print(\"Maximum answer length: \", np.max(answer_lens))\n",
        "print(\"SD of answer length: \", np.std(answer_lens))\n",
        "\n",
        "plt.hist(answer_start, bins=40)\n",
        "plt.title(\"Distribution of start index of the plausible answers\")\n",
        "plt.ylabel(\"Length of answer start \")\n",
        "plt.xlabel(\"Number of answer start\")\n",
        "plt.show()\n",
        "print(\"Mimimum answer start length: \", np.min(answer_start))\n",
        "print(\"Median answer start length: \", np.median(answer_start))\n",
        "print(\"Mean answer start length: \", np.mean(answer_start))\n",
        "print(\"Maximum answer start length: \", np.max(answer_start))\n",
        "print(\"SD of answer start length: \", np.std(answer_start))"
      ],
      "execution_count": null,
      "outputs": [
        {
          "output_type": "display_data",
          "data": {
            "image/png": "[encoded data removed]",
            "text/plain": [
              "<Figure size 432x288 with 1 Axes>"
            ]
          },
          "metadata": {
            "tags": [],
            "needs_background": "light"
          }
        },
        {
          "output_type": "stream",
          "text": [
            "Mimimum answer length:  1\n",
            "Median answer length:  2.0\n",
            "Mean answer length:  3.2093752697764093\n",
            "Maximum answer length:  30\n",
            "SD of answer length:  3.2500050824711595\n"
          ],
          "name": "stdout"
        },
        {
          "output_type": "display_data",
          "data": {
            "image/png": "[encoded data removed]",
            "text/plain": [
              "<Figure size 432x288 with 1 Axes>"
            ]
          },
          "metadata": {
            "tags": [],
            "needs_background": "light"
          }
        },
        {
          "output_type": "stream",
          "text": [
            "Mimimum answer start length:  0\n",
            "Median answer start length:  260.0\n",
            "Mean answer start length:  314.653304940865\n",
            "Maximum answer start length:  3292\n",
            "SD of answer start length:  266.09362603923483\n"
          ],
          "name": "stdout"
        }
      ]
    },
    {
      "cell_type": "code",
      "metadata": {
        "colab": {
          "base_uri": "https://localhost:8080/",
          "height": 887
        },
        "id": "MkRwiH0ZZY3l",
        "outputId": "d2a8bea9-01da-474a-89f1-ddbb4d212d46"
      },
      "source": [
        "pd.set_option('display.max_colwidth', -1)\n",
        "train[train.is_impossible == True].head()"
      ],
      "execution_count": null,
      "outputs": [
        {
          "output_type": "stream",
          "text": [
            "/usr/local/lib/python3.6/dist-packages/ipykernel_launcher.py:1: FutureWarning: Passing a negative integer is deprecated in version 1.0 and will not be supported in future version. Instead, use None to not limit the column width.\n",
            "  \"\"\"Entry point for launching an IPython kernel.\n"
          ],
          "name": "stderr"
        },
        {
          "output_type": "execute_result",
          "data": {
            "text/html": [
              "<div>\n",
              "<style scoped>\n",
              "    .dataframe tbody tr th:only-of-type {\n",
              "        vertical-align: middle;\n",
              "    }\n",
              "\n",
              "    .dataframe tbody tr th {\n",
              "        vertical-align: top;\n",
              "    }\n",
              "\n",
              "    .dataframe thead th {\n",
              "        text-align: right;\n",
              "    }\n",
              "</style>\n",
              "<table border=\"1\" class=\"dataframe\">\n",
              "  <thead>\n",
              "    <tr style=\"text-align: right;\">\n",
              "      <th></th>\n",
              "      <th>question</th>\n",
              "      <th>id</th>\n",
              "      <th>answers</th>\n",
              "      <th>is_impossible</th>\n",
              "      <th>plausible_answers</th>\n",
              "      <th>version</th>\n",
              "      <th>data.title</th>\n",
              "      <th>data.paragraphs.context</th>\n",
              "    </tr>\n",
              "  </thead>\n",
              "  <tbody>\n",
              "    <tr>\n",
              "      <th>120255</th>\n",
              "      <td>What city is southwest of Almaden?</td>\n",
              "      <td>5ad4d0325b96ef001a10a173</td>\n",
              "      <td>[]</td>\n",
              "      <td>True</td>\n",
              "      <td>[{'text': 'Madrid', 'answer_start': 430}]</td>\n",
              "      <td>v2.0</td>\n",
              "      <td>Red</td>\n",
              "      <td>The Romans liked bright colors, and many Roman villas were decorated with vivid red murals. The pigment used for many of the murals was called vermilion, and it came from the mineral cinnabar, a common ore of mercury. It was one of the finest reds of ancient times – the paintings have retained their brightness for more than twenty centuries. The source of cinnabar for the Romans was a group of mines near Almadén, southwest of Madrid, in Spain. Working in the mines was extremely dangerous, since mercury is highly toxic; the miners were slaves or prisoners, and being sent to the cinnabar mines was a virtual death sentence.</td>\n",
              "    </tr>\n",
              "    <tr>\n",
              "      <th>40136</th>\n",
              "      <td>Who comprised the original Microsoft team besides Raskin?</td>\n",
              "      <td>5ad501c15b96ef001a10a939</td>\n",
              "      <td>[]</td>\n",
              "      <td>True</td>\n",
              "      <td>[{'text': 'Howard, Joanna Hoffman, Burrell Smith, and Bud Tribble', 'answer_start': 204}]</td>\n",
              "      <td>v2.0</td>\n",
              "      <td>Macintosh</td>\n",
              "      <td>Raskin was authorized to start hiring for the project in September 1979, and he immediately asked his long-time colleague, Brian Howard, to join him. His initial team would eventually consist of himself, Howard, Joanna Hoffman, Burrell Smith, and Bud Tribble. The rest of the original Mac team would include Bill Atkinson, Bob Belleville, Steve Capps, George Crow, Donn Denman, Chris Espinosa, Andy Hertzfeld, Bruce Horn, Susan Kare, Larry Kenyon, and Caroline Rose with Steve Jobs leading the project.</td>\n",
              "    </tr>\n",
              "    <tr>\n",
              "      <th>115260</th>\n",
              "      <td>What is the purpose of bacterial strains?</td>\n",
              "      <td>5a65d2b2c2b11c001a425d6c</td>\n",
              "      <td>[]</td>\n",
              "      <td>True</td>\n",
              "      <td>[{'text': 'survive high doses of antibiotics', 'answer_start': 299}]</td>\n",
              "      <td>v2.0</td>\n",
              "      <td>Antibiotics</td>\n",
              "      <td>The emergence of resistance of bacteria to antibiotics is a common phenomenon. Emergence of resistance often reflects evolutionary processes that take place during antibiotic therapy. The antibiotic treatment may select for bacterial strains with physiologically or genetically enhanced capacity to survive high doses of antibiotics. Under certain conditions, it may result in preferential growth of resistant bacteria, while growth of susceptible bacteria is inhibited by the drug. For example, antibacterial selection for strains having previously acquired antibacterial-resistance genes was demonstrated in 1943 by the Luria–Delbrück experiment. Antibiotics such as penicillin and erythromycin, which used to have a high efficacy against many bacterial species and strains, have become less effective, due to the increased resistance of many bacterial strains.</td>\n",
              "    </tr>\n",
              "    <tr>\n",
              "      <th>94026</th>\n",
              "      <td>Where did Palermo expand to in the early 2000's?</td>\n",
              "      <td>5a3ea39b5a76c5001a3a83f4</td>\n",
              "      <td>[]</td>\n",
              "      <td>True</td>\n",
              "      <td>[{'text': 'outside the old city walls', 'answer_start': 596}]</td>\n",
              "      <td>v2.0</td>\n",
              "      <td>Palermo</td>\n",
              "      <td>The majority of Sicilians preferred independence to the Savoia kingdom; in 1866, Palermo became the seat of a week-long popular rebellion, which was finally crushed after Martial law was declared. The Italian government blamed anarchists and the Church, specifically the Archbishop of Palermo, for the rebellion and began enacting anti-Sicilian and anti-clerical policies. A new cultural, economic and industrial growth was spurred by several families, like the Florio, the Ducrot, the Rutelli, the Sandron, the Whitaker, the Utveggio, and others. In the early twentieth century Palermo expanded outside the old city walls, mostly to the north along the new boulevards Via Roma, Via Dante, Via Notarbartolo, and Viale della Libertà. These roads would soon boast a huge number of villas in the Art Nouveau style. Many of these were designed by the famous architect Ernesto Basile. The Grand Hotel Villa Igiea, designed by Ernesto Basile for the Florio family, is a good example of Palermitan Art Nouveau. The huge Teatro Massimo was designed in the same period by Giovan Battista Filippo Basile, and built by the Rutelli &amp; Machì building firm of the industrial and old Rutelli Italian family in Palermo, and was opened in 1897.</td>\n",
              "    </tr>\n",
              "    <tr>\n",
              "      <th>116233</th>\n",
              "      <td>What roles have interpreters occasionally lied about in history?</td>\n",
              "      <td>5a7e341f70df9f001a875551</td>\n",
              "      <td>[]</td>\n",
              "      <td>True</td>\n",
              "      <td>[{'text': 'crucial', 'answer_start': 35}]</td>\n",
              "      <td>v2.0</td>\n",
              "      <td>Translation</td>\n",
              "      <td>Interpreters have sometimes played crucial roles in history. A prime example is La Malinche, also known as Malintzin, Malinalli and Doña Marina, an early-16th-century Nahua woman from the Mexican Gulf Coast. As a child she had been sold or given to Maya slave-traders from Xicalango, and thus had become bilingual. Subsequently given along with other women to the invading Spaniards, she became instrumental in the Spanish conquest of Mexico, acting as interpreter, adviser, intermediary and lover to Hernán Cortés.</td>\n",
              "    </tr>\n",
              "  </tbody>\n",
              "</table>\n",
              "</div>"
            ],
            "text/plain": [
              "                                                                question  ...                                                                                                                                                                                                                                                                                                                                                                                                                                                                                                                                                                                                                                                                                                                                                                                                                                                                                                                                                                                                                                                                                                                                                                                                                                                     data.paragraphs.context\n",
              "120255  What city is southwest of Almaden?                                ...  The Romans liked bright colors, and many Roman villas were decorated with vivid red murals. The pigment used for many of the murals was called vermilion, and it came from the mineral cinnabar, a common ore of mercury. It was one of the finest reds of ancient times – the paintings have retained their brightness for more than twenty centuries. The source of cinnabar for the Romans was a group of mines near Almadén, southwest of Madrid, in Spain. Working in the mines was extremely dangerous, since mercury is highly toxic; the miners were slaves or prisoners, and being sent to the cinnabar mines was a virtual death sentence.                                                                                                                                                                                                                                                                                                                                                                                                                                                                                                                                                                                                                      \n",
              "40136   Who comprised the original Microsoft team besides Raskin?         ...  Raskin was authorized to start hiring for the project in September 1979, and he immediately asked his long-time colleague, Brian Howard, to join him. His initial team would eventually consist of himself, Howard, Joanna Hoffman, Burrell Smith, and Bud Tribble. The rest of the original Mac team would include Bill Atkinson, Bob Belleville, Steve Capps, George Crow, Donn Denman, Chris Espinosa, Andy Hertzfeld, Bruce Horn, Susan Kare, Larry Kenyon, and Caroline Rose with Steve Jobs leading the project.                                                                                                                                                                                                                                                                                                                                                                                                                                                                                                                                                                                                                                                                                                                                                    \n",
              "115260  What is the purpose of bacterial strains?                         ...  The emergence of resistance of bacteria to antibiotics is a common phenomenon. Emergence of resistance often reflects evolutionary processes that take place during antibiotic therapy. The antibiotic treatment may select for bacterial strains with physiologically or genetically enhanced capacity to survive high doses of antibiotics. Under certain conditions, it may result in preferential growth of resistant bacteria, while growth of susceptible bacteria is inhibited by the drug. For example, antibacterial selection for strains having previously acquired antibacterial-resistance genes was demonstrated in 1943 by the Luria–Delbrück experiment. Antibiotics such as penicillin and erythromycin, which used to have a high efficacy against many bacterial species and strains, have become less effective, due to the increased resistance of many bacterial strains.                                                                                                                                                                                                                                                                                                                                                                           \n",
              "94026   Where did Palermo expand to in the early 2000's?                  ...  The majority of Sicilians preferred independence to the Savoia kingdom; in 1866, Palermo became the seat of a week-long popular rebellion, which was finally crushed after Martial law was declared. The Italian government blamed anarchists and the Church, specifically the Archbishop of Palermo, for the rebellion and began enacting anti-Sicilian and anti-clerical policies. A new cultural, economic and industrial growth was spurred by several families, like the Florio, the Ducrot, the Rutelli, the Sandron, the Whitaker, the Utveggio, and others. In the early twentieth century Palermo expanded outside the old city walls, mostly to the north along the new boulevards Via Roma, Via Dante, Via Notarbartolo, and Viale della Libertà. These roads would soon boast a huge number of villas in the Art Nouveau style. Many of these were designed by the famous architect Ernesto Basile. The Grand Hotel Villa Igiea, designed by Ernesto Basile for the Florio family, is a good example of Palermitan Art Nouveau. The huge Teatro Massimo was designed in the same period by Giovan Battista Filippo Basile, and built by the Rutelli & Machì building firm of the industrial and old Rutelli Italian family in Palermo, and was opened in 1897.\n",
              "116233  What roles have interpreters occasionally lied about in history?  ...  Interpreters have sometimes played crucial roles in history. A prime example is La Malinche, also known as Malintzin, Malinalli and Doña Marina, an early-16th-century Nahua woman from the Mexican Gulf Coast. As a child she had been sold or given to Maya slave-traders from Xicalango, and thus had become bilingual. Subsequently given along with other women to the invading Spaniards, she became instrumental in the Spanish conquest of Mexico, acting as interpreter, adviser, intermediary and lover to Hernán Cortés.                                                                                                                                                                                                                                                                                                                                                                                                                                                                                                                                                                                                                                                                                                                                       \n",
              "\n",
              "[5 rows x 8 columns]"
            ]
          },
          "metadata": {
            "tags": []
          },
          "execution_count": 79
        }
      ]
    },
    {
      "cell_type": "markdown",
      "metadata": {
        "id": "sO7go9ivDusU"
      },
      "source": [
        "### Q1: Initial data observations\n",
        "What are your initial observations after you explore the dataset?\n",
        "\n",
        "**Answer:**\n",
        "\n",
        "Although there are over 100,000 questions in the dataset, these questions stem from only 442 different passages. \n",
        "\n",
        "When further analyzing the passages, I found that most passages are about 109 words long, with the minimum being 20 words and the maximum being 653. The standard deviation was about 50, meaning most paragraphs were between 60 and 160 words long. \n",
        "\n",
        "I then did the same thing for the questions, finding most questions to be between 6-12 words with a median of 9 words. The minimum length was 1, which I guess is the question \"why\" or a syntax error. The max was 40. \n",
        "\n",
        "One of the most notable observations is that 66.67% of the questions are answerable. This means that almost exactly 2 out of every 3 questions will be answerable, while 1/3 will not be.\n",
        "\n",
        "I then analyzed the make up of the answers and plausible answers to see if there was a significant difference between these. I found that there was not, since both plausible and real answers were about the same length and found at the same average index in a paragraph, about 260. \n",
        "\n",
        "Next, I wanted to dive deeper into what types of questions are unanswerable. \n",
        "1) Impossible condition: One example is \"What city is southwest of Almaden?\". The paragraph describes Almaden as being southwest of Madrid, but never mentioned anything about cities that are southwest of Almanden. \n",
        "\n",
        "2) Entity swap: \"Who comprised the original Microsoft team besides Raskin?\" \n",
        "While it seems like there's a very plausible answer in the text for this question, the paragraph is refering to the original *Macintosh* team, not the Microsoft team. \n",
        "\n",
        "3) Other Neutral: \"What roles have interpreters occasionally lied about in history?\". The paragraph states that interpreters play a crucial role in history, but never actually refer to anything an interpreter would lie about.\n",
        "\n",
        "After looking at some examples like the ones described above, I was impressed by the plausibility of the answers of sometimes \"unanswerable\" questions. Many could easily be misunderstood by a human, and even more an algorithm. \n"
      ]
    },
    {
      "cell_type": "markdown",
      "metadata": {
        "id": "LWSv-wphXPzC"
      },
      "source": [
        "The two metrics we will be using are **exact match** and **F1**. The exact match metric measures the percentage of predictions that match any one of the ground truth answers **exactly**. The F1 score is a looser metric, which measures the average overlap between the prediction and ground truth answer.\n",
        "\n",
        "The F1 metric on answers is defined as:\n",
        "\n",
        "$$F_1 = 2 \\cdot \\frac{Precision \\cdot Recall}{Precision + Recall}$$\n",
        "\n",
        "where $Precision$ is:\n",
        "$$Precision = \\frac{TP}{TP + FP} = \\frac{\\text{# of matching tokens}}{\\text{# of predicted tokens}}$$\n",
        "\n",
        "and $Recall$ is:\n",
        "$$Recall = \\frac{TP}{TP + FN} = \\frac{\\text{# of matching tokens}}{\\text{# of gold tokens}}$$\n",
        "\n",
        "and $TP$ refers to the number of true positives; $FP$ is the number of false positives; and $FN$ is the number of false negatives. (See Jurafsky & Martin Ch. 4.7).\n",
        "\n",
        "These are then also averaged with the \"has answer\" prediction where we replace the individual question-answer pair score with a 1 if it correctly predicts that the question is not answerable, and keep the original score otherwise."
      ]
    },
    {
      "cell_type": "markdown",
      "metadata": {
        "id": "e7zOdSz1XYzJ"
      },
      "source": [
        "### Q1.1: The metrics\n",
        "\n",
        "How much time does it take to compute these metrics? When will these metrics correlate well/poorly with human judgement of answer quality? Please implement the metric yourself.\n"
      ]
    },
    {
      "cell_type": "code",
      "metadata": {
        "id": "mozaNrBC3R6A"
      },
      "source": [
        "# Some potentially useful helper functions for the metrics\n",
        "def remove_articles(text):\n",
        "    regex = re.compile(r'\\b(a|an|the)\\b', re.UNICODE)\n",
        "    return re.sub(regex, ' ', text)\n",
        "\n",
        "def white_space_fix(text):\n",
        "    return ' '.join(text.split())\n",
        "\n",
        "def remove_punc(text):\n",
        "    exclude = set(string.punctuation)\n",
        "    return ''.join(ch for ch in text if ch not in exclude)\n",
        "\n",
        "def lower(text):\n",
        "    return text.lower()\n",
        "\n",
        "def normalize_answer(s):\n",
        "    \"\"\"Lower text and remove punctuation, articles and extra whitespace.\"\"\"\n",
        "    return white_space_fix(remove_articles(remove_punc(lower(s))))\n",
        "\n",
        "def get_tokens(s):\n",
        "    if not s:\n",
        "        return []\n",
        "    return normalize_answer(s).split()"
      ],
      "execution_count": null,
      "outputs": []
    },
    {
      "cell_type": "code",
      "metadata": {
        "id": "alRi81Bb0gY5"
      },
      "source": [
        "# Another batch of helper functions, feel free to modify as needed\n",
        "def apply_no_ans_threshold(scores, na_probs, qid_to_has_ans):\n",
        "    \"\"\"apply_no_ans_threshold applies the no-answer threshold (or mapping) to\n",
        "    the no-ans probabilities/predictions.\n",
        "\n",
        "    :param scores: A mapping of qid to the f1 or em score\n",
        "    :type scores: dict[qid: str, score: float]\n",
        "    :param na_probs: A mapping of qid to the no answer prediction/probability\n",
        "    :type na_probs: dict[qid: str, score: float]\n",
        "    :qid_to_has_ans: A mapping of qid to answerability\n",
        "    :type qid_to_has_ans: dict[qid: str, answerability: bool]\n",
        "    :returns: A mapping of qid to new scores accounting for answerability\n",
        "    :rtype: dict[qid: str, score: float]\n",
        "    \"\"\"\n",
        "    new_scores = {}\n",
        "    for qid in scores:\n",
        "      if na_probs[qid] == 1:\n",
        "        if qid_to_has_ans[qid]:\n",
        "          new_scores[qid] = 0\n",
        "        else:\n",
        "          new_scores[qid] = 1\n",
        "      else:\n",
        "        if qid_to_has_ans[qid]:\n",
        "          new_scores[qid] = scores[qid]\n",
        "        else:\n",
        "          new_scores[qid] = 0\n",
        "    return new_scores\n",
        "\n",
        "def make_eval_dict(exact_scores, f1_scores, qid_list=None):\n",
        "    \"\"\"make_eval_dict makes a dictionary from the individual scores of qa pairs.\n",
        "    \n",
        "    :param exact_scores: Mapping of qid to the em score\n",
        "    :type exact_scores: dict[qid: str, score: float]\n",
        "    :param f1_scores: Mapping of qid to f1 score\n",
        "    :type f1_scores: dict[qid: str, score: float]\n",
        "    :param qid_list: List of qid's to aggregate, used to separate HasAns and\n",
        "        NoAns scores for better analysis of models\n",
        "    :type qid_list: List[qid: str]\n",
        "    :returns: mapping of relevant evaluation metrics to their scores\n",
        "    :rtype: OrderedDict[value: str, score: float]\n",
        "    \"\"\"\n",
        "    f1s = []\n",
        "    ems = []\n",
        "    total = 0\n",
        "    if qid_list == None:\n",
        "      for qid in exact_scores:\n",
        "        ems.append(exact_scores[qid])\n",
        "        f1s.append(f1_scores[qid])\n",
        "        total += 1\n",
        "    else:\n",
        "      for qid in qid_list:\n",
        "        ems.append(exact_scores[qid])\n",
        "        f1s.append(f1_scores[qid])\n",
        "        total += 1\n",
        "    avg_f1 = np.sum(f1s)/total\n",
        "    avg_ems = np.sum(ems)/total\n",
        "    return collections.OrderedDict([(\"exact\", avg_ems),(\"f1\", avg_f1),(\"total\", total),])\n",
        "\n",
        "def merge_eval(main_eval, new_eval, prefix):\n",
        "    \"\"\"merge_eval is a helper to merge two outputs of make_eval_dict.\n",
        "\n",
        "    This is useful for cases when we want to have the aggregate scores, but also\n",
        "    want to look at the scores for HasAns and for NoAns. Using make_eval_dict,\n",
        "    we can take only those that have an answer, compute and merge with the\n",
        "    original eval_dict.\n",
        "\n",
        "    :param main_eval: The main evaluation dictionary that you report from\n",
        "    :type main_eval: dict[value: str, score: float]\n",
        "    :param new_eval: The new evaluation dictionary that you want to merge in\n",
        "    :type new_eval: dict[value: str, score: float]\n",
        "    :param prefix: The prefix you want attached to the new_eval scores.\n",
        "        For example, HasAns as a prefix can be used to get HasAns_f1.\n",
        "    :type prefix: str\n",
        "    :returns: combination of main_eval and new_eval with prefix on new_eval keys\n",
        "    :rtype: OrderedDict[value: str, score: float]\n",
        "    \"\"\"\n",
        "    for k in new_eval:\n",
        "        main_eval['%s_%s' % (prefix, k)] = new_eval[k]"
      ],
      "execution_count": null,
      "outputs": []
    },
    {
      "cell_type": "code",
      "metadata": {
        "id": "E2LZtRR7XVt4"
      },
      "source": [
        "# metric implementation here\n",
        "def compute_exact(a_gold, a_pred):\n",
        "  token_pred = a_pred\n",
        "  token_gold = a_gold\n",
        "  for tok in token_pred:\n",
        "    if tok not in token_gold:\n",
        "      return 0\n",
        "  return 1\n",
        "\n",
        "def compute_f1(a_gold, a_pred):\n",
        "  token_pred = a_pred\n",
        "  precision = 0; recall = 0\n",
        "  token_gold = a_gold\n",
        "  num_match = 0\n",
        "  num_pred = len(a_pred)\n",
        "  num_gold = len(a_gold)\n",
        "  for tok in token_pred:\n",
        "    if tok in token_gold:\n",
        "      num_match +=1\n",
        "  if num_pred > 0: \n",
        "    precision = num_match / num_pred\n",
        "  recall = num_match / num_gold\n",
        "  if precision + recall == 0:\n",
        "    return 0\n",
        "  f1 = (2 * precision * recall) / (precision + recall)\n",
        "  return f1"
      ],
      "execution_count": null,
      "outputs": []
    },
    {
      "cell_type": "markdown",
      "metadata": {
        "id": "vZ5YkL6YtdwO"
      },
      "source": [
        "### How much time will it take to complete these metrics\n",
        "\n",
        "1. F Score: For one question, it will take O(n) time to compute, where n is the length of the predicted answer tokens\n",
        "\n",
        "2. Exact Score: For one question, it will take O(n) time to compute, where n is the length of the predicted answer tokens\n",
        "\n",
        "To iterate over a list of questions, where l is the number of questions to predict, the metric will take O(n*l) time. To compute both of these metrics for an example, it will take O(2n * l) time, which is essentially filtered down to O(n * l) time. \n",
        "\n",
        "### When will these metrics correlate well/poorly with human judgement of answer quality? \n",
        "\n",
        "These metrics will correlate well with human judgement when the the QA machine predicts the exact words that align with the actual answers. These metrics can align very poorly if the QA machine chooses an answer that is similar, but not quite the same verbage, since these metrics can only measure how much of the exact words are predicted."
      ]
    },
    {
      "cell_type": "markdown",
      "metadata": {
        "id": "4NYvfchqqBf6"
      },
      "source": [
        "# Model 1: Pick your own model\n",
        "\n",
        "---\n",
        "\n",
        "In this part of the project you will implement a model to perform well on the SQuAD dataset. The features that you use are entirely up to you. As always, a good strategy is to work through lots of examples from the training data to determine what types of features would be most useful. You are **NOT** allowed to use (i) deep contextualized pre-trained language models (e.g. ELMo, GPT, BERT) since they will be covered in Part B, or (ii) any existing code written for the SQUAD task. Otherwise, feel free to re-use any code you have written for previous projects in the class as well as **general** ML/NLP tools (e.g., PyTorch, spaCy). Please use the code block below to code, prototype, and test your language model:\n",
        "\n",
        "Code of Academic Integrity:  We encourage collaboration regarding ideas, etc. However, please **do not copy code from online or share code with other students**. We will be running programs to detect plagiarism."
      ]
    },
    {
      "cell_type": "code",
      "metadata": {
        "id": "a0NQ0bobIzzW"
      },
      "source": [
        "import spacy\n",
        "nlp = spacy.load('en_core_web_md', parser=False)\n",
        "# tagger=False, entity=False"
      ],
      "execution_count": null,
      "outputs": []
    },
    {
      "cell_type": "code",
      "metadata": {
        "colab": {
          "base_uri": "https://localhost:8080/",
          "height": 289
        },
        "id": "N6x8lkftB77n",
        "outputId": "85150438-727f-4e0e-fa32-23005a35dd83"
      },
      "source": [
        "train.head()"
      ],
      "execution_count": null,
      "outputs": [
        {
          "output_type": "execute_result",
          "data": {
            "text/html": [
              "<div>\n",
              "<style scoped>\n",
              "    .dataframe tbody tr th:only-of-type {\n",
              "        vertical-align: middle;\n",
              "    }\n",
              "\n",
              "    .dataframe tbody tr th {\n",
              "        vertical-align: top;\n",
              "    }\n",
              "\n",
              "    .dataframe thead th {\n",
              "        text-align: right;\n",
              "    }\n",
              "</style>\n",
              "<table border=\"1\" class=\"dataframe\">\n",
              "  <thead>\n",
              "    <tr style=\"text-align: right;\">\n",
              "      <th></th>\n",
              "      <th>question</th>\n",
              "      <th>id</th>\n",
              "      <th>answers</th>\n",
              "      <th>is_impossible</th>\n",
              "      <th>plausible_answers</th>\n",
              "      <th>version</th>\n",
              "      <th>data.title</th>\n",
              "      <th>data.paragraphs.context</th>\n",
              "    </tr>\n",
              "  </thead>\n",
              "  <tbody>\n",
              "    <tr>\n",
              "      <th>100422</th>\n",
              "      <td>Which 1962 US Supreme Court ruling forced stat...</td>\n",
              "      <td>572ca3fcf182dd1900d7c812</td>\n",
              "      <td>[{'text': 'Baker v. Carr', 'answer_start': 4}]</td>\n",
              "      <td>False</td>\n",
              "      <td>NaN</td>\n",
              "      <td>v2.0</td>\n",
              "      <td>Tennessee</td>\n",
              "      <td>The Baker v. Carr (1962) decision of the US Su...</td>\n",
              "    </tr>\n",
              "    <tr>\n",
              "      <th>83756</th>\n",
              "      <td>What was the religion of the western half of B...</td>\n",
              "      <td>5728c1bc4b864d1900164d74</td>\n",
              "      <td>[{'text': 'Muslim', 'answer_start': 132}]</td>\n",
              "      <td>False</td>\n",
              "      <td>NaN</td>\n",
              "      <td>v2.0</td>\n",
              "      <td>History_of_India</td>\n",
              "      <td>In 1905, Lord Curzon split the large province ...</td>\n",
              "    </tr>\n",
              "    <tr>\n",
              "      <th>120255</th>\n",
              "      <td>What city is southwest of Almaden?</td>\n",
              "      <td>5ad4d0325b96ef001a10a173</td>\n",
              "      <td>[]</td>\n",
              "      <td>True</td>\n",
              "      <td>[{'text': 'Madrid', 'answer_start': 430}]</td>\n",
              "      <td>v2.0</td>\n",
              "      <td>Red</td>\n",
              "      <td>The Romans liked bright colors, and many Roman...</td>\n",
              "    </tr>\n",
              "    <tr>\n",
              "      <th>62471</th>\n",
              "      <td>What methods are used to remove non-audible co...</td>\n",
              "      <td>57267b155951b619008f7419</td>\n",
              "      <td>[{'text': 'psychoacoustics', 'answer_start': 39}]</td>\n",
              "      <td>False</td>\n",
              "      <td>NaN</td>\n",
              "      <td>v2.0</td>\n",
              "      <td>Data_compression</td>\n",
              "      <td>In lossy audio compression, methods of psychoa...</td>\n",
              "    </tr>\n",
              "    <tr>\n",
              "      <th>36625</th>\n",
              "      <td>Where did the American army fight the Spanish ...</td>\n",
              "      <td>570b431eec8fbc190045b92e</td>\n",
              "      <td>[{'text': 'Cuba', 'answer_start': 360}]</td>\n",
              "      <td>False</td>\n",
              "      <td>NaN</td>\n",
              "      <td>v2.0</td>\n",
              "      <td>Military_history_of_the_United_States</td>\n",
              "      <td>The Spanish–American War was a short decisive ...</td>\n",
              "    </tr>\n",
              "  </tbody>\n",
              "</table>\n",
              "</div>"
            ],
            "text/plain": [
              "                                                 question  ...                            data.paragraphs.context\n",
              "100422  Which 1962 US Supreme Court ruling forced stat...  ...  The Baker v. Carr (1962) decision of the US Su...\n",
              "83756   What was the religion of the western half of B...  ...  In 1905, Lord Curzon split the large province ...\n",
              "120255                 What city is southwest of Almaden?  ...  The Romans liked bright colors, and many Roman...\n",
              "62471   What methods are used to remove non-audible co...  ...  In lossy audio compression, methods of psychoa...\n",
              "36625   Where did the American army fight the Spanish ...  ...  The Spanish–American War was a short decisive ...\n",
              "\n",
              "[5 rows x 8 columns]"
            ]
          },
          "metadata": {
            "tags": []
          },
          "execution_count": 12
        }
      ]
    },
    {
      "cell_type": "code",
      "metadata": {
        "id": "PaaNXkikkAi7"
      },
      "source": [
        "def subfinder(mylist, pattern):\n",
        "  matches = []\n",
        "  if pattern == []: \n",
        "    return []\n",
        "  for i in range(len(mylist)):\n",
        "    if mylist[i] == pattern[0] and i+len(pattern) < len(mylist):\n",
        "      if mylist[i:i+len(pattern)] == pattern:\n",
        "        matches.append(i)\n",
        "  if matches == []:\n",
        "     return []\n",
        "  match_first = matches[0]\n",
        "  return [match_first, match_first + len(pattern) - 1]\n",
        "\n",
        "def tokens_of_answers(context, ans_st, ans_end):\n",
        "  s_tokens = get_tokens(context)\n",
        "  if np.isnan(ans_st): \n",
        "    return (0, 0)\n",
        "  ans_words = context[ans_st:ans_end]\n",
        "  ans_tokens = get_tokens(ans_words)\n",
        "\n",
        "  tok_list = subfinder(s_tokens, ans_tokens)\n",
        "  # print(tok_list)\n",
        "  if tok_list == []:\n",
        "    return (0, 0)\n",
        "  return (tok_list[0], tok_list[-1])\n",
        "  "
      ],
      "execution_count": null,
      "outputs": []
    },
    {
      "cell_type": "markdown",
      "metadata": {
        "id": "hMW-Pr1QqXNd"
      },
      "source": [
        "Data Preprocessing"
      ]
    },
    {
      "cell_type": "code",
      "metadata": {
        "id": "nLUrpZkGKgK0"
      },
      "source": [
        "def training_process(data):\n",
        "  new_data = []\n",
        "  for i in range(len(data)):\n",
        "    examp = data.iloc[i,:]\n",
        "    context = examp[\"data.paragraphs.context\"].replace(\"''\", '\" ').replace(\"``\", '\" ')\n",
        "    question = examp[\"question\"].replace(\"''\", '\" ').replace(\"``\", '\" ')\n",
        "    ans_start = np.nan; ans_end = np.nan\n",
        "    for a in examp[\"answers\"]:\n",
        "      answer = examp[\"answers\"][0][\"text\"]\n",
        "      ans_start = examp[\"answers\"][0]['answer_start']\n",
        "      ans_end = ans_start + len(answer)\n",
        "    if np.isnan(ans_start):\n",
        "      has_ans = 0\n",
        "      answer = \"\"\n",
        "    else:\n",
        "      has_ans = 1\n",
        "    token_st, token_end = tokens_of_answers(context, ans_start, ans_end)\n",
        "    id = examp[\"id\"]\n",
        "    new_data.append((id, context, question, answer, ans_start, ans_end, has_ans, token_st, token_end))\n",
        "  new_data = pd.DataFrame(new_data, columns=['id', 'context', 'question', 'answer','ans_start', 'ans_end', 'has_ans', 'token_st', 'token_end'])\n",
        "  return new_data\n",
        "\n",
        "def val_process(data):\n",
        "  new_data = []\n",
        "  for i in range(len(data)):\n",
        "    examp = data.iloc[i,:]\n",
        "    context = examp[\"data.paragraphs.context\"].replace(\"''\", '\" ').replace(\"``\", '\" ')\n",
        "    question = examp[\"question\"].replace(\"''\", '\" ').replace(\"``\", '\" ')\n",
        "    answers = examp[\"answers\"]\n",
        "    answers = [ans[\"text\"] for ans in answers]\n",
        "    id = examp[\"id\"]\n",
        "    new_data.append((id, context, question, answers))\n",
        "  new_data = pd.DataFrame(new_data, columns=['id', 'context', 'question', 'answers'])\n",
        "  return new_data"
      ],
      "execution_count": null,
      "outputs": []
    },
    {
      "cell_type": "code",
      "metadata": {
        "id": "EA-6xCV9F9Bs"
      },
      "source": [
        "import torch\n",
        "def tokenize_words(s):\n",
        "  doc = nlp(s)\n",
        "  return [tok for tok in doc]\n",
        "\n",
        "def tokenize_word(s):\n",
        "  doc = nlp(s)\n",
        "  return doc\n",
        "  \n",
        "def make_vocab(data):\n",
        "    vocab = {}\n",
        "    tokens = {}\n",
        "    id = 0\n",
        "    for i in range(len(data)):\n",
        "      document = data.iloc[i,:][\"context\"].replace(\"''\", '\" ').replace(\"``\", '\" ')\n",
        "      document2 = data.iloc[i,:][\"question\"].replace(\"''\", '\" ').replace(\"``\", '\" ')\n",
        "      document_tokens = get_tokens(document)\n",
        "      doc2_tokens = get_tokens(document2)\n",
        "      for word in document_tokens:\n",
        "        if word not in vocab:\n",
        "          id += 1\n",
        "          vocab[word] = id\n",
        "      for word in doc2_tokens:\n",
        "        if word not in vocab:\n",
        "          id += 1\n",
        "          vocab[word] = id\n",
        "    vocab[\"unk\"] = 0\n",
        "    return vocab"
      ],
      "execution_count": null,
      "outputs": []
    },
    {
      "cell_type": "code",
      "metadata": {
        "colab": {
          "base_uri": "https://localhost:8080/",
          "height": 582
        },
        "id": "H09b8TogEL5u",
        "outputId": "f921290e-927a-44f1-e04e-ab39061db56f"
      },
      "source": [
        "training = training_process(train)\n",
        "validation = training_process(val)\n",
        "validation.head(15)"
      ],
      "execution_count": null,
      "outputs": [
        {
          "output_type": "execute_result",
          "data": {
            "text/html": [
              "<div>\n",
              "<style scoped>\n",
              "    .dataframe tbody tr th:only-of-type {\n",
              "        vertical-align: middle;\n",
              "    }\n",
              "\n",
              "    .dataframe tbody tr th {\n",
              "        vertical-align: top;\n",
              "    }\n",
              "\n",
              "    .dataframe thead th {\n",
              "        text-align: right;\n",
              "    }\n",
              "</style>\n",
              "<table border=\"1\" class=\"dataframe\">\n",
              "  <thead>\n",
              "    <tr style=\"text-align: right;\">\n",
              "      <th></th>\n",
              "      <th>id</th>\n",
              "      <th>context</th>\n",
              "      <th>question</th>\n",
              "      <th>answer</th>\n",
              "      <th>ans_start</th>\n",
              "      <th>ans_end</th>\n",
              "      <th>has_ans</th>\n",
              "      <th>token_st</th>\n",
              "      <th>token_end</th>\n",
              "    </tr>\n",
              "  </thead>\n",
              "  <tbody>\n",
              "    <tr>\n",
              "      <th>0</th>\n",
              "      <td>57269f3b708984140094cc01</td>\n",
              "      <td>Found in applications as diverse as industrial...</td>\n",
              "      <td>What does AC stand for?</td>\n",
              "      <td>alternating current</td>\n",
              "      <td>262.0</td>\n",
              "      <td>281.0</td>\n",
              "      <td>1</td>\n",
              "      <td>40</td>\n",
              "      <td>41</td>\n",
              "    </tr>\n",
              "    <tr>\n",
              "      <th>1</th>\n",
              "      <td>572ea25103f989190075686d</td>\n",
              "      <td>The dipole component of the magnetic field at ...</td>\n",
              "      <td>What is Neptune's dipole magnetic moment?</td>\n",
              "      <td>2.2 × 1017 T·m3</td>\n",
              "      <td>159.0</td>\n",
              "      <td>174.0</td>\n",
              "      <td>1</td>\n",
              "      <td>23</td>\n",
              "      <td>26</td>\n",
              "    </tr>\n",
              "    <tr>\n",
              "      <th>2</th>\n",
              "      <td>5ad25596d7d075001a428d40</td>\n",
              "      <td>Such a theory would be true with higher probab...</td>\n",
              "      <td>What is less important than detecting the fals...</td>\n",
              "      <td></td>\n",
              "      <td>NaN</td>\n",
              "      <td>NaN</td>\n",
              "      <td>0</td>\n",
              "      <td>0</td>\n",
              "      <td>0</td>\n",
              "    </tr>\n",
              "    <tr>\n",
              "      <th>3</th>\n",
              "      <td>5acf58ea77cf76001a684be0</td>\n",
              "      <td>After the Romans left, Britain was invaded by ...</td>\n",
              "      <td>Who led the forces against the rebels in the M...</td>\n",
              "      <td></td>\n",
              "      <td>NaN</td>\n",
              "      <td>NaN</td>\n",
              "      <td>0</td>\n",
              "      <td>0</td>\n",
              "      <td>0</td>\n",
              "    </tr>\n",
              "    <tr>\n",
              "      <th>4</th>\n",
              "      <td>5ad39902604f3c001a3fe812</td>\n",
              "      <td>The FBI Laboratory, established with the forma...</td>\n",
              "      <td>Where was the CIA lab located?</td>\n",
              "      <td></td>\n",
              "      <td>NaN</td>\n",
              "      <td>NaN</td>\n",
              "      <td>0</td>\n",
              "      <td>0</td>\n",
              "      <td>0</td>\n",
              "    </tr>\n",
              "    <tr>\n",
              "      <th>5</th>\n",
              "      <td>56f7488caef2371900625ab0</td>\n",
              "      <td>^9 Sub-groups of Croats include Bunjevci (in B...</td>\n",
              "      <td>Where are Burgenland Croats located?</td>\n",
              "      <td>Austria</td>\n",
              "      <td>132.0</td>\n",
              "      <td>139.0</td>\n",
              "      <td>1</td>\n",
              "      <td>19</td>\n",
              "      <td>19</td>\n",
              "    </tr>\n",
              "    <tr>\n",
              "      <th>6</th>\n",
              "      <td>572a31636aef051400155357</td>\n",
              "      <td>The Christian population of the empire, owing ...</td>\n",
              "      <td>Jews and Christians were offered protection in...</td>\n",
              "      <td>consuls and citizenship</td>\n",
              "      <td>1009.0</td>\n",
              "      <td>1032.0</td>\n",
              "      <td>1</td>\n",
              "      <td>153</td>\n",
              "      <td>155</td>\n",
              "    </tr>\n",
              "    <tr>\n",
              "      <th>7</th>\n",
              "      <td>56f733273d8e2e1400e3744e</td>\n",
              "      <td>The language of treaties, like that of any law...</td>\n",
              "      <td>What states that treaties are to be interprete...</td>\n",
              "      <td>The Vienna Convention</td>\n",
              "      <td>214.0</td>\n",
              "      <td>235.0</td>\n",
              "      <td>1</td>\n",
              "      <td>34</td>\n",
              "      <td>35</td>\n",
              "    </tr>\n",
              "    <tr>\n",
              "      <th>8</th>\n",
              "      <td>57302bc5b2c2fd14005689d5</td>\n",
              "      <td>At the time of the Roman Empire, about two tho...</td>\n",
              "      <td>What was the name of the native people that li...</td>\n",
              "      <td>Britons</td>\n",
              "      <td>528.0</td>\n",
              "      <td>535.0</td>\n",
              "      <td>1</td>\n",
              "      <td>0</td>\n",
              "      <td>0</td>\n",
              "    </tr>\n",
              "    <tr>\n",
              "      <th>9</th>\n",
              "      <td>57312d2a05b4da19006bce4b</td>\n",
              "      <td>Red was the color of the banner of the Byzanti...</td>\n",
              "      <td>In what year did cardinals in the Roman Cathol...</td>\n",
              "      <td>1295</td>\n",
              "      <td>235.0</td>\n",
              "      <td>239.0</td>\n",
              "      <td>1</td>\n",
              "      <td>36</td>\n",
              "      <td>36</td>\n",
              "    </tr>\n",
              "    <tr>\n",
              "      <th>10</th>\n",
              "      <td>5a79dc6717ab25001a8a0109</td>\n",
              "      <td>At a professional level, most matches produce ...</td>\n",
              "      <td>What do strikers and forwards try to avoid doing?</td>\n",
              "      <td></td>\n",
              "      <td>NaN</td>\n",
              "      <td>NaN</td>\n",
              "      <td>0</td>\n",
              "      <td>0</td>\n",
              "      <td>0</td>\n",
              "    </tr>\n",
              "    <tr>\n",
              "      <th>11</th>\n",
              "      <td>5ad14abb645df0001a2d15c4</td>\n",
              "      <td>The \"yo yo\" in the opinion polls continued int...</td>\n",
              "      <td>When was any Conservative lead in the polls su...</td>\n",
              "      <td></td>\n",
              "      <td>NaN</td>\n",
              "      <td>NaN</td>\n",
              "      <td>0</td>\n",
              "      <td>0</td>\n",
              "      <td>0</td>\n",
              "    </tr>\n",
              "    <tr>\n",
              "      <th>12</th>\n",
              "      <td>572673895951b619008f72fa</td>\n",
              "      <td>In 2004, the Cubs were a consensus pick by mos...</td>\n",
              "      <td>Who was acquired in a trade with Florida for H...</td>\n",
              "      <td>Derek Lee</td>\n",
              "      <td>116.0</td>\n",
              "      <td>125.0</td>\n",
              "      <td>1</td>\n",
              "      <td>17</td>\n",
              "      <td>18</td>\n",
              "    </tr>\n",
              "    <tr>\n",
              "      <th>13</th>\n",
              "      <td>57080bf29928a814004714bf</td>\n",
              "      <td>The line of imams of the Mustali Ismaili Shia ...</td>\n",
              "      <td>What does a Dai-al-Mutlaq do?</td>\n",
              "      <td>manages the affairs of the Imam</td>\n",
              "      <td>356.0</td>\n",
              "      <td>387.0</td>\n",
              "      <td>1</td>\n",
              "      <td>0</td>\n",
              "      <td>0</td>\n",
              "    </tr>\n",
              "    <tr>\n",
              "      <th>14</th>\n",
              "      <td>56d1046317492d1400aab734</td>\n",
              "      <td>The New York City Health and Hospitals Corpora...</td>\n",
              "      <td>What is the yearly revenue of the New York Cit...</td>\n",
              "      <td>$6.7 billion</td>\n",
              "      <td>151.0</td>\n",
              "      <td>163.0</td>\n",
              "      <td>1</td>\n",
              "      <td>21</td>\n",
              "      <td>22</td>\n",
              "    </tr>\n",
              "  </tbody>\n",
              "</table>\n",
              "</div>"
            ],
            "text/plain": [
              "                          id  ... token_end\n",
              "0   57269f3b708984140094cc01  ...        41\n",
              "1   572ea25103f989190075686d  ...        26\n",
              "2   5ad25596d7d075001a428d40  ...         0\n",
              "3   5acf58ea77cf76001a684be0  ...         0\n",
              "4   5ad39902604f3c001a3fe812  ...         0\n",
              "5   56f7488caef2371900625ab0  ...        19\n",
              "6   572a31636aef051400155357  ...       155\n",
              "7   56f733273d8e2e1400e3744e  ...        35\n",
              "8   57302bc5b2c2fd14005689d5  ...         0\n",
              "9   57312d2a05b4da19006bce4b  ...        36\n",
              "10  5a79dc6717ab25001a8a0109  ...         0\n",
              "11  5ad14abb645df0001a2d15c4  ...         0\n",
              "12  572673895951b619008f72fa  ...        18\n",
              "13  57080bf29928a814004714bf  ...         0\n",
              "14  56d1046317492d1400aab734  ...        22\n",
              "\n",
              "[15 rows x 9 columns]"
            ]
          },
          "metadata": {
            "tags": []
          },
          "execution_count": 16
        }
      ]
    },
    {
      "cell_type": "code",
      "metadata": {
        "id": "cP2V4j2xFmsK"
      },
      "source": [
        "vocab = make_vocab(training)"
      ],
      "execution_count": null,
      "outputs": []
    },
    {
      "cell_type": "code",
      "metadata": {
        "id": "ssJnd3Sg7Xvv"
      },
      "source": [
        "#example for embedding \n",
        "import torch.nn as nn\n",
        "def make_weights(vocab):\n",
        "  n_vocab = len(vocab)\n",
        "  weights = np.zeros((n_vocab, 300))\n",
        "  pos_map = {}\n",
        "  ner_map = {}\n",
        "  for i, word in enumerate(vocab):\n",
        "    try:\n",
        "      cur_word = nlp(word)\n",
        "      weights[i] = cur_word.vector\n",
        "      pos_map[word] = cur_word[0].pos\n",
        "      ner_map[word] = cur_word[0].ent_iob\n",
        "    except KeyError:\n",
        "      weights[i] = np.random.normal(scale=0.6, size=(300, ))\n",
        "  return weights, pos_map, ner_map\n",
        "\n",
        "def doc_to_inx(vocab, doc):\n",
        "  as_inx = np.zeros((len(doc),))\n",
        "  i = 0\n",
        "  for word in get_tokens(doc):\n",
        "    ind = vocab[word]\n",
        "    as_inx[i] = ind\n",
        "    i += 1\n",
        "  return as_inx\n",
        "\n",
        "def doc_to_id(mapping,doc):\n",
        "  return torch.tensor([mapping[word] if word in mapping else 0 for word in doc])"
      ],
      "execution_count": null,
      "outputs": []
    },
    {
      "cell_type": "code",
      "metadata": {
        "id": "Afk9B1r6jLcM"
      },
      "source": [
        "glove_weights, pos_map, ner_map = make_weights(vocab)"
      ],
      "execution_count": null,
      "outputs": []
    },
    {
      "cell_type": "code",
      "metadata": {
        "id": "Tyf1idYFIY8L"
      },
      "source": [
        "def convert_back(c, vocab, keys, vals):\n",
        "  tokens = []\n",
        "  for ind in c:\n",
        "    pos = vals.index(ind)\n",
        "    word = keys[pos]\n",
        "    tokens.append(word)\n",
        "  return tokens"
      ],
      "execution_count": null,
      "outputs": []
    },
    {
      "cell_type": "code",
      "metadata": {
        "id": "AP25sRFnPSaH"
      },
      "source": [
        "def convert_to_inds(data):\n",
        "  train_data = []\n",
        "  for i in range(len(data)):\n",
        "    document = data.iloc[i,:][\"context\"]\n",
        "    document2 = data.iloc[i,:][\"question\"]\n",
        "    context_inds = doc_to_id(vocab, get_tokens(document))\n",
        "    context_pos = doc_to_id(pos_map, get_tokens(document))\n",
        "    context_ner = doc_to_id(ner_map, get_tokens(document))\n",
        "    question_inds = doc_to_id(vocab, get_tokens(document2))\n",
        "    context = torch.stack((context_inds.float(), context_pos, context_ner)) \n",
        "    ans_st = data.iloc[i,:][\"token_st\"]\n",
        "    ans_end = data.iloc[i,:][\"token_end\"]\n",
        "    has_ans = data.iloc[i,:][\"has_ans\"]\n",
        "    id = data.iloc[i,:][\"id\"]\n",
        "    train_data.append((context, question_inds.float(),ans_st, ans_end, has_ans, id))\n",
        "  return train_data\n",
        "\n",
        "def make_info(pos_map, ner_map, h_dim, vocab):\n",
        "  info = {\"pos_map\": pos_map, \"ner_map\": ner_map, \"h_dim\":h_dim}\n",
        "  pos_unique = set( val for val in pos_map.values())\n",
        "  ner_unique = set( val for val in ner_map.values())\n",
        "  info[\"pos_size\"] = len(pos_unique)\n",
        "  info[\"ner_size\"] = len(ner_unique)\n",
        "  info[\"vocab\"] = vocab\n",
        "  return info"
      ],
      "execution_count": null,
      "outputs": []
    },
    {
      "cell_type": "code",
      "metadata": {
        "id": "ILQqvOsQSBSD"
      },
      "source": [
        "train_data= convert_to_inds(training)\n",
        "val_data= convert_to_inds(validation)"
      ],
      "execution_count": null,
      "outputs": []
    },
    {
      "cell_type": "code",
      "metadata": {
        "id": "jpPOEh34AT2L"
      },
      "source": [
        "\n",
        "# Then, we create a list of indices for all samples in the dataset\n",
        "train_indices = [i for i in range(len(training))]\n",
        "val_indices = [i for i in range(len(validation[0:1000]))]\n",
        "\n",
        "# Now we define samplers and loaders for train and val\n",
        "train_sampler = SubsetRandomSampler(train_indices)\n",
        "train_loader = DataLoader(train_data, batch_size=1, sampler=train_sampler)\n",
        "    \n",
        "val_sampler = SubsetRandomSampler(val_indices)\n",
        "val_loader = DataLoader(val_data, batch_size=1, sampler=val_sampler)\n",
        "\n",
        "# Lambda to switch to GPU if available\n",
        "get_device = lambda : \"cuda:0\" if torch.cuda.is_available() else \"cpu\""
      ],
      "execution_count": null,
      "outputs": []
    },
    {
      "cell_type": "code",
      "metadata": {
        "id": "R1QnvNPsPl1n"
      },
      "source": [
        "info = make_info(pos_map, ner_map, 300, vocab)"
      ],
      "execution_count": null,
      "outputs": []
    },
    {
      "cell_type": "code",
      "metadata": {
        "id": "47SOjncV1whe",
        "colab": {
          "base_uri": "https://localhost:8080/"
        },
        "outputId": "ae6765d0-83f2-48c8-f76f-299789ea3339"
      },
      "source": [
        "glove_weights_tensor = torch.from_numpy(glove_weights)\n",
        "glove_weights_tensor.size()"
      ],
      "execution_count": null,
      "outputs": [
        {
          "output_type": "execute_result",
          "data": {
            "text/plain": [
              "torch.Size([104679, 300])"
            ]
          },
          "metadata": {
            "tags": []
          },
          "execution_count": 28
        }
      ]
    },
    {
      "cell_type": "markdown",
      "metadata": {
        "id": "BdWJdmz5iBFM"
      },
      "source": [
        "## Making Model Layers"
      ]
    },
    {
      "cell_type": "code",
      "metadata": {
        "id": "3SsTO9-ZEp-F"
      },
      "source": [
        "import torch.nn.functional as F\n",
        "import torch.nn as nn"
      ],
      "execution_count": null,
      "outputs": []
    },
    {
      "cell_type": "code",
      "metadata": {
        "id": "jT4N0jeYiTDP"
      },
      "source": [
        "import torch.nn.functional as F\n",
        "# initial rnn to transform the context and the question into hidden dimensions\n",
        "class RNN(nn.Module):\n",
        "  def __init__(self,input_dim, h_dim, weights, n_layers=1): \n",
        "    # Add relevant parameters\n",
        "    super(RNN, self).__init__()\n",
        "    # Fill in relevant parameters\n",
        "    self.hidden_dim = h_dim\n",
        "    self.input_dim = input_dim\n",
        "    self.n_layers = n_layers\n",
        "    self.rnn = nn.LSTM(input_dim, h_dim, batch_first=True,bidirectional=True)\n",
        "    self.loss = nn.NLLLoss()\n",
        "\n",
        "  def compute_loss(self, predicted_vector, gold_label):\n",
        "    return self.loss(predicted_vector, gold_label)\t\n",
        "\n",
        "  def forward(self, inputs):\n",
        "    inputs = inputs.transpose(0,1)\n",
        "    output, hidden = self.rnn(inputs)\n",
        "    output = output.transpose(0,1)\n",
        "    return output\n",
        "\n",
        "  def load_model(self, save_path):\n",
        "    self.load_state_dict(torch.load(save_path))\n",
        "\t\n",
        "  def save_model(self, save_path):\n",
        "    torch.save(self.state_dict(), save_path)"
      ],
      "execution_count": null,
      "outputs": []
    },
    {
      "cell_type": "code",
      "metadata": {
        "id": "7zD0DwOh95Ci"
      },
      "source": [
        "# class to get the sequencial attention model between the context and the question \n",
        "class Attention(nn.Module):\n",
        "    def __init__(self, input_size):\n",
        "        super(Attention, self).__init__()\n",
        "        self.linear = nn.Linear(input_size, input_size)\n",
        "\n",
        "    def forward(self, c, q):\n",
        "        c = c.unsqueeze(0).float()\n",
        "        q = q.float()\n",
        "        cp = self.linear(c.view(-1, c.size(2))).view(c.size())\n",
        "        cp = F.relu(cp)\n",
        "        qp = self.linear(q.view(-1, q.size(2))).view(q.size())\n",
        "        qp = F.relu(qp)\n",
        "        cq = cp.bmm(qp.transpose(2, 1))\n",
        "        a = F.softmax(cq.view(-1, q.size(1)), dim=-1)\n",
        "        alpha = a.view(-1, c.size(1), q.size(1))\n",
        "        return alpha.bmm(q).squeeze(0)"
      ],
      "execution_count": null,
      "outputs": []
    },
    {
      "cell_type": "code",
      "metadata": {
        "id": "RWq2lb0pgQCs"
      },
      "source": [
        "# class to get the self-attention matrix from the question \n",
        "class QuestionAttention(nn.Module):\n",
        "    def __init__(self, input_size):\n",
        "        super(QuestionAttention, self).__init__()\n",
        "        self.linear = nn.Linear(input_size, 1)\n",
        "\n",
        "    def forward(self, q):\n",
        "        q_flat = q.view(-1, q.size(-1))\n",
        "        vector = self.linear(q_flat).view(q.size(0), q.size(1))\n",
        "        return F.softmax(vector, dim=-1)\n",
        "\n",
        "#returns weights of the question attention layer\n",
        "def weights(x, weights):\n",
        "  return weights.unsqueeze(1).bmm(x).squeeze(1)"
      ],
      "execution_count": null,
      "outputs": []
    },
    {
      "cell_type": "code",
      "metadata": {
        "id": "9KKMMaS9eDIk"
      },
      "source": [
        "# class to get the final prediction classifations of the start index\n",
        "class BilinearAttention(nn.Module):\n",
        "    def __init__(self, content_size, question_size):\n",
        "        super(BilinearAttention, self).__init__()\n",
        "        self.linear = nn.Linear(question_size, content_size)\n",
        "  \n",
        "    def forward(self, p, q):\n",
        "        Wq = self.linear(q)\n",
        "        pWq = p.bmm(Wq.unsqueeze(2)).squeeze(2)\n",
        "        pWq = p.bmm(Wq.unsqueeze(2)).squeeze(2)\n",
        "        alpha = F.log_softmax(pWq, dim=-1)\n",
        "        return alpha"
      ],
      "execution_count": null,
      "outputs": []
    },
    {
      "cell_type": "markdown",
      "metadata": {
        "id": "pFCCxYu3iE8o"
      },
      "source": [
        "Making the Model Network: Stringing the Layers Together"
      ]
    },
    {
      "cell_type": "code",
      "metadata": {
        "id": "Fl5YM9rbP9Ta"
      },
      "source": [
        "class RnnNetwork(nn.Module):\n",
        "  def __init__(self, weights, info):\n",
        "    super(RnnNetwork, self).__init__()\n",
        "    self.weights = weights\n",
        "    num_embed, embed_dim = weights.size()\n",
        "    self.embedding = nn.Embedding(num_embed, embed_dim)\n",
        "    self.embedding.weight.data = weights\n",
        "    self.pos_embedding = nn.Embedding(120, 1)\n",
        "    self.ner_embedding = nn.Embedding(10, 1)\n",
        "    self.context_input_size = 2 * embed_dim + 1 + 1\n",
        "    self.loss = nn.NLLLoss()\n",
        "\n",
        "    #RNN for the context\n",
        "    self.context_rnn = RNN(self.context_input_size, info[\"h_dim\"], weights)\n",
        "    #RNN for the question\n",
        "    self.question_rnn = RNN(embed_dim, info[\"h_dim\"], weights)\n",
        "    self.rnn_hidden_size = info[\"h_dim\"] * 2\n",
        "    #self attention for the question\n",
        "    self.self_attention = QuestionAttention(self.rnn_hidden_size)\n",
        "    #sequence attention layer\n",
        "    self.sequence_attention = Attention(embed_dim)\n",
        "    #attention to get start token layer\n",
        "    self.start_attn = BilinearAttention(self.rnn_hidden_size, self.rnn_hidden_size)\n",
        "    #attention to get end token layer\n",
        "    self.end_attn = BilinearAttention(self.rnn_hidden_size, self.rnn_hidden_size)\n",
        "    self.softmax = nn.LogSoftmax(dim=1)\n",
        "  \n",
        "  def compute_loss(self, predicted_vector, gold_label):\n",
        "    return self.loss(predicted_vector, gold_label)\n",
        "  \n",
        "  def forward(self, c, c_pos, c_ner, q):\n",
        "    context_embed = self.embedding(c)\n",
        "    question_embed = self.embedding(q).float()\n",
        "    pos_embed = self.pos_embedding(c_pos.int().long())\n",
        "    ner_embed = self.ner_embedding(c_ner.int().long())\n",
        "    attn = self.sequence_attention(context_embed, question_embed)\n",
        "    cinputs = [context_embed, pos_embed, ner_embed, attn]\n",
        "    cinputs = torch.cat(cinputs, 1).float()\n",
        "    hidden_context = self.context_rnn(cinputs.unsqueeze(0))\n",
        "    hidden_question = self.question_rnn(question_embed)\n",
        "    q_self_attn = self.self_attention(hidden_question)\n",
        "    hidden_question2 = weights(hidden_question, weights = q_self_attn)\n",
        "    start_scores = self.start_attn(hidden_context, hidden_question2)\n",
        "    end_scores = self.end_attn(hidden_context, hidden_question2)\n",
        "    to_out = nn.Linear(start_scores.size()[1], 2).to(get_device())\n",
        "    ans_output = to_out(start_scores)\n",
        "    ans_out = self.softmax(ans_output)\n",
        "    return start_scores, end_scores, ans_out\n"
      ],
      "execution_count": null,
      "outputs": []
    },
    {
      "cell_type": "markdown",
      "metadata": {
        "id": "7Kp8g202Wylr"
      },
      "source": [
        "Now that we have the model built, lets train the model"
      ]
    },
    {
      "cell_type": "code",
      "metadata": {
        "id": "FJb4HtOa1-Sp",
        "colab": {
          "base_uri": "https://localhost:8080/"
        },
        "outputId": "7677bcbe-68c0-414d-bc0a-60e477f51017"
      },
      "source": [
        "# Lambda to switch to GPU if available\n",
        "get_device = lambda : \"cuda:0\" if torch.cuda.is_available() else \"cpu\"\n",
        "# get_device = lambda : \"cpu\"\n",
        "print(torch.cuda.is_available())\n",
        "\n",
        "def train_epoch(model, train_loader, optimizer, info):\n",
        "  model.train()\n",
        "  torch.no_grad()\n",
        "  i = 0 \n",
        "  total = 0\n",
        "  for (input_context, input_question, expected_start,expected_end, answerable, id) in tqdm(train_loader, leave=False, desc=\"Training Batches\"):\n",
        "    context = input_context.to(get_device()).long()\n",
        "    question = input_question.to(get_device()).long()\n",
        "    start_output, end_output, ans_output = model(context[0][0], context[0][1], context[0][2], question)\n",
        "    target_start = expected_start.to(get_device())\n",
        "    target_end = expected_end.to(get_device())\n",
        "    target_answer = answerable.to(get_device())\n",
        "    start_output = start_output[0].unsqueeze(0)\n",
        "    end_output = end_output[0].unsqueeze(0)\n",
        "    ans_output = ans_output[0].unsqueeze(0)\n",
        "    _, predicted_ans = torch.max(ans_output, 1)\n",
        "    predicted_ans = predicted_ans.cpu().numpy()[0]\n",
        "    total += start_output.size()[0]\n",
        "    loss = model.compute_loss(ans_output, target_answer)\n",
        "    if predicted_ans == 1:\n",
        "      loss += model.compute_loss(start_output, target_start) + model.compute_loss(end_output, target_end)\n",
        "    optimizer.zero_grad()\n",
        "    loss.backward()\n",
        "    # torch.norm(model.rnn.weight_ih_l0.grad)\n",
        "    # torch.norm(model.rnn.weight_hh_l0.grad)\n",
        "    # torch.norm(model.to_out.weight.grad)\n",
        "    torch.nn.utils.clip_grad_norm_(model.parameters(), 1)\n",
        "    optimizer.step()\n",
        "    i += 1\n",
        "  return\n",
        "\n",
        "def evaluation(model, val_loader, optimizer, info):\n",
        "  model.eval()\n",
        "  torch.no_grad()\n",
        "  loss = 0\n",
        "  vocab = info[\"vocab\"]\n",
        "  key_list = list(vocab.keys())\n",
        "  val_list = list(vocab.values())\n",
        "  f1_scores = {}\n",
        "  exact_scores = {}\n",
        "  na_probs = {}\n",
        "  qid_has_ans = {}\n",
        "  pred_ints = []\n",
        "  for (input_context, input_question, expected_start,expected_end, answerable, id) in tqdm(val_loader, leave=False, desc=\"Validation Batches\"):\n",
        "    context = input_context.to(get_device()).long()\n",
        "    question = input_question.to(get_device()).long()\n",
        "    start_output, end_output, ans_output = model(context[0][0], context[0][1], context[0][2], question)\n",
        "    target_start = expected_start.to(get_device())\n",
        "    target_end = expected_end.to(get_device())\n",
        "    target_answer = answerable.to(get_device())\n",
        "    start_output = start_output[0].unsqueeze(0)\n",
        "    end_output = end_output[0].unsqueeze(0)\n",
        "    ans_output = ans_output[0].unsqueeze(0)\n",
        "    _, predicted_ans = torch.max(ans_output, 1)\n",
        "\n",
        "    scores = torch.outer(start_output[0].to(\"cpu\"), end_output[0].to(\"cpu\"))\n",
        "    scores.triu_().tril_(12 - 1)\n",
        "    scores = scores.detach().numpy()\n",
        "    pred_start_ind, pred_end_ind = np.unravel_index(np.argmax(scores), scores.shape)\n",
        "    pred_ints.append((pred_start_ind, pred_end_ind))\n",
        "\n",
        "    pred_answer = input_context[0][0][pred_start_ind:pred_end_ind + 1]\n",
        "    act_answer = input_context[0][0][target_start.to(\"cpu\"):target_end.to(\"cpu\")+1]\n",
        "\n",
        "    pred_answer_tokens = convert_back(pred_answer, vocab, key_list, val_list)\n",
        "    act_answer_tokens = convert_back(act_answer, vocab, key_list, val_list)\n",
        "\n",
        "    f1 = compute_f1(act_answer_tokens, pred_answer_tokens)\n",
        "    exct = compute_exact(act_answer_tokens, pred_answer_tokens)\n",
        "    f1_scores[id] = f1\n",
        "    exact_scores[id] = exct \n",
        "    na_probs[id] = predicted_ans\n",
        "    qid_has_ans[id] = target_answer\n",
        "    loss += model.compute_loss(ans_output, target_answer)\n",
        "    loss += loss.detach().item()\n",
        "\n",
        "  loss /= len(val_loader)\n",
        "  # Print validation metrics\n",
        "  print(\"loss: \", loss)\n",
        "  f1_answerability = apply_no_ans_threshold(f1_scores, na_probs, qid_has_ans)\n",
        "  exact_answerability = apply_no_ans_threshold(exact_scores, na_probs, qid_has_ans)\n",
        "  eval_dict = make_eval_dict(exact_scores, f1_scores)\n",
        "  return f1_answerability, exact_answerability, eval_dict, qid_has_ans \n",
        "\n",
        "\n",
        "def train_and_evaluate(number_of_epochs, model, train_loader, val_loader, info):\n",
        "  # , input_seq, gold_labels\n",
        "  optimizer = optim.SGD(model.parameters(), lr=0.0001, momentum=0.9)\n",
        "  for epoch in trange(number_of_epochs, desc=\"Epochs\"):\n",
        "    train_epoch(model, train_loader, optimizer, info)\n",
        "    # f1_answerability, exact_answerability, eval_dict, qid_has_ans = evaluation(model, val_loader, optimizer,info)\n",
        "  return f1_answerability, exact_answerability, eval_dict, qid_has_ans"
      ],
      "execution_count": null,
      "outputs": [
        {
          "output_type": "stream",
          "text": [
            "True\n"
          ],
          "name": "stdout"
        }
      ]
    },
    {
      "cell_type": "markdown",
      "metadata": {
        "id": "YRLi5TDyuSx_"
      },
      "source": [
        "\n",
        "\n",
        "### Q2 : Explain your  implementation\n",
        "\n",
        "Q2.1: Explain here your implementation (e.g. **which algorithms/data structures** you used). Make clear which parts were implemented from scratch vs. obtained via an existing package. \n",
        "\n",
        "**Answer:** For my implementation, I decided to follow the DRQA paper as a general inspriation for my approach. I embedded the context and question matrices for a question and made predictions based on the Bilinear attention, which predicts the probability of the context word being the start or end token based on the question. My algorithm actually predicts 3 seperate models.\n",
        "1. Probability that a token was the starting answer word, piWsq\n",
        "2. Probability that a token was the ending answer word, piWeq\n",
        "3. Probability that the question was answerable\n",
        "\n",
        "After training my model, I evaluated it to be able to predict the actual token sequence. To get the predicted answer, I multiplied P(start) X P(end), and choose the maximum probability of a token i to i + 12. This means my answers were limited to a maximum length of 12 words, which I found from my initial analysis is about 3 standard deviations above the typical answer length, so I knew that would account for most answers.\n",
        "\n",
        "\n",
        "Q2.2: Explain and motivate any design choices providing the intuition behind them (e.g. which methods you used for your implementation, why?).\n",
        "\n",
        "**Answer:** Context design: To best include the pos and ner features calculated for context, I decided to make embeddings for all three things in my RnnNetwork. This way, my model would keep track of all embedding vectors for me and I wouldn't have to do a ton of extra work or use a ton of memory to keep the vectors, especially for the glove embeddings. The last portion of the context feature is the aligned question embedding, which comes from the DrQA paper. I chose to add this for extra information on where the context and question are similar. While I didn't include an exact match feature, I believe that the similarity scores, which act as a sort of soft matching, give even more information since the scores will be very high when there is an exact match but also high when words are similar but not the same. \n",
        "\n",
        "My biggest design choice was training 3 different models during the training phase. I did this to keep track of the most important features: P(start), P(end), and answerability. The answerability played a large role. While loss was updated for answerability for every training example, the start and end tag only contributed to loss if the question was predicted to be answerable. This allowed for my model to not get 'led astray' by start and end tags of questions that didn't actually have a real answer for them. This means my model will have more accurate results for questions with actual answers. \n",
        "\n",
        "By multiplying the start token scores by the end token scores, I was able to get answers of different lengths. This was the easiest way to get a high probability sequence. Since answers could come up multiple times throughout the context, just trying to find an answer token within the context did not cut it. By using this design, I was able to find the best sequence of tokens,whether that be 1 word or the maximum I set, 12 words. \n",
        "\n",
        "Q2.3: What features did you use and why? Please motivate your choices.\n",
        "\n",
        "**Answer:** I gave my model the following features:\n",
        "1. Glove embeddings of size 300 per word for the questions and the context. Using glove embeddings gives the user a ton of super insightful information above the properties of a specific word and is probably in my opinion the most crucial factor to include.\n",
        "\n",
        "2. Part of Speech - For each word in a paragraph, I included the part of speech tag, which can be very useful since the model is trying to extract shorter blurbs. If there are overall patterns about what word types are typically used in answers (i.e. it seemed like most include a noun phrase), the model will be able to pick up on these. \n",
        "\n",
        "3. NER tags - These tags include whether a feature is the beginning, inside, or outside of a named entity. This is useful since a lot of times, the answer will include a named entity \n",
        "\n"
      ]
    },
    {
      "cell_type": "markdown",
      "metadata": {
        "id": "2J8NdM_V_A4u"
      },
      "source": [
        "## Validation Step\n",
        "\n"
      ]
    },
    {
      "cell_type": "code",
      "metadata": {
        "id": "mn3vlyR9rfib",
        "colab": {
          "base_uri": "https://localhost:8080/",
          "height": 405,
          "referenced_widgets": [
            "89b8c176055e4ac781c1d50299de97ae",
            "1911ba808d284590ac0597db55904f39",
            "af01ef0d2a174c7f873d56ddaaac3cb1",
            "1f5d4fc1cc9e4cbc86902bb178965ac2",
            "368e9c23a6dc42e7b162b16b6128f868",
            "4bcfa34d23c54b30886c8aea629df7a7",
            "31e44de5f98c464db38a55e0716836de",
            "d6a15c6b50164347a4f6ce769f3d8748",
            "1d602102a11c44089b49d47a2d637895",
            "4536f79cb5484cfaa237c63365bb089f",
            "968fbb51f20b4116b3037a8c7afde073",
            "8998659f10e1451ea976b4476a7501bc",
            "689a7464f1c5456894254f55e6100fa2",
            "21c734dcc7fd44e59606c77b07faa7df",
            "4ecc18b2116b4bf8875f7ad2ab6c9d85",
            "4157a6dfb65148e1a08f09a89c53551c"
          ]
        },
        "outputId": "3381cffc-1b32-47a2-bf0c-94710d3468b8"
      },
      "source": [
        "torch.cuda.empty_cache()\n",
        "model = RnnNetwork(glove_weights_tensor, info).to(get_device())\n",
        "torch.autograd.set_detect_anomaly(True)\n",
        "epochs = 1\n",
        "f1_answerability, exact_answerability, eval_dict, qid_has_ans = train_and_evaluate(epochs, model, train_loader, val_loader, info)"
      ],
      "execution_count": null,
      "outputs": [
        {
          "output_type": "display_data",
          "data": {
            "application/vnd.jupyter.widget-view+json": {
              "model_id": "89b8c176055e4ac781c1d50299de97ae",
              "version_minor": 0,
              "version_major": 2
            },
            "text/plain": [
              "HBox(children=(FloatProgress(value=0.0, description='Epochs', max=1.0, style=ProgressStyle(description_width='…"
            ]
          },
          "metadata": {
            "tags": []
          }
        },
        {
          "output_type": "display_data",
          "data": {
            "application/vnd.jupyter.widget-view+json": {
              "model_id": "1d602102a11c44089b49d47a2d637895",
              "version_minor": 0,
              "version_major": 2
            },
            "text/plain": [
              "HBox(children=(FloatProgress(value=0.0, description='Training Batches', max=104255.0, style=ProgressStyle(desc…"
            ]
          },
          "metadata": {
            "tags": []
          }
        },
        {
          "output_type": "error",
          "ename": "KeyboardInterrupt",
          "evalue": "ignored",
          "traceback": [
            "\u001b[0;31m---------------------------------------------------------------------------\u001b[0m",
            "\u001b[0;31mKeyboardInterrupt\u001b[0m                         Traceback (most recent call last)",
            "\u001b[0;32m<ipython-input-35-02bb0fb31527>\u001b[0m in \u001b[0;36m<module>\u001b[0;34m()\u001b[0m\n\u001b[1;32m      3\u001b[0m \u001b[0mtorch\u001b[0m\u001b[0;34m.\u001b[0m\u001b[0mautograd\u001b[0m\u001b[0;34m.\u001b[0m\u001b[0mset_detect_anomaly\u001b[0m\u001b[0;34m(\u001b[0m\u001b[0;32mTrue\u001b[0m\u001b[0;34m)\u001b[0m\u001b[0;34m\u001b[0m\u001b[0;34m\u001b[0m\u001b[0m\n\u001b[1;32m      4\u001b[0m \u001b[0mepochs\u001b[0m \u001b[0;34m=\u001b[0m \u001b[0;36m1\u001b[0m\u001b[0;34m\u001b[0m\u001b[0;34m\u001b[0m\u001b[0m\n\u001b[0;32m----> 5\u001b[0;31m \u001b[0mf1_answerability\u001b[0m\u001b[0;34m,\u001b[0m \u001b[0mexact_answerability\u001b[0m\u001b[0;34m,\u001b[0m \u001b[0meval_dict\u001b[0m\u001b[0;34m,\u001b[0m \u001b[0mqid_has_ans\u001b[0m \u001b[0;34m=\u001b[0m \u001b[0mtrain_and_evaluate\u001b[0m\u001b[0;34m(\u001b[0m\u001b[0mepochs\u001b[0m\u001b[0;34m,\u001b[0m \u001b[0mmodel\u001b[0m\u001b[0;34m,\u001b[0m \u001b[0mtrain_loader\u001b[0m\u001b[0;34m,\u001b[0m \u001b[0mval_loader\u001b[0m\u001b[0;34m,\u001b[0m \u001b[0minfo\u001b[0m\u001b[0;34m)\u001b[0m\u001b[0;34m\u001b[0m\u001b[0;34m\u001b[0m\u001b[0m\n\u001b[0m",
            "\u001b[0;32m<ipython-input-34-55ce7cc58b29>\u001b[0m in \u001b[0;36mtrain_and_evaluate\u001b[0;34m(number_of_epochs, model, train_loader, val_loader, info)\u001b[0m\n\u001b[1;32m     91\u001b[0m   \u001b[0moptimizer\u001b[0m \u001b[0;34m=\u001b[0m \u001b[0moptim\u001b[0m\u001b[0;34m.\u001b[0m\u001b[0mSGD\u001b[0m\u001b[0;34m(\u001b[0m\u001b[0mmodel\u001b[0m\u001b[0;34m.\u001b[0m\u001b[0mparameters\u001b[0m\u001b[0;34m(\u001b[0m\u001b[0;34m)\u001b[0m\u001b[0;34m,\u001b[0m \u001b[0mlr\u001b[0m\u001b[0;34m=\u001b[0m\u001b[0;36m0.0001\u001b[0m\u001b[0;34m,\u001b[0m \u001b[0mmomentum\u001b[0m\u001b[0;34m=\u001b[0m\u001b[0;36m0.9\u001b[0m\u001b[0;34m)\u001b[0m\u001b[0;34m\u001b[0m\u001b[0;34m\u001b[0m\u001b[0m\n\u001b[1;32m     92\u001b[0m   \u001b[0;32mfor\u001b[0m \u001b[0mepoch\u001b[0m \u001b[0;32min\u001b[0m \u001b[0mtrange\u001b[0m\u001b[0;34m(\u001b[0m\u001b[0mnumber_of_epochs\u001b[0m\u001b[0;34m,\u001b[0m \u001b[0mdesc\u001b[0m\u001b[0;34m=\u001b[0m\u001b[0;34m\"Epochs\"\u001b[0m\u001b[0;34m)\u001b[0m\u001b[0;34m:\u001b[0m\u001b[0;34m\u001b[0m\u001b[0;34m\u001b[0m\u001b[0m\n\u001b[0;32m---> 93\u001b[0;31m     \u001b[0mtrain_epoch\u001b[0m\u001b[0;34m(\u001b[0m\u001b[0mmodel\u001b[0m\u001b[0;34m,\u001b[0m \u001b[0mtrain_loader\u001b[0m\u001b[0;34m,\u001b[0m \u001b[0moptimizer\u001b[0m\u001b[0;34m,\u001b[0m \u001b[0minfo\u001b[0m\u001b[0;34m)\u001b[0m\u001b[0;34m\u001b[0m\u001b[0;34m\u001b[0m\u001b[0m\n\u001b[0m\u001b[1;32m     94\u001b[0m     \u001b[0mf1_answerability\u001b[0m\u001b[0;34m,\u001b[0m \u001b[0mexact_answerability\u001b[0m\u001b[0;34m,\u001b[0m \u001b[0meval_dict\u001b[0m\u001b[0;34m,\u001b[0m \u001b[0mqid_has_ans\u001b[0m \u001b[0;34m=\u001b[0m \u001b[0mevaluation\u001b[0m\u001b[0;34m(\u001b[0m\u001b[0mmodel\u001b[0m\u001b[0;34m,\u001b[0m \u001b[0mval_loader\u001b[0m\u001b[0;34m,\u001b[0m \u001b[0moptimizer\u001b[0m\u001b[0;34m,\u001b[0m\u001b[0minfo\u001b[0m\u001b[0;34m)\u001b[0m\u001b[0;34m\u001b[0m\u001b[0;34m\u001b[0m\u001b[0m\n\u001b[1;32m     95\u001b[0m   \u001b[0;32mreturn\u001b[0m \u001b[0mf1_answerability\u001b[0m\u001b[0;34m,\u001b[0m \u001b[0mexact_answerability\u001b[0m\u001b[0;34m,\u001b[0m \u001b[0meval_dict\u001b[0m\u001b[0;34m,\u001b[0m \u001b[0mqid_has_ans\u001b[0m\u001b[0;34m\u001b[0m\u001b[0;34m\u001b[0m\u001b[0m\n",
            "\u001b[0;32m<ipython-input-34-55ce7cc58b29>\u001b[0m in \u001b[0;36mtrain_epoch\u001b[0;34m(model, train_loader, optimizer, info)\u001b[0m\n\u001b[1;32m     26\u001b[0m       \u001b[0mloss\u001b[0m \u001b[0;34m+=\u001b[0m \u001b[0mmodel\u001b[0m\u001b[0;34m.\u001b[0m\u001b[0mcompute_loss\u001b[0m\u001b[0;34m(\u001b[0m\u001b[0mstart_output\u001b[0m\u001b[0;34m,\u001b[0m \u001b[0mtarget_start\u001b[0m\u001b[0;34m)\u001b[0m \u001b[0;34m+\u001b[0m \u001b[0mmodel\u001b[0m\u001b[0;34m.\u001b[0m\u001b[0mcompute_loss\u001b[0m\u001b[0;34m(\u001b[0m\u001b[0mend_output\u001b[0m\u001b[0;34m,\u001b[0m \u001b[0mtarget_end\u001b[0m\u001b[0;34m)\u001b[0m\u001b[0;34m\u001b[0m\u001b[0;34m\u001b[0m\u001b[0m\n\u001b[1;32m     27\u001b[0m     \u001b[0moptimizer\u001b[0m\u001b[0;34m.\u001b[0m\u001b[0mzero_grad\u001b[0m\u001b[0;34m(\u001b[0m\u001b[0;34m)\u001b[0m\u001b[0;34m\u001b[0m\u001b[0;34m\u001b[0m\u001b[0m\n\u001b[0;32m---> 28\u001b[0;31m     \u001b[0mloss\u001b[0m\u001b[0;34m.\u001b[0m\u001b[0mbackward\u001b[0m\u001b[0;34m(\u001b[0m\u001b[0;34m)\u001b[0m\u001b[0;34m\u001b[0m\u001b[0;34m\u001b[0m\u001b[0m\n\u001b[0m\u001b[1;32m     29\u001b[0m     \u001b[0;31m# torch.norm(model.rnn.weight_ih_l0.grad)\u001b[0m\u001b[0;34m\u001b[0m\u001b[0;34m\u001b[0m\u001b[0;34m\u001b[0m\u001b[0m\n\u001b[1;32m     30\u001b[0m     \u001b[0;31m# torch.norm(model.rnn.weight_hh_l0.grad)\u001b[0m\u001b[0;34m\u001b[0m\u001b[0;34m\u001b[0m\u001b[0;34m\u001b[0m\u001b[0m\n",
            "\u001b[0;32m/usr/local/lib/python3.6/dist-packages/torch/tensor.py\u001b[0m in \u001b[0;36mbackward\u001b[0;34m(self, gradient, retain_graph, create_graph)\u001b[0m\n\u001b[1;32m    219\u001b[0m                 \u001b[0mretain_graph\u001b[0m\u001b[0;34m=\u001b[0m\u001b[0mretain_graph\u001b[0m\u001b[0;34m,\u001b[0m\u001b[0;34m\u001b[0m\u001b[0;34m\u001b[0m\u001b[0m\n\u001b[1;32m    220\u001b[0m                 create_graph=create_graph)\n\u001b[0;32m--> 221\u001b[0;31m         \u001b[0mtorch\u001b[0m\u001b[0;34m.\u001b[0m\u001b[0mautograd\u001b[0m\u001b[0;34m.\u001b[0m\u001b[0mbackward\u001b[0m\u001b[0;34m(\u001b[0m\u001b[0mself\u001b[0m\u001b[0;34m,\u001b[0m \u001b[0mgradient\u001b[0m\u001b[0;34m,\u001b[0m \u001b[0mretain_graph\u001b[0m\u001b[0;34m,\u001b[0m \u001b[0mcreate_graph\u001b[0m\u001b[0;34m)\u001b[0m\u001b[0;34m\u001b[0m\u001b[0;34m\u001b[0m\u001b[0m\n\u001b[0m\u001b[1;32m    222\u001b[0m \u001b[0;34m\u001b[0m\u001b[0m\n\u001b[1;32m    223\u001b[0m     \u001b[0;32mdef\u001b[0m \u001b[0mregister_hook\u001b[0m\u001b[0;34m(\u001b[0m\u001b[0mself\u001b[0m\u001b[0;34m,\u001b[0m \u001b[0mhook\u001b[0m\u001b[0;34m)\u001b[0m\u001b[0;34m:\u001b[0m\u001b[0;34m\u001b[0m\u001b[0;34m\u001b[0m\u001b[0m\n",
            "\u001b[0;32m/usr/local/lib/python3.6/dist-packages/torch/autograd/__init__.py\u001b[0m in \u001b[0;36mbackward\u001b[0;34m(tensors, grad_tensors, retain_graph, create_graph, grad_variables)\u001b[0m\n\u001b[1;32m    130\u001b[0m     Variable._execution_engine.run_backward(\n\u001b[1;32m    131\u001b[0m         \u001b[0mtensors\u001b[0m\u001b[0;34m,\u001b[0m \u001b[0mgrad_tensors_\u001b[0m\u001b[0;34m,\u001b[0m \u001b[0mretain_graph\u001b[0m\u001b[0;34m,\u001b[0m \u001b[0mcreate_graph\u001b[0m\u001b[0;34m,\u001b[0m\u001b[0;34m\u001b[0m\u001b[0;34m\u001b[0m\u001b[0m\n\u001b[0;32m--> 132\u001b[0;31m         allow_unreachable=True)  # allow_unreachable flag\n\u001b[0m\u001b[1;32m    133\u001b[0m \u001b[0;34m\u001b[0m\u001b[0m\n\u001b[1;32m    134\u001b[0m \u001b[0;34m\u001b[0m\u001b[0m\n",
            "\u001b[0;31mKeyboardInterrupt\u001b[0m: "
          ]
        }
      ]
    },
    {
      "cell_type": "markdown",
      "metadata": {
        "id": "fdYd4OyAnrKX"
      },
      "source": [
        "As you can see, I ran out of memory before being able to go through the full validation data set. To be able to still do some type of evaluation of my fully trained model, I ran this on a validation set of about 1000 points. "
      ]
    },
    {
      "cell_type": "code",
      "metadata": {
        "colab": {
          "base_uri": "https://localhost:8080/",
          "height": 332,
          "referenced_widgets": [
            "2287699a37be44c28f6357be40e6ad9d",
            "78ab7b1a1a744b249e3502fb56a5aa80",
            "254172dad2b0433292bb92ef80836463",
            "6977710913c441c7b95930a5e8e2897a",
            "38f649142c954a3f86a13b404f6eca33",
            "77c0025435454a468d58f56f087e0444",
            "3a7bed206ad9440087a969fdf986b5f5",
            "0c5576aa96114b8ca39657c4e27b2a8d",
            "2b553544abe546f9abb76faa958d7bad",
            "8a6c6773b55c4e9ab4b53258929d82c8",
            "c0a2007005424295a1618f6fcc39d444",
            "dcead0d6d1784b2abc7250df93791474",
            "7ee0358b1ff34cd6a992e8bae08b576a",
            "751b408b6284434f8560a7bd32451fb7",
            "dab085484afd4c0381104499a61fd5ae",
            "1f472419b12b4c2582973cf494052d3c"
          ]
        },
        "id": "RvVqOPEen8b0",
        "outputId": "9589e712-a77f-4110-e436-b224a6e13b40"
      },
      "source": [
        "torch.cuda.empty_cache()\n",
        "model = RnnNetwork(glove_weights_tensor, info).to(get_device())\n",
        "torch.autograd.set_detect_anomaly(True)\n",
        "epochs = 1\n",
        "f1_answerability, exact_answerability, eval_dict, qid_has_ans = train_and_evaluate(epochs, model, train_loader, val_loader, info)"
      ],
      "execution_count": null,
      "outputs": [
        {
          "output_type": "display_data",
          "data": {
            "application/vnd.jupyter.widget-view+json": {
              "model_id": "2287699a37be44c28f6357be40e6ad9d",
              "version_minor": 0,
              "version_major": 2
            },
            "text/plain": [
              "HBox(children=(FloatProgress(value=0.0, description='Epochs', max=1.0, style=ProgressStyle(description_width='…"
            ]
          },
          "metadata": {
            "tags": []
          }
        },
        {
          "output_type": "display_data",
          "data": {
            "application/vnd.jupyter.widget-view+json": {
              "model_id": "2b553544abe546f9abb76faa958d7bad",
              "version_minor": 0,
              "version_major": 2
            },
            "text/plain": [
              "HBox(children=(FloatProgress(value=0.0, description='Training Batches', max=104255.0, style=ProgressStyle(desc…"
            ]
          },
          "metadata": {
            "tags": []
          }
        },
        {
          "output_type": "stream",
          "text": [
            "\n"
          ],
          "name": "stdout"
        },
        {
          "output_type": "error",
          "ename": "NameError",
          "evalue": "ignored",
          "traceback": [
            "\u001b[0;31m---------------------------------------------------------------------------\u001b[0m",
            "\u001b[0;31mNameError\u001b[0m                                 Traceback (most recent call last)",
            "\u001b[0;32m<ipython-input-36-02bb0fb31527>\u001b[0m in \u001b[0;36m<module>\u001b[0;34m()\u001b[0m\n\u001b[1;32m      3\u001b[0m \u001b[0mtorch\u001b[0m\u001b[0;34m.\u001b[0m\u001b[0mautograd\u001b[0m\u001b[0;34m.\u001b[0m\u001b[0mset_detect_anomaly\u001b[0m\u001b[0;34m(\u001b[0m\u001b[0;32mTrue\u001b[0m\u001b[0;34m)\u001b[0m\u001b[0;34m\u001b[0m\u001b[0;34m\u001b[0m\u001b[0m\n\u001b[1;32m      4\u001b[0m \u001b[0mepochs\u001b[0m \u001b[0;34m=\u001b[0m \u001b[0;36m1\u001b[0m\u001b[0;34m\u001b[0m\u001b[0;34m\u001b[0m\u001b[0m\n\u001b[0;32m----> 5\u001b[0;31m \u001b[0mf1_answerability\u001b[0m\u001b[0;34m,\u001b[0m \u001b[0mexact_answerability\u001b[0m\u001b[0;34m,\u001b[0m \u001b[0meval_dict\u001b[0m\u001b[0;34m,\u001b[0m \u001b[0mqid_has_ans\u001b[0m \u001b[0;34m=\u001b[0m \u001b[0mtrain_and_evaluate\u001b[0m\u001b[0;34m(\u001b[0m\u001b[0mepochs\u001b[0m\u001b[0;34m,\u001b[0m \u001b[0mmodel\u001b[0m\u001b[0;34m,\u001b[0m \u001b[0mtrain_loader\u001b[0m\u001b[0;34m,\u001b[0m \u001b[0mval_loader\u001b[0m\u001b[0;34m,\u001b[0m \u001b[0minfo\u001b[0m\u001b[0;34m)\u001b[0m\u001b[0;34m\u001b[0m\u001b[0;34m\u001b[0m\u001b[0m\n\u001b[0m",
            "\u001b[0;32m<ipython-input-35-68d186c74d7e>\u001b[0m in \u001b[0;36mtrain_and_evaluate\u001b[0;34m(number_of_epochs, model, train_loader, val_loader, info)\u001b[0m\n\u001b[1;32m     93\u001b[0m     \u001b[0mtrain_epoch\u001b[0m\u001b[0;34m(\u001b[0m\u001b[0mmodel\u001b[0m\u001b[0;34m,\u001b[0m \u001b[0mtrain_loader\u001b[0m\u001b[0;34m,\u001b[0m \u001b[0moptimizer\u001b[0m\u001b[0;34m,\u001b[0m \u001b[0minfo\u001b[0m\u001b[0;34m)\u001b[0m\u001b[0;34m\u001b[0m\u001b[0;34m\u001b[0m\u001b[0m\n\u001b[1;32m     94\u001b[0m     \u001b[0;31m# f1_answerability, exact_answerability, eval_dict, qid_has_ans = evaluation(model, val_loader, optimizer,info)\u001b[0m\u001b[0;34m\u001b[0m\u001b[0;34m\u001b[0m\u001b[0;34m\u001b[0m\u001b[0m\n\u001b[0;32m---> 95\u001b[0;31m   \u001b[0;32mreturn\u001b[0m \u001b[0mf1_answerability\u001b[0m\u001b[0;34m,\u001b[0m \u001b[0mexact_answerability\u001b[0m\u001b[0;34m,\u001b[0m \u001b[0meval_dict\u001b[0m\u001b[0;34m,\u001b[0m \u001b[0mqid_has_ans\u001b[0m\u001b[0;34m\u001b[0m\u001b[0;34m\u001b[0m\u001b[0m\n\u001b[0m",
            "\u001b[0;31mNameError\u001b[0m: name 'f1_answerability' is not defined"
          ]
        }
      ]
    },
    {
      "cell_type": "code",
      "metadata": {
        "colab": {
          "base_uri": "https://localhost:8080/",
          "height": 34,
          "referenced_widgets": [
            "1e8b0662f3d743349a952ca4c6b4f681",
            "5165c4e979a54989a13f8cd1874c8da1",
            "68f8c46dece044febe595d9e639aac77",
            "8e4350bf1a264a40883a7c10cae534ac",
            "ba6639417e854e0092e9c39fc9f334df",
            "82571bcefaf6449d9d23794fefff40e3",
            "baa70e4488a64aed990a75543033360b",
            "7490ba331eab42ccada0d4db04c92b64"
          ]
        },
        "id": "5LSC6Wy47Efe",
        "outputId": "876afeb9-172f-4c41-8625-747b123dcbb2"
      },
      "source": [
        "optimizer = optim.SGD(model.parameters(), lr=0.0001, momentum=0.9)\n",
        "f1_answerability, exact_answerability, eval_dict, qid_has_ans = evaluation(model, val_loader, optimizer,info)"
      ],
      "execution_count": null,
      "outputs": [
        {
          "output_type": "display_data",
          "data": {
            "application/vnd.jupyter.widget-view+json": {
              "model_id": "1e8b0662f3d743349a952ca4c6b4f681",
              "version_minor": 0,
              "version_major": 2
            },
            "text/plain": [
              "HBox(children=(FloatProgress(value=0.0, description='Validation Batches', max=1000.0, style=ProgressStyle(desc…"
            ]
          },
          "metadata": {
            "tags": []
          }
        },
        {
          "output_type": "stream",
          "text": [
            "\rloss:  tensor(inf, device='cuda:0', grad_fn=<DivBackward0>)\n"
          ],
          "name": "stdout"
        }
      ]
    },
    {
      "cell_type": "code",
      "metadata": {
        "id": "nX5kAfs8-VSk"
      },
      "source": [
        "val_answers = pd.DataFrame(columns=[\"id\", \"exact_score\", \"f1_score\", \"has_ans\"])\n",
        "i = 0\n",
        "for key in exact_answerability.keys():\n",
        "  val_answers.loc[i] = [key, exact_answerability[key], f1_answerability[key], qid_has_ans[key].item()]\n",
        "  i = i + 1"
      ],
      "execution_count": null,
      "outputs": []
    },
    {
      "cell_type": "code",
      "metadata": {
        "colab": {
          "base_uri": "https://localhost:8080/",
          "height": 204
        },
        "id": "NYcr75zHD_Bd",
        "outputId": "8e63d56d-941f-4f3e-dca5-f81b13063b2b"
      },
      "source": [
        "val_answers.head()"
      ],
      "execution_count": null,
      "outputs": [
        {
          "output_type": "execute_result",
          "data": {
            "text/html": [
              "<div>\n",
              "<style scoped>\n",
              "    .dataframe tbody tr th:only-of-type {\n",
              "        vertical-align: middle;\n",
              "    }\n",
              "\n",
              "    .dataframe tbody tr th {\n",
              "        vertical-align: top;\n",
              "    }\n",
              "\n",
              "    .dataframe thead th {\n",
              "        text-align: right;\n",
              "    }\n",
              "</style>\n",
              "<table border=\"1\" class=\"dataframe\">\n",
              "  <thead>\n",
              "    <tr style=\"text-align: right;\">\n",
              "      <th></th>\n",
              "      <th>id</th>\n",
              "      <th>exact_score</th>\n",
              "      <th>f1_score</th>\n",
              "      <th>has_ans</th>\n",
              "    </tr>\n",
              "  </thead>\n",
              "  <tbody>\n",
              "    <tr>\n",
              "      <th>0</th>\n",
              "      <td>(5ad14abb645df0001a2d15c4,)</td>\n",
              "      <td>0</td>\n",
              "      <td>0</td>\n",
              "      <td>0</td>\n",
              "    </tr>\n",
              "    <tr>\n",
              "      <th>1</th>\n",
              "      <td>(572ffb1904bcaa1900d76fad,)</td>\n",
              "      <td>0</td>\n",
              "      <td>0</td>\n",
              "      <td>1</td>\n",
              "    </tr>\n",
              "    <tr>\n",
              "      <th>2</th>\n",
              "      <td>(571d2dbf5efbb31900334ec9,)</td>\n",
              "      <td>0</td>\n",
              "      <td>0</td>\n",
              "      <td>1</td>\n",
              "    </tr>\n",
              "    <tr>\n",
              "      <th>3</th>\n",
              "      <td>(56f8fa3c9b226e1400dd1214,)</td>\n",
              "      <td>0</td>\n",
              "      <td>0</td>\n",
              "      <td>1</td>\n",
              "    </tr>\n",
              "    <tr>\n",
              "      <th>4</th>\n",
              "      <td>(5ad1766e645df0001a2d1d0e,)</td>\n",
              "      <td>1</td>\n",
              "      <td>1</td>\n",
              "      <td>0</td>\n",
              "    </tr>\n",
              "  </tbody>\n",
              "</table>\n",
              "</div>"
            ],
            "text/plain": [
              "                            id exact_score f1_score has_ans\n",
              "0  (5ad14abb645df0001a2d15c4,)           0        0       0\n",
              "1  (572ffb1904bcaa1900d76fad,)           0        0       1\n",
              "2  (571d2dbf5efbb31900334ec9,)           0        0       1\n",
              "3  (56f8fa3c9b226e1400dd1214,)           0        0       1\n",
              "4  (5ad1766e645df0001a2d1d0e,)           1        1       0"
            ]
          },
          "metadata": {
            "tags": []
          },
          "execution_count": 69
        }
      ]
    },
    {
      "cell_type": "code",
      "metadata": {
        "colab": {
          "base_uri": "https://localhost:8080/",
          "height": 80
        },
        "id": "KW9o3aT5Dvra",
        "outputId": "99c772c1-19de-4f5e-fb2f-15b42154b29b"
      },
      "source": [
        "validation[validation[\"id\"] == \"5ad14abb645df0001a2d15c4\"]"
      ],
      "execution_count": null,
      "outputs": [
        {
          "output_type": "execute_result",
          "data": {
            "text/html": [
              "<div>\n",
              "<style scoped>\n",
              "    .dataframe tbody tr th:only-of-type {\n",
              "        vertical-align: middle;\n",
              "    }\n",
              "\n",
              "    .dataframe tbody tr th {\n",
              "        vertical-align: top;\n",
              "    }\n",
              "\n",
              "    .dataframe thead th {\n",
              "        text-align: right;\n",
              "    }\n",
              "</style>\n",
              "<table border=\"1\" class=\"dataframe\">\n",
              "  <thead>\n",
              "    <tr style=\"text-align: right;\">\n",
              "      <th></th>\n",
              "      <th>id</th>\n",
              "      <th>context</th>\n",
              "      <th>question</th>\n",
              "      <th>answer</th>\n",
              "      <th>ans_start</th>\n",
              "      <th>ans_end</th>\n",
              "      <th>has_ans</th>\n",
              "      <th>token_st</th>\n",
              "      <th>token_end</th>\n",
              "    </tr>\n",
              "  </thead>\n",
              "  <tbody>\n",
              "    <tr>\n",
              "      <th>11</th>\n",
              "      <td>5ad14abb645df0001a2d15c4</td>\n",
              "      <td>The \"yo yo\" in the opinion polls continued int...</td>\n",
              "      <td>When was any Conservative lead in the polls su...</td>\n",
              "      <td></td>\n",
              "      <td>NaN</td>\n",
              "      <td>NaN</td>\n",
              "      <td>0</td>\n",
              "      <td>0</td>\n",
              "      <td>0</td>\n",
              "    </tr>\n",
              "  </tbody>\n",
              "</table>\n",
              "</div>"
            ],
            "text/plain": [
              "                          id  ... token_end\n",
              "11  5ad14abb645df0001a2d15c4  ...         0\n",
              "\n",
              "[1 rows x 9 columns]"
            ]
          },
          "metadata": {
            "tags": []
          },
          "execution_count": 68
        }
      ]
    },
    {
      "cell_type": "code",
      "metadata": {
        "id": "dnOeBFZvBqAP"
      },
      "source": [
        "has_an_ans = val_answers[val_answers[\"has_ans\"]==1]\n",
        "no_ans = val_answers[val_answers[\"has_ans\"]==0]"
      ],
      "execution_count": null,
      "outputs": []
    },
    {
      "cell_type": "code",
      "metadata": {
        "colab": {
          "base_uri": "https://localhost:8080/"
        },
        "id": "KD0KYNgR_osZ",
        "outputId": "bb12c324-d406-4ebc-bf04-4f4cf4d78908"
      },
      "source": [
        "print(\"Exact Score Percentage: \", sum(val_answers[\"exact_score\"]) / 1000, \"%\")\n",
        "print(\"F1 Score Percentage: \", sum(val_answers[\"f1_score\"]) / 1000, \"%\")\n",
        "print(\"Percent of Examples with some or all guessed correctly: \", len(val_answers[val_answers[\"f1_score\"]!=0]) / 1000, \"%\")\n",
        "print(\"Percent Without an Answer: \", len(no_ans) / 1000, \"%\")\n",
        "print(\"Percent With an Answer: \", len(has_an_ans) / 1000, \"%\")\n",
        "\n",
        "print(\"Exact Score Percentage for those with Answer: \", sum(has_an_ans[\"exact_score\"]) / len(has_an_ans), \"%\")\n",
        "print(\"F1 Score Percentage for those with Answer: \", sum(has_an_ans[\"f1_score\"]) / len(has_an_ans), \"%\")\n",
        "print(\"Percent of Examples with some or all guessed correctly for those with Answer: \", len(has_an_ans[has_an_ans[\"f1_score\"]!=0]) / len(has_an_ans), \"%\")\n",
        "\n",
        "print(\"Exact Score Percentage for those without an Answer: \", sum(no_ans[\"exact_score\"]) / len(no_ans), \"%\")\n",
        "print(\"F1 Score Percentage for those without an Answer: \", sum(no_ans[\"f1_score\"]) / len(no_ans), \"%\")\n",
        "print(\"Percent of Examples with some or all guessed correctly for those without an Answer: \", len(no_ans[no_ans[\"f1_score\"]!=0]) / len(no_ans), \"%\")"
      ],
      "execution_count": null,
      "outputs": [
        {
          "output_type": "stream",
          "text": [
            "Exact Score Percentage:  0.19 %\n",
            "F1 Score Percentage:  0.18367126322516794 %\n",
            "Percent of Examples with some or all guessed correctly:  0.197 %\n",
            "Percent Without an Answer:  0.338 %\n",
            "Percent With an Answer:  0.662 %\n",
            "Exact Score Percentage for those with Answer:  0.028700906344410877 %\n",
            "F1 Score Percentage for those with Answer:  0.01914088100478533 %\n",
            "Percent of Examples with some or all guessed correctly for those with Answer:  0.03927492447129909 %\n",
            "Exact Score Percentage for those without an Answer:  0.5059171597633136 %\n",
            "F1 Score Percentage for those without an Answer:  0.5059171597633136 %\n",
            "Percent of Examples with some or all guessed correctly for those without an Answer:  0.5059171597633136 %\n"
          ],
          "name": "stdout"
        }
      ]
    },
    {
      "cell_type": "code",
      "metadata": {
        "colab": {
          "base_uri": "https://localhost:8080/"
        },
        "id": "bpbJKp2cMKk6",
        "outputId": "32c34f19-d34a-4f8e-9822-13b2d56b08db"
      },
      "source": [
        "import os\n",
        "ans_path = os.path.join(os.getcwd(), \"drive\", \"My Drive\", \"Colab Notebooks\", \"drqa_preds.csv\")\n",
        "ans_path\n",
        "val_answers.to_csv(ans_path)\n",
        "!cp drqa_preds.csv ans_path"
      ],
      "execution_count": null,
      "outputs": [
        {
          "output_type": "stream",
          "text": [
            "cp: cannot stat 'drqa_preds.csv': No such file or directory\n"
          ],
          "name": "stdout"
        }
      ]
    },
    {
      "cell_type": "markdown",
      "metadata": {
        "id": "DHbzRuil-yjG"
      },
      "source": [
        "### Q3: Results Analysis\n",
        "\n",
        "Q3.1: Explain here how you evaluated the models. Summarize the performance of your system and any variations that you experimented with on the validation datasets. Put the results into clearly labeled tables or diagrams and include your observations and analysis. \n",
        "\n",
        "**Answer:**\n",
        "\n",
        "> Row Labels | Has Answer | Does Not Have Answer | All\n",
        ">:--- | --- | --- | ---\n",
        ">Average F1 Score | 1.91%| 50.92% | 18.37%\n",
        ">Portion with nonzero F1 Score | 3.93%| 50.59%| 19.7%\n",
        "> Exact Score | 2.87%| 50.6% | 19%\n",
        "\n",
        "Q3.2: When did the system work well? When did it fail?  Any ideas as to why? How might you improve the system?\n",
        "\n",
        "**Answer:** The system did not work super well. It was better at handling unknown words - However it didn't work super well. The probability of the system correctly guessing answerability was around 50%, which is no better than random. The system only managed to get f1 scores of about 3.93% which is frankly horrible. It did better, around 19% on exact score, which can be due to the fact that anything that correctly guessed not having an answer would have an exact score of 0. I'm not sure how my model managed to do so badly seeing as I was following a method I believed would give me good results and that I spent lots of lots of time on. One reason my model may have done poorly is that I wasn't sure what to put in for the answer start and answer ends if the model didn't have an actual answer. I put in 0,0. I think this may have mislead a lot of the other answers. I'm not totally sure why, since in training I only had my model learn from the start and end scores if the model was predicted to have an answer. Since this feature also turned out so poorly, only guessing right about half of the time, maybe thats why it learned the answers so poorly as well. I wonder if there was something wrong about my linear layer to two categories (answer or no answer) that made the results of my model so inaccurate. If I had more time, I would improve my system by adding in more features, such as tf scores to find the most important words in the model. I would also most definitely add more specific NER type tages. Lastly, I would add exact match features so that a model could more specifically tell if there was a word that served as an answer to a question in training so that later on the model could have a better type of ideas as to which words were already known to be exact matches. \n",
        "\n",
        "Q3.3: What is the effect of the method used for handling unknown words? Note: Even if you choose to skip over unknown words, that is still a _method_ of handling out-of-vocabulary terms.\n",
        "\n",
        "**Answer:** I choose to skip over handling unknown words. The effect of skiping over unknown words is that my model won't assign any weight to words it hasn't seen before which can be detrimental to a model since words it hasn't encountered can still be very important words to find the answer or answerability of a model. By handling unknown words, it gives more probability to them that those words could be the answer instead of 0. \n",
        "\n"
      ]
    },
    {
      "cell_type": "markdown",
      "metadata": {
        "id": "31e3sMHZrLWP"
      },
      "source": [
        "# Part B: Fine-tune a Pre-trained Language Model\n",
        "\n",
        "---\n",
        "\n",
        "In this part, the goal is to build a strong system by fine-tuning a pre-trained language model. You can use **any** public code, **any** pre-trained language models, and **any** hardware resources -- anything other than code specifically written for SQUAD. A reasonable baseline F1 score to aim for is around 0.7.\n",
        "\n"
      ]
    },
    {
      "cell_type": "code",
      "metadata": {
        "id": "Nf7POeGFSZKm"
      },
      "source": [
        "def make_lists(data):\n",
        "  # contexts = []\n",
        "  # questions = []\n",
        "  # answers = []\n",
        "  d = []\n",
        "  for i in range(len(data)):\n",
        "    c = data.iloc[i,:][\"context\"]\n",
        "    q = data.iloc[i,:][\"question\"]\n",
        "    ans_st = data.iloc[i,:][\"token_st\"]\n",
        "    ans_end = data.iloc[i,:][\"token_end\"]\n",
        "    a = {'ans_start':ans_st, 'ans_end':ans_end}\n",
        "    # contexts.append(c)\n",
        "    # questions.append(q)\n",
        "    # answers.append(a)\n",
        "    d.append((c, q, a))\n",
        "  return d\n",
        "\n",
        "# t_contexts, t_questions, t_answers = make_lists(training)\n",
        "# v_contexts, v_questions, v_answers = make_lists(validation)\n",
        "t_data = make_lists(training)\n",
        "v_data = make_lists(validation)"
      ],
      "execution_count": null,
      "outputs": []
    },
    {
      "cell_type": "code",
      "metadata": {
        "colab": {
          "base_uri": "https://localhost:8080/"
        },
        "id": "xb5vaygT_vFZ",
        "outputId": "d878094e-f52c-4e82-d3ab-00110d04e60a"
      },
      "source": [
        "t_data[0]"
      ],
      "execution_count": null,
      "outputs": [
        {
          "output_type": "execute_result",
          "data": {
            "text/plain": [
              "('The Baker v. Carr (1962) decision of the US Supreme Court established the principle of \"one man, one vote\", requiring state legislatures to redistrict to bring Congressional apportionment in line with decennial censuses. It also required both houses of state legislatures to be based on population for representation and not geographic districts such as counties. This case arose out of a lawsuit challenging the longstanding rural bias of apportionment of seats in the Tennessee legislature. After decades in which urban populations had been underrepresented in many state legislatures, this significant ruling led to an increased (and proportional) prominence in state politics by urban and, eventually, suburban, legislators and statewide officeholders in relation to their population within the state. The ruling also applied to numerous other states long controlled by rural minorities, such as Alabama, Vermont, and Montana.',\n",
              " 'Which 1962 US Supreme Court ruling forced states to realign their voting districts to reflect census findings? ',\n",
              " {'ans_end': 2, 'ans_start': 0})"
            ]
          },
          "metadata": {
            "tags": []
          },
          "execution_count": 19
        }
      ]
    },
    {
      "cell_type": "code",
      "metadata": {
        "id": "qw8bdnAeWI-L",
        "colab": {
          "base_uri": "https://localhost:8080/",
          "height": 335,
          "referenced_widgets": [
            "8add43434307478b8e629fbc6a672b22",
            "0f508d6d2c7e43e3a12d4f20ebc791ca",
            "980038c4b6f6465cb439db68407a6448",
            "9fdd03a3efcc40a78cca99e6b058eaf1",
            "5c28fbf783704f44a8b99ef22d175c9e",
            "91f69ab45967424687d5dcc5e6a84ff6",
            "ffba1d1b85004540881d34ebae6daca3",
            "b7b66613ecc744918c7239327aca81bf",
            "db73b9bee3f5422298ce3126f1f5549a",
            "263a3c208ad94b3190f8581732fb8cf7",
            "0a93b71b508c4a8f989b2132ad12393e",
            "2777a41580b243e7ad76ac9161139fd5",
            "5ae44b6171664d2b8bf43df540a8e722",
            "d2e772b9008b499295469d86390dd034",
            "14e4738bd80c4d1da6c38a7c7ef05133",
            "9051f2c9fdf4441993e75b6d091680ed",
            "ff3fa512b531409fa9de7e13f3986817",
            "2c3649c2b369450ba234861a53c8c591",
            "db2133eabda74022b7e1379e68d5da7d",
            "7ea4daba11ee488e92c06f8ff8fbfb01",
            "f6449aa713964978be7e9505693ca2fa",
            "ab49ac4dd4c34041833610918c0f72e1",
            "e8043aabde7242519f748ce22d9ec703",
            "46bb573656124c749e29b4358ae04b92",
            "833d57b0739a4a30b88740550ae04fe4",
            "75eae132e50d41d892ca6d4aacc872dc",
            "f5b1c80e74b74f1899296022ce5fc3f1",
            "99848c7d159744b282a47de079f5e065",
            "89b1daa5caeb4f58a5f5cbbf147bb062",
            "9e476db2b8884c2b95806ada18491684",
            "71169a20701544479f5719c346c6f764",
            "5912cb86d7c246f9b10b1817d77ebb60"
          ]
        },
        "outputId": "3d61e8d7-a31a-4d17-f97b-2ef77502da8d"
      },
      "source": [
        "def convert_char_to_token(e, answers):\n",
        "  sp = []; ep = []\n",
        "  for i in range(len(answers['ans_start'])):\n",
        "    sp.append(e.char_to_token(i, answers['ans_start'][i]))\n",
        "    ep.append(e.char_to_token(i, answers['ans_end'][i]))\n",
        "    # if None, the answer passage has been truncated\n",
        "    if sp[-1] is None:\n",
        "      sp[-1] = tokenizer.model_max_length\n",
        "    if ep[-1] is None:\n",
        "      ep[-1] = tokenizer.model_max_length\n",
        "  e.update({'start_positions': sp, 'end_positions': ep})\n",
        "\n",
        "# convert_char_to_token(train_encods, t_answers)\n",
        "# convert_char_to_token(val_encods, v_answers)\n",
        "\n",
        "import torch\n",
        "\n",
        "get_device = lambda : \"cuda:0\" if torch.cuda.is_available() else \"cpu\"\n",
        "\n",
        "from transformers import DistilBertTokenizerFast\n",
        "tokenizer = DistilBertTokenizerFast.from_pretrained('distilbert-base-uncased')\n",
        "\n",
        "class MyDataset(Dataset):\n",
        "    def __init__(self, data):\n",
        "        self.contexts = [X for X, _, _ in data]\n",
        "        self.questions = [Y for _,Y, _ in data]\n",
        "        self.answers = [Z for _, _, Z in data]\n",
        "        # self.encods = tokenizer(self.contexts, self.questions, truncation=True, padding=True)\n",
        "        # self.encodings = convert_char_to_token(self.encods, self.answers)\n",
        "\n",
        "    def __getitem__(self, idx):\n",
        "        # return {key: torch.tensor(val) for key, val in encods.items()}\n",
        "        # return encods\n",
        "        return self.contexts[idx], self.questions[idx], self.answers[idx]\n",
        "\n",
        "    def __len__(self):\n",
        "        return len(self.contexts)\n",
        "\n",
        "training_data = MyDataset(t_data)\n",
        "validation_data = MyDataset(v_data)\n",
        "\n",
        "from transformers import DistilBertForQuestionAnswering, BertForQuestionAnswering\n",
        "model = DistilBertForQuestionAnswering.from_pretrained(\"distilbert-base-uncased\")\n",
        "# model = BertForQuestionAnswering.from_pretrained(\"distilbert-base-uncased\")\n",
        "next(model.parameters()).device\n"
      ],
      "execution_count": null,
      "outputs": [
        {
          "output_type": "display_data",
          "data": {
            "application/vnd.jupyter.widget-view+json": {
              "model_id": "8add43434307478b8e629fbc6a672b22",
              "version_minor": 0,
              "version_major": 2
            },
            "text/plain": [
              "HBox(children=(FloatProgress(value=0.0, description='Downloading', max=231508.0, style=ProgressStyle(descripti…"
            ]
          },
          "metadata": {
            "tags": []
          }
        },
        {
          "output_type": "stream",
          "text": [
            "\n"
          ],
          "name": "stdout"
        },
        {
          "output_type": "display_data",
          "data": {
            "application/vnd.jupyter.widget-view+json": {
              "model_id": "db73b9bee3f5422298ce3126f1f5549a",
              "version_minor": 0,
              "version_major": 2
            },
            "text/plain": [
              "HBox(children=(FloatProgress(value=0.0, description='Downloading', max=466062.0, style=ProgressStyle(descripti…"
            ]
          },
          "metadata": {
            "tags": []
          }
        },
        {
          "output_type": "stream",
          "text": [
            "\n"
          ],
          "name": "stdout"
        },
        {
          "output_type": "display_data",
          "data": {
            "application/vnd.jupyter.widget-view+json": {
              "model_id": "ff3fa512b531409fa9de7e13f3986817",
              "version_minor": 0,
              "version_major": 2
            },
            "text/plain": [
              "HBox(children=(FloatProgress(value=0.0, description='Downloading', max=442.0, style=ProgressStyle(description_…"
            ]
          },
          "metadata": {
            "tags": []
          }
        },
        {
          "output_type": "stream",
          "text": [
            "\n"
          ],
          "name": "stdout"
        },
        {
          "output_type": "display_data",
          "data": {
            "application/vnd.jupyter.widget-view+json": {
              "model_id": "833d57b0739a4a30b88740550ae04fe4",
              "version_minor": 0,
              "version_major": 2
            },
            "text/plain": [
              "HBox(children=(FloatProgress(value=0.0, description='Downloading', max=267967963.0, style=ProgressStyle(descri…"
            ]
          },
          "metadata": {
            "tags": []
          }
        },
        {
          "output_type": "stream",
          "text": [
            "\n"
          ],
          "name": "stdout"
        },
        {
          "output_type": "stream",
          "text": [
            "Some weights of the model checkpoint at distilbert-base-uncased were not used when initializing DistilBertForQuestionAnswering: ['vocab_transform.weight', 'vocab_transform.bias', 'vocab_layer_norm.weight', 'vocab_layer_norm.bias', 'vocab_projector.weight', 'vocab_projector.bias']\n",
            "- This IS expected if you are initializing DistilBertForQuestionAnswering from the checkpoint of a model trained on another task or with another architecture (e.g. initializing a BertForSequenceClassification model from a BertForPreTraining model).\n",
            "- This IS NOT expected if you are initializing DistilBertForQuestionAnswering from the checkpoint of a model that you expect to be exactly identical (initializing a BertForSequenceClassification model from a BertForSequenceClassification model).\n",
            "Some weights of DistilBertForQuestionAnswering were not initialized from the model checkpoint at distilbert-base-uncased and are newly initialized: ['qa_outputs.weight', 'qa_outputs.bias']\n",
            "You should probably TRAIN this model on a down-stream task to be able to use it for predictions and inference.\n"
          ],
          "name": "stderr"
        },
        {
          "output_type": "execute_result",
          "data": {
            "text/plain": [
              "device(type='cpu')"
            ]
          },
          "metadata": {
            "tags": []
          },
          "execution_count": 29
        }
      ]
    },
    {
      "cell_type": "code",
      "metadata": {
        "colab": {
          "base_uri": "https://localhost:8080/"
        },
        "id": "mkVn_ASNpNh4",
        "outputId": "f342c0bf-11d7-4555-8c71-3c0ef15c111d"
      },
      "source": [
        "model_to_use = model.to(get_device())\n",
        "next(model_to_use.parameters()).device"
      ],
      "execution_count": null,
      "outputs": [
        {
          "output_type": "execute_result",
          "data": {
            "text/plain": [
              "device(type='cuda', index=0)"
            ]
          },
          "metadata": {
            "tags": []
          },
          "execution_count": 30
        }
      ]
    },
    {
      "cell_type": "code",
      "metadata": {
        "id": "VDguklQNAKLm"
      },
      "source": [
        "train_loader = DataLoader(training_data, batch_size=12, shuffle=True)\n",
        "val_loader = DataLoader(validation_data, batch_size=1, shuffle=True)"
      ],
      "execution_count": null,
      "outputs": []
    },
    {
      "cell_type": "code",
      "metadata": {
        "id": "aJ8EZujlWK1H"
      },
      "source": [
        "device = torch.device('cuda') if torch.cuda.is_available() else torch.device('cpu')\n",
        "from transformers import AdamW\n",
        "\n",
        "def train_epoch2(train_loader, model, optimizer):\n",
        "  model.train()\n",
        "  torch.no_grad()\n",
        "  for contexts, questions, answers in tqdm(train_loader, leave=False, desc=\"Training Batches\"):\n",
        "    optimizer.zero_grad()\n",
        "    batch = tokenizer(contexts, questions, truncation=True, padding=True)\n",
        "    convert_char_to_token(batch, answers)\n",
        "    input_ids = torch.LongTensor(batch['input_ids']).to(get_device())\n",
        "    attn_mask = torch.LongTensor(batch['attention_mask']).to(get_device())\n",
        "    sp = torch.LongTensor(batch['start_positions']).to(get_device())\n",
        "    ep = torch.LongTensor(batch['end_positions']).to(get_device())\n",
        "    outputs = model(input_ids, attention_mask=attn_mask, start_positions=sp, end_positions=ep)\n",
        "    start_scores = outputs.start_logits\n",
        "    end_scores = outputs.end_logits\n",
        "    to_out = nn.Linear(start_scores.size()[1], 2).to(get_device())\n",
        "    answerable = to_out(start_scores)\n",
        "    _, predicted_ans = torch.max(answerable, 1)\n",
        "    if predicted_ans[0] == 1:\n",
        "      loss = outputs[0].to(get_device())\n",
        "      loss.backward()\n",
        "    optimizer.step()\n",
        "  return model\n",
        "\n",
        "def eval_epoch2(val_loader, model, optimizer):\n",
        "  model.eval()\n",
        "  torch.no_grad()\n",
        "  ans = []\n",
        "  for contexts, questions, answers in tqdm(val_loader, leave=False, desc=\"Validation Batches\"):\n",
        "    # optimizer.zero_grad()\n",
        "    batch = tokenizer(contexts, questions, truncation=True, padding=True)\n",
        "    convert_char_to_token(batch, answers)\n",
        "    input_ids = torch.LongTensor(batch['input_ids']).to(get_device())\n",
        "    attn_mask = torch.LongTensor(batch['attention_mask']).to(get_device())\n",
        "    sp = torch.LongTensor(batch['start_positions']).to(get_device())\n",
        "    ep = torch.LongTensor(batch['end_positions']).to(get_device())\n",
        "    output = model(input_ids, attention_mask=attn_mask, start_positions=sp, end_positions=ep)\n",
        "    start_scores = output.start_logits\n",
        "    end_scores = output.end_logits\n",
        "    to_out = nn.Linear(start_scores.size()[1], 2).to(get_device())\n",
        "    answerable = to_out(start_scores)\n",
        "    _, predicted_ans = torch.max(answerable, 1)\n",
        "\n",
        "    ans_start = torch.argmax(start_scores.cpu())\n",
        "    ans_end = torch.argmax(end_scores.cpu())\n",
        "    ans.append((ans_start, ans_end, predicted_ans))\n",
        "  return ans\n",
        "    \n"
      ],
      "execution_count": null,
      "outputs": []
    },
    {
      "cell_type": "code",
      "metadata": {
        "id": "QIChebirWV5m"
      },
      "source": [
        "def train_and_eval(number_of_epochs, model, t_loader, v_loader):\n",
        "  optim = AdamW(model.parameters(), lr=5e-3)\n",
        "  for epoch in trange(number_of_epochs, desc=\"Epochs\"):\n",
        "    new_model = train_epoch2(t_loader, model_to_use, optim)\n",
        "    ans = eval_epoch2(v_loader, model_to_use, optim)\n",
        "  return new_model, ans"
      ],
      "execution_count": null,
      "outputs": []
    },
    {
      "cell_type": "code",
      "metadata": {
        "colab": {
          "base_uri": "https://localhost:8080/",
          "height": 66,
          "referenced_widgets": [
            "b3471bbc6b0945608949d925d76b4610",
            "6559df4179a240edabbe41e0f88b1c79",
            "696f6433d7c74a188c81950aac96355e",
            "5d03dc73bab440ba9a3777e8ecd8f5fa",
            "bfd7e8a0dee141189ac858ef7f718a0e",
            "6e39ef4776964080a99985314ab2183f",
            "8b24d15f0c6d4d3b9a3d6ae6287821d7",
            "8792a0e9b8d64856b56b2c6815606960",
            "a31f86d7e073430c98512c70d86ca024",
            "aa0cf9fa70404c53af6ad6c4bc39338c",
            "2f23f68188904e76a52a0d5527033deb",
            "7bb0f395048447caa24e0661fded7754",
            "c8c34131b5194bc58c1dba5f02b9e45a",
            "a1ec58b0efa440c29291faf431cfd831",
            "92ac162efa90454b8488d9979b6d2f41",
            "2cb9144be40048d08836d7297b80fb0d",
            "e70037368e59447a8260c5955bd95163",
            "1c08c96182d44482aaecec72f82fed2b",
            "7ecc1d1551a641a983e7da3fc0d75912",
            "1571d37a20c64c138ce615a1b738aa3e",
            "d5ffa0138aba4c11869bd2fb062e9157",
            "49125ec2f759446590e6ba798bdcbfd8",
            "a958afeaf41a4fb4b06ae0ac38ff4b37",
            "28fc3652267943068719754e27bdb710"
          ]
        },
        "id": "ra3s1WLyxDZH",
        "outputId": "2a076efe-3275-4f24-b416-f09814c4a45e"
      },
      "source": [
        "import torch.nn as nn\n",
        "trained_model = train_and_eval(1, model_to_use, train_loader, val_loader)"
      ],
      "execution_count": null,
      "outputs": [
        {
          "output_type": "display_data",
          "data": {
            "application/vnd.jupyter.widget-view+json": {
              "model_id": "b3471bbc6b0945608949d925d76b4610",
              "version_minor": 0,
              "version_major": 2
            },
            "text/plain": [
              "HBox(children=(FloatProgress(value=0.0, description='Epochs', max=1.0, style=ProgressStyle(description_width='…"
            ]
          },
          "metadata": {
            "tags": []
          }
        },
        {
          "output_type": "display_data",
          "data": {
            "application/vnd.jupyter.widget-view+json": {
              "model_id": "a31f86d7e073430c98512c70d86ca024",
              "version_minor": 0,
              "version_major": 2
            },
            "text/plain": [
              "HBox(children=(FloatProgress(value=0.0, description='Training Batches', max=8688.0, style=ProgressStyle(descri…"
            ]
          },
          "metadata": {
            "tags": []
          }
        },
        {
          "output_type": "display_data",
          "data": {
            "application/vnd.jupyter.widget-view+json": {
              "model_id": "e70037368e59447a8260c5955bd95163",
              "version_minor": 0,
              "version_major": 2
            },
            "text/plain": [
              "HBox(children=(FloatProgress(value=0.0, description='Validation Batches', max=26064.0, style=ProgressStyle(des…"
            ]
          },
          "metadata": {
            "tags": []
          }
        },
        {
          "output_type": "stream",
          "text": [
            "\n"
          ],
          "name": "stdout"
        }
      ]
    },
    {
      "cell_type": "code",
      "metadata": {
        "colab": {
          "base_uri": "https://localhost:8080/",
          "height": 17,
          "referenced_widgets": [
            "8aa07a311c2f46318b469cec28a2c6a4",
            "5c29107da89b4769872b5aa754224c23",
            "43299b8e769c4644aaef0df92c202482",
            "270526b913ca417da0bd87aab1f9fa0a",
            "6e9384ccafef4fc9917b6aed97925eea",
            "b9dea54512414d5ebc9db0fbb197f37b",
            "7ee6dd438443417b904697bf747390f2",
            "4ca0b0f047ba46fb910377db66a8d8c4"
          ]
        },
        "id": "HJk3bnnOsB7n",
        "outputId": "42c22d17-f691-4c69-f3d1-42d1c5d6b315"
      },
      "source": [
        "import torch.nn as nn\n",
        "optim = AdamW(model.parameters(), lr=5e-5)\n",
        "ans = eval_epoch2(val_loader, trained_model, optim)"
      ],
      "execution_count": null,
      "outputs": [
        {
          "output_type": "display_data",
          "data": {
            "application/vnd.jupyter.widget-view+json": {
              "model_id": "8aa07a311c2f46318b469cec28a2c6a4",
              "version_minor": 0,
              "version_major": 2
            },
            "text/plain": [
              "HBox(children=(FloatProgress(value=0.0, description='Validation Batches', max=26064.0, style=ProgressStyle(des…"
            ]
          },
          "metadata": {
            "tags": []
          }
        }
      ]
    },
    {
      "cell_type": "code",
      "metadata": {
        "colab": {
          "base_uri": "https://localhost:8080/"
        },
        "id": "1GAiDY0o4wIM",
        "outputId": "c945416c-ee44-415c-ce99-b8e19467db02"
      },
      "source": [
        "df = pd.DataFrame(trained_model[1], columns =['pred_answer_start', 'pred_answer_end', \"pred_has_ans\"])\n",
        "from google.colab import drive\n",
        "drive.mount('drive')"
      ],
      "execution_count": null,
      "outputs": [
        {
          "output_type": "stream",
          "text": [
            "Drive already mounted at drive; to attempt to forcibly remount, call drive.mount(\"drive\", force_remount=True).\n"
          ],
          "name": "stdout"
        }
      ]
    },
    {
      "cell_type": "code",
      "metadata": {
        "id": "cgRSoJOgtZHV"
      },
      "source": [
        "df[\"actual_has_ans\"] = validation[\"has_ans\"]\n",
        "df[\"actual_answer_start\"] = validation[\"token_st\"]\n",
        "df[\"actual_answer_end\"] = validation[\"token_end\"]\n",
        "df[\"answer\"] = validation[\"answer\"]\n",
        "df[\"context\"] = validation[\"context\"]\n",
        "df[\"question\"] = validation[\"question\"]\n",
        "df[\"id\"] = validation[\"id\"]"
      ],
      "execution_count": null,
      "outputs": []
    },
    {
      "cell_type": "code",
      "metadata": {
        "id": "9HC2S92i_Yyq"
      },
      "source": [
        "df[\"pred_answer_start\"]= df[\"pred_answer_start\"].apply(int)\n",
        "df[\"pred_answer_end\"]= df[\"pred_answer_end\"].apply(int)\n",
        "df[\"pred_has_ans\"]= df[\"pred_has_ans\"].apply(int)"
      ],
      "execution_count": null,
      "outputs": []
    },
    {
      "cell_type": "code",
      "metadata": {
        "colab": {
          "base_uri": "https://localhost:8080/"
        },
        "id": "JpLjFFdt3gof",
        "outputId": "fe1a7cdd-8b15-4561-fbf5-9943dde67f5c"
      },
      "source": [
        "f1_scores = {}\n",
        "exact_scores = {}\n",
        "na_probs = {}\n",
        "qid_has_ans = {}\n",
        "\n",
        "for row in df.iloc:\n",
        "  psi = row[\"pred_answer_start\"]\n",
        "  pei = row[\"pred_answer_end\"]\n",
        "  asi = row[\"actual_answer_start\"]\n",
        "  aei = row[\"actual_answer_end\"]\n",
        "  id = row[\"id\"]\n",
        "  context_tokens = get_tokens(row[\"context\"])\n",
        "  pred_answer_tokens = context_tokens[psi:pei + 1]\n",
        "  act_answer_tokens = context_tokens[asi:aei + 1]\n",
        "  row[\"pred_ans\"] = pred_answer_tokens\n",
        "  row[\"act_ans\"] = act_answer_tokens\n",
        "  f1 = compute_f1(act_answer_tokens, pred_answer_tokens)\n",
        "  exct = compute_exact(act_answer_tokens, pred_answer_tokens)\n",
        "  f1_scores[id] = f1\n",
        "  exact_scores[id] = exct \n",
        "  na_probs[id] = row[\"pred_has_ans\"]\n",
        "  qid_has_ans[id] = row[\"actual_has_ans\"]\n",
        "\n",
        "f1_answerability = apply_no_ans_threshold(f1_scores, na_probs, qid_has_ans)\n",
        "exact_answerability = apply_no_ans_threshold(exact_scores, na_probs, qid_has_ans)\n",
        "eval_dict = make_eval_dict(exact_scores, f1_scores)\n"
      ],
      "execution_count": null,
      "outputs": [
        {
          "output_type": "stream",
          "text": [
            "/usr/local/lib/python3.6/dist-packages/ipykernel_launcher.py:15: SettingWithCopyWarning: \n",
            "A value is trying to be set on a copy of a slice from a DataFrame\n",
            "\n",
            "See the caveats in the documentation: https://pandas.pydata.org/pandas-docs/stable/user_guide/indexing.html#returning-a-view-versus-a-copy\n",
            "  from ipykernel import kernelapp as app\n",
            "/usr/local/lib/python3.6/dist-packages/pandas/core/indexing.py:670: SettingWithCopyWarning: \n",
            "A value is trying to be set on a copy of a slice from a DataFrame\n",
            "\n",
            "See the caveats in the documentation: https://pandas.pydata.org/pandas-docs/stable/user_guide/indexing.html#returning-a-view-versus-a-copy\n",
            "  iloc._setitem_with_indexer(indexer, value)\n",
            "/usr/local/lib/python3.6/dist-packages/ipykernel_launcher.py:16: SettingWithCopyWarning: \n",
            "A value is trying to be set on a copy of a slice from a DataFrame\n",
            "\n",
            "See the caveats in the documentation: https://pandas.pydata.org/pandas-docs/stable/user_guide/indexing.html#returning-a-view-versus-a-copy\n",
            "  app.launch_new_instance()\n"
          ],
          "name": "stderr"
        }
      ]
    },
    {
      "cell_type": "code",
      "metadata": {
        "colab": {
          "base_uri": "https://localhost:8080/"
        },
        "id": "eF4TjbgF9ORJ",
        "outputId": "0823ef75-df42-4fe5-80c0-a7d7b6341bca"
      },
      "source": [
        "val_answers2 = pd.DataFrame(columns=[\"id\", \"exact_score\", \"f1_score\", \"has_ans\"])\n",
        "i = 0\n",
        "for key in exact_answerability.keys():\n",
        "  val_answers2.loc[i] = [key, exact_answerability[key], f1_answerability[key], qid_has_ans[key].item()]\n",
        "  i = i + 1\n",
        "\n",
        "has_an_ans2 = val_answers2[val_answers2[\"has_ans\"]==1]\n",
        "no_ans2 = val_answers2[val_answers2[\"has_ans\"]==0]\n",
        "\n",
        "print(\"Exact Score Percentage: \", sum(val_answers2[\"exact_score\"]) / len(val_answers2), \"%\")\n",
        "print(\"F1 Score Percentage: \", sum(val_answers2[\"f1_score\"]) / len(val_answers2), \"%\")\n",
        "print(\"Percent of Examples with some or all guessed correctly: \", len(val_answers2[val_answers2[\"f1_score\"]!=0]) / len(val_answers2), \"%\")\n",
        "print(\"Percent Without an Answer: \", len(no_ans2) / len(val_answers2), \"%\")\n",
        "print(\"Percent With an Answer: \", len(has_an_ans2) / len(val_answers2), \"%\")\n",
        "\n",
        "print(\"Exact Score Percentage for those with Answer: \", sum(has_an_ans2[\"exact_score\"]) / len(has_an_ans2), \"%\")\n",
        "print(\"F1 Score Percentage for those with Answer: \", sum(has_an_ans2[\"f1_score\"]) / len(has_an_ans2), \"%\")\n",
        "print(\"Percent of Examples with some or all guessed correctly for those with Answer: \", len(has_an_ans2[has_an_ans2[\"f1_score\"]!=0]) / len(has_an_ans2), \"%\")\n",
        "print(\"Exact Score Percentage for those without an Answer: \", sum(no_ans2[\"exact_score\"]) / len(no_ans2), \"%\")\n",
        "print(\"F1 Score Percentage for those without an Answer: \", sum(no_ans2[\"f1_score\"]) / len(no_ans2), \"%\")\n",
        "print(\"Percent of Examples with some or all guessed correctly for those without an Answer: \", len(no_ans2[no_ans2[\"f1_score\"]!=0]) / len(no_ans2), \"%\")"
      ],
      "execution_count": null,
      "outputs": [
        {
          "output_type": "stream",
          "text": [
            "Exact Score Percentage:  0.2596685082872928 %\n",
            "F1 Score Percentage:  0.18699049370032597 %\n",
            "Percent of Examples with some or all guessed correctly:  0.30682166973603436 %\n",
            "Percent Without an Answer:  0.33559699201964394 %\n",
            "Percent With an Answer:  0.664403007980356 %\n",
            "Exact Score Percentage for those with Answer:  0.14078651036553674 %\n",
            "F1 Score Percentage for those with Answer:  0.03139806131577788 %\n",
            "Percent of Examples with some or all guessed correctly for those with Answer:  0.2117572327770399 %\n",
            "Exact Score Percentage for those without an Answer:  0.4950268663541786 %\n",
            "F1 Score Percentage for those without an Answer:  0.4950268663541786 %\n",
            "Percent of Examples with some or all guessed correctly for those without an Answer:  0.4950268663541786 %\n"
          ],
          "name": "stdout"
        }
      ]
    },
    {
      "cell_type": "code",
      "metadata": {
        "colab": {
          "base_uri": "https://localhost:8080/"
        },
        "id": "nz808e-vIr6u",
        "outputId": "0d8560a7-fc91-4788-ca9d-a4c06584aeb7"
      },
      "source": [
        "import os\n",
        "ans_path = os.path.join(os.getcwd(), \"drive\", \"My Drive\", \"Colab Notebooks\", \"bert_preds.csv\")\n",
        "ans_path\n",
        "df.to_csv(ans_path)\n",
        "!cp bert_preds.csv ans_path"
      ],
      "execution_count": null,
      "outputs": [
        {
          "output_type": "stream",
          "text": [
            "cp: cannot stat 'bert_preds.csv': No such file or directory\n"
          ],
          "name": "stdout"
        }
      ]
    },
    {
      "cell_type": "code",
      "metadata": {
        "colab": {
          "base_uri": "https://localhost:8080/"
        },
        "id": "7uUJyabtw6Mo",
        "outputId": "e996dcbd-df28-4c15-bb13-543360204e32"
      },
      "source": [
        "from google.colab import drive\n",
        "drive.mount('/content/drive')\n",
        "\n",
        "import os\n",
        "ans_path = os.path.join(os.getcwd(), \"drive\", \"My Drive\", \"Colab Notebooks\", \"bert_preds.csv\")\n",
        "df = pd.read_csv(ans_path)"
      ],
      "execution_count": null,
      "outputs": [
        {
          "output_type": "stream",
          "text": [
            "Mounted at /content/drive\n"
          ],
          "name": "stdout"
        }
      ]
    },
    {
      "cell_type": "code",
      "metadata": {
        "id": "b8Iwtyoxwypl"
      },
      "source": [
        "acutally_has_ans = df[df['actual_has_ans']==1]\n",
        "acutally_has_no_ans = df[df['actual_has_ans']==0]\n",
        "predicted_has_ans_acc = df[(df['actual_has_ans']==1) & (df[\"pred_has_ans\"] == 1)]\n",
        "predicted_has_no_ans_acc = df[(df['actual_has_ans']==0) & (df[\"pred_has_ans\"] == 0)]"
      ],
      "execution_count": null,
      "outputs": []
    },
    {
      "cell_type": "code",
      "metadata": {
        "colab": {
          "base_uri": "https://localhost:8080/"
        },
        "id": "-Yg_wyZ1xyFo",
        "outputId": "ba1393a5-6719-4902-8438-2845ad8571f6"
      },
      "source": [
        "print(\"percent predicted answerability correctly\", (len(predicted_has_ans_acc) + len(predicted_has_no_ans_acc))/len(df), \"%\" )\n",
        "print(\"percent accurate of those predicted to be answerable\", len(predicted_has_ans_acc)/ len(acutally_has_ans), \"%\")\n",
        "print(\"percent accurate of those predicted to be not answerable\", len(predicted_has_no_ans_acc)/ len(acutally_has_no_ans), \"%\")"
      ],
      "execution_count": null,
      "outputs": [
        {
          "output_type": "stream",
          "text": [
            "percent predicted answerability correctly 0.49996163290362183 %\n",
            "percent accurate of those predicted to be answerable 0.49743027083213026 %\n",
            "percent accurate of those predicted to be not answerable 0.5049731336458214 %\n"
          ],
          "name": "stdout"
        }
      ]
    },
    {
      "cell_type": "code",
      "metadata": {
        "id": "6JqMY2_koOb2"
      },
      "source": [
        "import os\n",
        "ans_path = os.path.join(os.getcwd(), \"drive\", \"My Drive\", \"Colab Notebooks\", \"bert_preds.csv\")\n",
        "answer_df = read_csv(ans_path)"
      ],
      "execution_count": null,
      "outputs": []
    },
    {
      "cell_type": "code",
      "metadata": {
        "id": "ZkE8WZx-JIfO"
      },
      "source": [
        "new_model = trained_model[0]"
      ],
      "execution_count": null,
      "outputs": []
    },
    {
      "cell_type": "code",
      "metadata": {
        "id": "Bc98Y5zeMO4Z"
      },
      "source": [
        "def save_model(model, save_path):\n",
        "  torch.save(model.state_dict(), save_path)\n",
        "\n",
        "import os\n",
        "model_path = os.path.join(os.getcwd(), \"drive\", \"MyDrive\", \"Colab Notebooks\", \"jjr265_parameters\", \"model\")\n",
        "save_model(new_model, model_path)"
      ],
      "execution_count": null,
      "outputs": []
    },
    {
      "cell_type": "code",
      "metadata": {
        "id": "BGSOEWPJ1m2u"
      },
      "source": [
        "def load_model(self, save_path):\n",
        "\t\tself.load_state_dict(torch.load(save_path))\n",
        "  \n",
        "model_path = os.path.join(os.getcwd(), \"drive\", \"MyDrive\", \"Colab Notebooks\", \"jjr265_parameters\", \"model\")\n",
        "model_sd = torch.load(model_path)"
      ],
      "execution_count": null,
      "outputs": []
    },
    {
      "cell_type": "code",
      "metadata": {
        "id": "4EsY5vF02D2e"
      },
      "source": [
        "model2 = DistilBertForQuestionAnswering.from_pretrained(\"distilbert-base-uncased\", state_dict = model_sd)"
      ],
      "execution_count": null,
      "outputs": []
    },
    {
      "cell_type": "code",
      "metadata": {
        "colab": {
          "base_uri": "https://localhost:8080/"
        },
        "id": "pQpPLMNBNdY2",
        "outputId": "a67ca133-7639-4029-acf8-09eb8d8ebcbf"
      },
      "source": [
        "token_path = os.path.join(os.getcwd(), \"drive\", \"MyDrive\", \"Colab Notebooks\", \"jjr265_parameters\", \"tokenizer\")\n",
        "# save_model(tokenizer, token_path)\n",
        "tokenizer.save_pretrained(token_path)"
      ],
      "execution_count": null,
      "outputs": [
        {
          "output_type": "execute_result",
          "data": {
            "text/plain": [
              "('/content/drive/MyDrive/Colab Notebooks/jjr265_parameters/tokenizer/tokenizer_config.json',\n",
              " '/content/drive/MyDrive/Colab Notebooks/jjr265_parameters/tokenizer/special_tokens_map.json',\n",
              " '/content/drive/MyDrive/Colab Notebooks/jjr265_parameters/tokenizer/vocab.txt',\n",
              " '/content/drive/MyDrive/Colab Notebooks/jjr265_parameters/tokenizer/added_tokens.json')"
            ]
          },
          "metadata": {
            "tags": []
          },
          "execution_count": 62
        }
      ]
    },
    {
      "cell_type": "markdown",
      "metadata": {
        "id": "X4WaMDCD0eiL"
      },
      "source": []
    },
    {
      "cell_type": "markdown",
      "metadata": {
        "id": "fGkhL1imxpmH"
      },
      "source": [
        "### Q4: Implementation Details\n",
        "\n",
        "Q4.1: Explain here how you implemented the fine-tuning (e.g. which algorithms/data structures you used, what features are included). Make clear which parts were implemented from scratch vs. obtained via an existing package. \n",
        "\n",
        "\n",
        "**Answer:**\n",
        "I used the BertQuestionAnswering Model from the huggingface transformers model as the base model and finetuned the model to predict answers for questions on the Squad Dataset. \n",
        "\n",
        "My first large design change was in the preprocessing of the dataset. Instead of feeding in all the ecoded tokenizations for all questions and answers, I only tokenized the questions and contexts for the specific batch. To do this, I changed the type of DataSet used to keep track of the data. Instead of passing in encodings, I passed in tuples that contained the strings for the context and the question and a dictionary containing the information for the answer start and answer ends. Then, the encodings were produced directly in training so that the model never had to store more than one batches worth of encodings. In doing so, I significantly decreased the memory my model needed and decreased the runtime speed. \n",
        "\n",
        "I trained using batch sizes of 12, which allowed me to train the model at a manageable pace for the GPU, didn't take too long to train and were not to big that it would lead to a generalization gap when using the test data. \n",
        "\n",
        "To finetune my model optomizer, I used the AdamW optimizer with a very low learning rate of 5e-5. By using a low learning rate, the model learns slowly, but will ensure it arrives at a more optimal set of weights by the end. \n",
        "\n",
        "To make my model more accurate, I used a few additional parameters. I gave the model an attention_mask so the model knew when to perform attention and when not to. This was extremely helpful since training batches meant I had to pad the incices of shorter questions/contexts. I also gave the model start and end positions for each example so that the model would have the most accurate answers possible for each sentence it learned on. \n",
        "\n"
      ]
    },
    {
      "cell_type": "markdown",
      "metadata": {
        "id": "m_eDwiILvHGL"
      },
      "source": [
        "### Q5: Results Analysis\n",
        "\n",
        "Q5.1: Explain here how you evaluated the model. Summarize the performance of your system and any variations that you experimented with the validation datasets. Put the results into clearly labeled tables or diagrams and include your observations and analysis. \n",
        "\n",
        "**Answer:**\n",
        "\n",
        "The first metrics of evaluation I looked at was the percent accuracy of guessing the answerability of the quesiton. My model performs horribly, at 50.00% it is the perfect example of how randomly guessing will be correct half the time. I'm not sure why the models are so bad as I felt I followed all the steps needed for a successful model. \n",
        "\n",
        "> Row Labels | Has Answer | Does Not Have Answer | All\n",
        ">:--- | --- | --- | ---\n",
        "> Correct Answerability | 49.7%| 50.50% | 50.00%\n",
        "\n",
        "Then, I calculated the F1 and Exact Scores for each of the models. The fine-tuned Bert Model predicted overall more accurately, especially on F1 scores. Of those with answers, 21.18% had at least some predicted answer tokens correct. Overall, there was an F1 score of 18.7% but this is low since all of the incorrectly predicted non-answerable questions will have an F1 of 0. I decided to look at the percent with F1 scores not predicted to be 0 to see what the predicted value was when not 0. The average F1 score given was 30.68%, meaning that when the the predicted had at least some of the actual answer, on average it contained 30.68% of the average. THe exact score overall was 25.97%. This indicates that the model guessed correctly roughly 1/4 of the time\n",
        "\n",
        "> Row Labels | Has Answer | Does Not Have Answer | All\n",
        ">:--- | --- | --- | ---\n",
        ">Average F1 Score | 3.14%| 49.50% | 18.70%\n",
        ">Portion with nonzero F1 Score | 21.18%| 49.50%| 30.68%\n",
        "> Exact Score | 14.07%| 49.5% | 25.97%\n",
        "\n",
        "Q5.3: When did the system work well, when did it fail and any ideas as to why? How might you improve the system?\n",
        "\n",
        "**Answer:** This system also primarily failed. I think it might be because I only kept enocdings of the current batch, meaning a lot of the vocabulary the model saw was not saved throughout every iteration. I think this could mean that my model could not retain as much information as I would've liked. Also, I think I could have improved the system by adding in my own loss function. I am pretty sure my model learned remarkably poorly, although I'm not entirely sure why. By adding a loss function that I know works to help train a model, I could improve the learnability of my model, which I'm sure would have improved it. Also, I think in retrospect my learning rate on my optimizer was far too small. I chose to use a learning rate of 5e-5. I think this prevented my model from learning enough information to be successful, and given more time/GPU memory I would've gone back and made the learning rate larger so my model had a better chance to learn from mistakes early on. \n",
        "\n"
      ]
    },
    {
      "cell_type": "markdown",
      "metadata": {
        "id": "lQwPwqU3vMiS"
      },
      "source": [
        "\n",
        "#Comparing the two models\n",
        "\n",
        "---\n",
        "\n",
        "\n",
        "### Q6:\n",
        "\n",
        "\n",
        "Compare here your results for the two models. How are you evaluating their performance? Which of them performs better using this metric and how much better? \n",
        "\n",
        "**Answer:** \\\n",
        "Model 1: DrQA Based\n",
        "> Row Labels | Has Answer | Does Not Have Answer | All\n",
        ">:--- | --- | --- | ---\n",
        ">Average F1 Score | 1.91%| 50.92% | 18.37%\n",
        ">Portion with nonzero F1 Score | 3.93%| 50.59%| 19.7%\n",
        "> Exact Score | 2.87%| 50.6% | 19%\n",
        "\n",
        "Model 2: Bert Based \\\n",
        "> Row Labels | Has Answer | Does Not Have Answer | All\n",
        ">:--- | --- | --- | ---\n",
        "> Correct Answerability | 49.7%| 50.50% | 50.00%\n",
        "\n",
        "> Row Labels | Has Answer | Does Not Have Answer | All\n",
        ">:--- | --- | --- | ---\n",
        ">Average F1 Score | 3.14%| 49.50% | 18.70%\n",
        ">Portion with nonzero F1 Score | 21.18%| 49.50%| 30.68%\n",
        "> Exact Score | 14.07%| 49.5% | 25.97%\n",
        "\n",
        "> Row Labels | Model 1 | Model 2 \n",
        ">:--- | --- | --- \n",
        "> Time To Train | 1:10:19 hrs| 24:47 mins\n",
        "> Time To Validate | ~7 hrs | 3:42 mins\n",
        "\n",
        "To compare the results of the two models I created, I am using the F1 and exact score metrics I used to analyze the results of the model previously. By using a standard set of metrics, I can make direct comparisons between the performace of the DrQA and the Bert Based models. Overall, Model 2, the fine-tuned BertQA model, performs better at answering the questions then the DrQA one. Model 1 had an overall exact score of 19%, 6 percent lower than Bert's 25.97%. In terms of F1 scores, model 2 does significantly better at predicting at least some correct tokens. While Model 1 only had an 19.7% of examples with at least some tokens predicted correctly, Model 2 has 30.68%, a huge increase. \n",
        "\n",
        "Another important factor to consider when comparing two models is the amount of time they take to run. Model 1 took significantly longer to train and validate. Model 2 took half the time to train of model 1, only about 25 minutes compared to 1 hour and 10 minutes. However, the biggest seperator is the training time. The Bert Model only took 3 minutes to evaluate while the DrQA model would have taken over 6 hours, however I was not able to run a full validation sample. This is taken with a grain of salt, since many calculations were made for each sample when evaluating the first model so that the F1 and exact scores could be grabbed right from the evaluation function, wheras for the second model the evaluation model just returns the start and end token predictions. \n",
        "\n",
        "In terms of memory and data usage, there were advantages to both models. I couldn't train the first model because I always used up too much GPU. I believe this is because my model stores information that it shouldn't be, making it much more data heavy. However, model 1 uses less RAM. To not overuse RAM on model 2, I had to shift the model to only handle the encodings for one batch at a time, instead of keeping track of all the encodings. I believe that had I been able to keep track of all the encodings at once, my predictions would've been better. \n",
        "\n",
        "Overall, with significantly better predictions and faster runtimes, the Bert based model 2 was clearly the better performing of my two models. I was able to learn a lot about question answering machines during this project, although the scope of this project made in one of the most challenging projects I've ever done with some of the poorest results. Nonetheless, I'm proud of the models I was able to create, the effort I put forth,  and the amount of knowledge I was able to do while completing this final project. \n",
        "\n",
        "###Q7: Error Analysis\n",
        "Do some error analysis. What are error patterns you observed one model making but not the other? Try to justify why/why not?\n",
        "\n",
        "**Answer:**\n",
        "\n",
        "One weird error pattern I found while using model 2, the Bert based model, was that most of the predictions were predicting the token to be at index 1. This was very peculiar to me, as it was usually the first word in the question. I wasn't sure why the model was making such weird predictions, but I believe if I am able to figure that out then I would be able to spot the errors in the Bert model. \n",
        "\n",
        "Another pattern I found in model 2 was that sometimes, the end index was actually before the start index. In model 1, I did matrix multiplication to find the most likely predicted sequence, but I forewent this process in part 2 and stuck with the initially predicted start and end sequences. This meant that in part 2, the start and end scores were not as \"chohesive\", meaning the end score was not always guarenteed to come after the beginning score. Had I had more time to implement this part of the feature, I believe my model would've been even more successful. \n",
        "\n",
        "Model 1 had a lot more guesses at index 0. This is because for model 1, I choose to code the start and end indicies of unanswerable question at (0,0). While this wasn't the optimal way to code them in, my model got a lot of errors if I tried to give it an index that wasn't a valid index in the sentence. \n",
        "\n",
        "Overall, in reflecting, I think the most likely cause of thinks going wrong was that it was very hard for the model to correctly assign answerability, therefore the model wasn't just learning start and end tags from the \"learnable\" solutions but from a mixed bag of answerable and unanswerable. I would give specific examples of quesitons my models got wrong, but they both did so badly I don't think there really are any noticable patterns other than the fact that it almost seems as if they are randomly guessing. However, I gave it my best and learned a lot, despite the misfortune of my results! \n",
        "\n",
        "\n",
        "\n"
      ]
    },
    {
      "cell_type": "markdown",
      "metadata": {
        "id": "TpugxBD7RBy1"
      },
      "source": [
        "# Gradescope Submission \n",
        "---\n",
        "\n",
        "\n"
      ]
    },
    {
      "cell_type": "markdown",
      "metadata": {
        "id": "w2dm9rje5siw"
      },
      "source": [
        "This time, we will actually be probing your model rather than you having to predict on the test set. We show an example in the appendix but you will need to upload a zip file that contains `solution.py`. This file will download your parameters via Google drive, load them into your model, and have a `predict` function that we will use.\n",
        "\n",
        "The `predict` function takes in a `question` string and an `context` string identifies the words within the `context` that are the answer (if there is one) and also returns the answerability of the question. We give a sample within the appendix"
      ]
    },
    {
      "cell_type": "markdown",
      "metadata": {
        "id": "BEZP_FGivVRI"
      },
      "source": [
        "### Q9: Competition Score\n",
        "Include here your **team name** and the **screenshot** of your best score from Gradescope.\n",
        "\n",
        "**Answer:**\n",
        "Team Name: JJR265 \n",
        "*Gradescope would not let me load my saved state dictionary to the file to be a paramater of my model, saying it was an unknown path (not sure why it was unknown). Therefore, the competition score is based off an untrained version of my model. \n",
        "![image.png](data:image/png;base64,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)"
      ]
    },
    {
      "cell_type": "markdown",
      "metadata": {
        "id": "_EHrCSEdyEnM"
      },
      "source": [
        "#Appendix\n",
        "---"
      ]
    },
    {
      "cell_type": "markdown",
      "metadata": {
        "id": "M9A79lUrs9xU"
      },
      "source": [
        "\n",
        "## Approximate Projected Point Breakdown\n",
        "\n",
        "- Q1. Dataset observations (5)\n",
        "- Q1.1 Implement and discuss the metric(s) (5)\n",
        "- Q2. Implement your own model (20)\n",
        "- Q3. Evaluate your own model (10)\n",
        "- Q4. Implement finetuning (25)\n",
        "- Q5. Evaluate finetuned model (10)\n",
        "- Q6. Compare the results (5)\n",
        "- Q7. Failure analysis (5)\n",
        "- Q8. Predictions submission (5)\n",
        "- Code quality (5)\n",
        "- Page assignment and clarity (5)\n",
        "\n",
        "\n",
        "\n",
        "\n",
        "\n"
      ]
    },
    {
      "cell_type": "markdown",
      "metadata": {
        "id": "hcBhDTZu4dgM"
      },
      "source": [
        "## Gradescope Details\n",
        "\n",
        "Below is a sample `solution.py` code to submit on gradescope. This is also available on Piazza! As it stands, it will not run but this is because the QA model is currently not defined. This is something you will need to write.\n",
        "\n",
        "```python\n",
        "import os\n",
        "import pathlib\n",
        "import warnings\n",
        "warnings.filterwarnings(\"ignore\", category=UserWarning)\n",
        "import re\n",
        "\n",
        "import requests\n",
        "import torch\n",
        "import transformers\n",
        "\n",
        "directory = pathlib.Path(__file__).parent.absolute()\n",
        "\n",
        "drive_path = \"https://drive.google.com/file/d/1NbdW7rPuuCd6ij4bR_2yLL8zGvqfyVIb/view?usp=sharing\"\n",
        "\n",
        "gdrive_id = re.search(\"https://drive.google.com/file/d/(.*)/view\\?usp=sharing\", drive_path).group(1)\n",
        "# print(f\"GDrive ID: {gdrive_id}\")\n",
        "\n",
        "def download_file_from_google_drive(id, destination):\n",
        "    URL = \"https://docs.google.com/uc?export=download\"\n",
        "\n",
        "    session = requests.Session()\n",
        "\n",
        "    response = session.get(URL, params = { 'id' : id }, stream = True)\n",
        "    token = get_confirm_token(response)\n",
        "\n",
        "    if token:\n",
        "        params = { 'id' : id, 'confirm' : token }\n",
        "        response = session.get(URL, params = params, stream = True)\n",
        "\n",
        "    save_response_content(response, destination)\n",
        "\n",
        "def get_confirm_token(response):\n",
        "    for key, value in response.cookies.items():\n",
        "        if key.startswith('download_warning'):\n",
        "            return value\n",
        "\n",
        "    return None\n",
        "\n",
        "def save_response_content(response, destination):\n",
        "    CHUNK_SIZE = 32768\n",
        "\n",
        "    with open(destination, \"wb\") as f:\n",
        "        for chunk in response.iter_content(CHUNK_SIZE):\n",
        "            if chunk: # filter out keep-alive new chunks\n",
        "                f.write(chunk)\n",
        "\n",
        "\n",
        "download_file_from_google_drive(gdrive_id, f\"{str(directory / 'netid_parameters.zip')}\")\n",
        "print(\"Parameters downloaded\")\n",
        "\n",
        "proc = subprocess.Popen([f\"unzip -o {str(directory / 'netid_parameters.zip')} -d {str(directory)}\"], stdout = subprocess.PIPE, shell=True)\n",
        "\n",
        "(out, error) = proc.communicate()\n",
        "pathlib.Path(f\"{str(directory / 'netid_parameters.zip')}\").unlink()\n",
        "pathlib.Path(f\"{str(directory / 'netid_parameters')}\").unlink()\n",
        "\n",
        "\n",
        "get_device = lambda : \"cuda:0\" if torch.cuda.is_available() else \"cpu\"\n",
        "model = BertQAModel.from_pretrained(str(directory / \"netid_parameters\" / \"model\")).to(get_device())\n",
        "tokenizer = BertTokenizer.from_pretrained(str(directory / \"netid_parameters\" / \"tokenizer\"))\n",
        "\n",
        "model.eval()\n",
        "print(\"Model loaded\")\n",
        "\n",
        "\n",
        "def predict(question, context):\n",
        "    '''predict uses your PCE model and predicts the answer and answerability\n",
        "\n",
        "    Takes a `question` string and an `context` string (which contains the\n",
        "    answer), and identifies the words within the `context` that are the\n",
        "    answer, and if there is an answer\n",
        "\n",
        "    :param question: The question to answer\n",
        "    :type question: str\n",
        "    :param context: The context in which to search for the answer\n",
        "    :type context: str\n",
        "    :return: A pair of (answer, hasAns) that represents the model's prediction\n",
        "        on the answer and whether this question is answerable\n",
        "    :rtype: Tuple[str, bool]\n",
        "    '''\n",
        "    with torch.no_grad():\n",
        "        # ======== Tokenize ========\n",
        "        # Apply the tokenizer to the input text, treating them as a text-pair.\n",
        "        input_ids = tokenizer.encode(question, context, max_length=512, truncation=True,)\n",
        "\n",
        "        # Report how long the input sequence is.\n",
        "        # print('Query has {:,} tokens.\\n'.format(len(input_ids)))\n",
        "\n",
        "        # ======== Set Segment IDs ========\n",
        "        # Search the input_ids for the first instance of the `[SEP]` token.\n",
        "        sep_index = input_ids.index(tokenizer.sep_token_id)\n",
        "\n",
        "        # The number of segment A tokens includes the [SEP] token istelf.\n",
        "        num_seg_a = sep_index + 1\n",
        "\n",
        "        # The remainder are segment B.\n",
        "        num_seg_b = len(input_ids) - num_seg_a\n",
        "\n",
        "        # Construct the list of 0s and 1s.\n",
        "        segment_ids = [0]*num_seg_a + [1]*num_seg_b\n",
        "\n",
        "        # There should be a segment_id for every input token.\n",
        "        assert len(segment_ids) == len(input_ids)\n",
        "\n",
        "        # ======== Evaluate ========\n",
        "        # Run our example question through the model.\n",
        "        start_scores, end_scores = model(torch.tensor([input_ids]).to(get_device()), # The tokens representing our input text.\n",
        "                                        token_type_ids=torch.tensor([segment_ids]).to(get_device())) # The segment IDs to differentiate question from context\n",
        "\n",
        "        # ======== Reconstruct Answer ========\n",
        "        # Find the tokens with the highest `start` and `end` scores.\n",
        "        answer_start = torch.argmax(start_scores.cpu())\n",
        "        answer_end = torch.argmax(end_scores.cpu())\n",
        "\n",
        "        # Get the string versions of the input tokens.\n",
        "        tokens = tokenizer.convert_ids_to_tokens(input_ids)\n",
        "\n",
        "        # Start with the first token.\n",
        "        answer = tokens[answer_start]\n",
        "\n",
        "        # Select the remaining answer tokens and join them with whitespace.\n",
        "        for i in range(answer_start + 1, answer_end + 1):\n",
        "            \n",
        "            # If it's a subword token, then recombine it with the previous token.\n",
        "            if tokens[i][0:2] == '##':\n",
        "                answer += tokens[i][2:]\n",
        "            \n",
        "            # Otherwise, add a space then the token.\n",
        "            else:\n",
        "                answer += ' ' + tokens[i]\n",
        "\n",
        "        # print('Answer: \"' + answer + '\"')\n",
        "\n",
        "        return answer, True\n",
        "\n",
        "```\n"
      ]
    }
  ]
}