{
 "cells": [
  {
   "cell_type": "markdown",
   "metadata": {},
   "source": [
    "## Naive Bayes classification\n",
    "\n",
    "Can you tell whether a review of a restaurant is positive or negative? What words are most indicative? \n",
    "Examined data from Yelp, provided as part of the Yelp Academic Challenge."
   ]
  },
  {
   "cell_type": "markdown",
   "metadata": {},
   "source": [
    "\\begin{align}\n",
    "P(positive|w_1, w_2, w_3, ..., w_N) & = \\frac{P(w_1, w_2, w_3, ..., w_N | positive)P(positive)}{P(w_1, w_2, w_3, ..., w_N)} \\\\\n",
    "&= \\frac{P(w_1, w_2, w_3, ..., w_N | positive)P(positive)}{P(w_1, w_2, w_3, ..., w_N | positive)P(positive) + P(w_1, w_2, w_3, ..., w_N | negative)P(negative)} \\\\\n",
    "&\\approx \\frac{P(positive)\\prod_i P(w_i|positive)}{P(positive)\\prod_i P(w_i|positive) + P(negative)\\prod_i P(w_i|negative) }\n",
    "\\end{align}"
   ]
  },
  {
   "cell_type": "markdown",
   "metadata": {},
   "source": [
    "### Create a pattern\n",
    "\n",
    "The first step is to count the words in each of the two *training* sub-collections. They are in two files, `positive.txt` and `negative.txt`. \n",
    "\n",
    "Each line in these files is one review. \n",
    "\n",
    "Break reviews into words using regular expressions.\n",
    "\n"
   ]
  },
  {
   "cell_type": "code",
   "execution_count": 2,
   "metadata": {},
   "outputs": [
    {
     "data": {
      "text/plain": [
       "['Hello', 'y', 'all', 'my', 'name', 'is', 'Jenna']"
      ]
     },
     "execution_count": 2,
     "metadata": {},
     "output_type": "execute_result"
    }
   ],
   "source": [
    "import re\n",
    "def word_pattern(string): \n",
    "    pos_pattern = re.compile(\"\\w+\")\n",
    "    return pos_pattern.findall(string)\n",
    "word_pattern(\"Hello y'all, my name is Jenna!\")\n",
    "        "
   ]
  },
  {
   "cell_type": "markdown",
   "metadata": {},
   "source": [
    "### Specify variables to store data\n",
    "\n",
    "To apply Bayes' rule to estimate the probability of polarity given a review, we need the probability of words given polarity and the probability of positive or negative polarity."
   ]
  },
  {
   "cell_type": "code",
   "execution_count": 3,
   "metadata": {
    "collapsed": true
   },
   "outputs": [],
   "source": [
    "from collections import Counter\n",
    "\n",
    "num_pos_reviews = 0 \n",
    "pos_word_count = Counter()\n",
    "\n",
    "num_neg_reviews = 0\n",
    "neg_word_count = Counter()"
   ]
  },
  {
   "cell_type": "markdown",
   "metadata": {},
   "source": [
    "### Read data from files\n"
   ]
  },
  {
   "cell_type": "code",
   "execution_count": 4,
   "metadata": {},
   "outputs": [
    {
     "name": "stdout",
     "output_type": "stream",
     "text": [
      "[('the', 16168), ('and', 15149), ('I', 12937), ('a', 10532), ('to', 9411)]\n",
      "[('the', 6275), ('I', 5076), ('and', 4483), ('to', 4348), ('a', 3326)]\n"
     ]
    }
   ],
   "source": [
    "##prob_pos = number positive reviews/ number of all reveiws \n",
    "\n",
    "with open(\"positive.txt\", \"r\") as pos_reader:\n",
    "    for line in pos_reader: \n",
    "        review_words_pos = word_pattern(line)\n",
    "        pos_word_count.update(review_words_pos)\n",
    "        num_pos_reviews += 1\n",
    "        \n",
    "print(pos_word_count.most_common(5))\n",
    "\n",
    "with open(\"negative.txt\", \"r\") as neg_reader:\n",
    "    for line in neg_reader: \n",
    "        review_words_neg = word_pattern(line)\n",
    "        neg_word_count.update(review_words_neg)\n",
    "        num_neg_reviews += 1\n",
    "\n",
    "print(neg_word_count.most_common(5))\n",
    "    \n",
    "##prob_neg = number negative reviews/ number of all reveiws "
   ]
  },
  {
   "cell_type": "markdown",
   "metadata": {},
   "source": [
    "### Prior probability\n",
    "\n",
    "Calculate the probability that a randomly selected review is positive. "
   ]
  },
  {
   "cell_type": "code",
   "execution_count": 5,
   "metadata": {},
   "outputs": [
    {
     "name": "stdout",
     "output_type": "stream",
     "text": [
      "0.8026043819760231\n"
     ]
    }
   ],
   "source": [
    "prob_pos = num_pos_reviews / (num_pos_reviews + num_neg_reviews)\n",
    "print(prob_pos)"
   ]
  },
  {
   "cell_type": "markdown",
   "metadata": {},
   "source": [
    "At first this seems surprising because I expected it to be around 50%. This means that the positive text file just contained many more reviews than the negative text file."
   ]
  },
  {
   "cell_type": "markdown",
   "metadata": {},
   "source": [
    "### Count word totals\n"
   ]
  },
  {
   "cell_type": "code",
   "execution_count": 6,
   "metadata": {},
   "outputs": [
    {
     "name": "stdout",
     "output_type": "stream",
     "text": [
      "415727\n",
      "153876\n"
     ]
    }
   ],
   "source": [
    "positive_tokens = sum(pos_word_count.values())\n",
    "print(positive_tokens)\n",
    "\n",
    "negative_tokens = sum(neg_word_count.values())\n",
    "print(negative_tokens)\n"
   ]
  },
  {
   "cell_type": "markdown",
   "metadata": {},
   "source": [
    "### Calculate word probability (version 1.0)\n",
    "\n",
    "`word_prob`: takes three arguments: a word, a counter, and a sum. Returns the probability of the word estimated from that counter."
   ]
  },
  {
   "cell_type": "code",
   "execution_count": 7,
   "metadata": {},
   "outputs": [
    {
     "name": "stdout",
     "output_type": "stream",
     "text": [
      "0.001282091372463179\n",
      "5.8488653201278955e-05\n",
      "0.00016837972996702164\n",
      "0.0011047856715797136\n",
      "4.810849427629189e-06\n",
      "0.0\n",
      "0.0\n",
      "6.498739244586551e-06\n"
     ]
    }
   ],
   "source": [
    "def word_prob(word, counter, _sum): \n",
    "    word_count = counter[word]\n",
    "    return word_count/_sum\n",
    "\n",
    "print(word_prob(\"delicious\", pos_word_count, positive_tokens))\n",
    "print(word_prob(\"delicious\", neg_word_count, negative_tokens))\n",
    "print(word_prob(\"manager\", pos_word_count, positive_tokens))\n",
    "print(word_prob(\"manager\", neg_word_count, negative_tokens))\n",
    "print(word_prob(\"edgy\", pos_word_count, positive_tokens))\n",
    "print(word_prob(\"edgy\", neg_word_count, negative_tokens))\n",
    "print(word_prob(\"vile\", pos_word_count, positive_tokens))\n",
    "print(word_prob(\"vile\", neg_word_count, negative_tokens))"
   ]
  },
  {
   "cell_type": "markdown",
   "metadata": {},
   "source": [
    "### Probability of a sequence (version 1.0)\n",
    "\n",
    "`review_prob`: Takes a string containing multiple words (for example \"the food was delicious\"), a counter, and a sum. Returns the product of those probabilities."
   ]
  },
  {
   "cell_type": "code",
   "execution_count": 8,
   "metadata": {},
   "outputs": [
    {
     "name": "stdout",
     "output_type": "stream",
     "text": [
      "1.2254483237140511e-11\n",
      "5.113217890059061e-13\n",
      "9.508351338741093e-25\n",
      "2.4727715407612935e-22\n",
      "0.0\n",
      "0.0\n"
     ]
    }
   ],
   "source": [
    "def review_prob(string, counter, _sum):\n",
    "    string_words = word_pattern(string)\n",
    "    word_probs = 1\n",
    "    for word in string_words: \n",
    "        word_probs = word_probs*word_prob(word, counter, _sum)\n",
    "    return word_probs\n",
    "\n",
    "print(review_prob(\"I loved the carnitas\", pos_word_count, positive_tokens))\n",
    "print(review_prob(\"I loved the carnitas\", neg_word_count, negative_tokens))\n",
    "print(review_prob(\"but then the manager came out and told us\", pos_word_count, positive_tokens))\n",
    "print(review_prob(\"but then the manager came out and told us\", neg_word_count, negative_tokens))\n",
    "print(review_prob(\"the ambience was edgy but the food was vile\", pos_word_count, positive_tokens))\n",
    "print(review_prob(\"the ambience was edgy but the food was vile\", neg_word_count, negative_tokens))\n"
   ]
  },
  {
   "cell_type": "markdown",
   "metadata": {},
   "source": [
    "It makes sense that the reiew with edgy and vile was statistically 0, since vile had a prob of 0 in pos reviews, but edgy had a prob of 0 in neg reviews. This means it would be extremely unlikely it would occur. The more words or more specific the words, the less likely the review is to be a review. "
   ]
  },
  {
   "cell_type": "markdown",
   "metadata": {},
   "source": [
    "### Calculate word probability (version 2.0)\n",
    "\n",
    " `word_log_prob`: Calculates the log probability of a word.\n",
    " \n",
    " `review_log_prob`: Calculates the sum of the log probabilities of the words in a string."
   ]
  },
  {
   "cell_type": "code",
   "execution_count": 9,
   "metadata": {},
   "outputs": [
    {
     "name": "stdout",
     "output_type": "stream",
     "text": [
      "-2.8920810222879743\n",
      "-4.232928378875812\n",
      "-3.7737101913002897\n",
      "-2.956721966936863\n",
      "-5.317778235650565\n",
      "-5.187170888315137\n",
      "-10.911704997915798\n",
      "-12.29130570024548\n",
      "-24.02189477923062\n",
      "-21.606816006230684\n"
     ]
    }
   ],
   "source": [
    "import math\n",
    "def word_log_prob(word, counter,_sum): \n",
    "    word_count = counter[word]\n",
    "    return math.log10(word_count/_sum)\n",
    "\n",
    "def review_log_prob(string, counter, _sum):\n",
    "    string_words = word_pattern(string)\n",
    "    log_word_probs = 0\n",
    "    for word in string_words: \n",
    "        log_word_probs = log_word_probs + word_log_prob(word, counter, _sum)\n",
    "    return log_word_probs\n",
    "\n",
    "print(word_log_prob(\"delicious\", pos_word_count, positive_tokens))\n",
    "print(word_log_prob(\"delicious\", neg_word_count, negative_tokens))\n",
    "print(word_log_prob(\"manager\", pos_word_count, positive_tokens))\n",
    "print(word_log_prob(\"manager\", neg_word_count, negative_tokens))\n",
    "print(word_log_prob(\"edgy\", pos_word_count, positive_tokens))\n",
    "#print(word_log_prob(\"edgy\", neg_word_count, negative_tokens))\n",
    "#print(word_log_prob(\"vile\", pos_word_count, positive_tokens))\n",
    "#this caused an error because the prob of edgy is 0 in negative reviews, but you can't take the log of 0. Same goes\n",
    "#for vile in positive reviews\n",
    "print(word_log_prob(\"vile\", neg_word_count, negative_tokens))\n",
    "\n",
    "print(review_log_prob(\"I loved the carnitas\", pos_word_count, positive_tokens))\n",
    "print(review_log_prob(\"I loved the carnitas\", neg_word_count, negative_tokens))\n",
    "print(review_log_prob(\"but then the manager came out and told us\", pos_word_count, positive_tokens))\n",
    "print(review_log_prob(\"but then the manager came out and told us\", neg_word_count, negative_tokens))\n",
    "#print(review_log_prob(\"the ambience was edgy but the food was vile\", pos_word_count, positive_tokens))\n",
    "#print(review_log_prob(\"the ambience was edgy but the food was vile\", neg_word_count, negative_tokens))\n",
    "\n",
    "#again, there is an error since you can't take the probability "
   ]
  },
  {
   "cell_type": "markdown",
   "metadata": {},
   "source": [
    "### Collection statistics"
   ]
  },
  {
   "cell_type": "code",
   "execution_count": 10,
   "metadata": {},
   "outputs": [
    {
     "name": "stdout",
     "output_type": "stream",
     "text": [
      "24773\n"
     ]
    }
   ],
   "source": [
    "both_counts = pos_word_count + neg_word_count\n",
    "both_tokens = positive_tokens + negative_tokens\n",
    "vocabulary_size = len(both_counts)\n",
    "print(vocabulary_size)"
   ]
  },
  {
   "cell_type": "markdown",
   "metadata": {},
   "source": [
    "### Calculate word probability (version 3.0)\n",
    "\n",
    "`smoothed_word_log_prob`: Takes the same arguments as `word_prob` (word, counter, sum of the counter), but adds 1 to the count for the word (don't modify the counter, just add 1 in your function). "
   ]
  },
  {
   "cell_type": "code",
   "execution_count": 11,
   "metadata": {},
   "outputs": [
    {
     "name": "stdout",
     "output_type": "stream",
     "text": [
      "-2.8912680189474136\n",
      "-4.1871737106725595\n",
      "-3.7675509272568948\n",
      "-2.9541776002804054\n",
      "-5.141688021256308\n",
      "-5.1871737106725595\n",
      "-5.61880927597597\n",
      "-4.886143715008578\n"
     ]
    }
   ],
   "source": [
    "def smoothed_word_log_prob(word, counter, _sum):\n",
    "    word_count = counter[word] + 1\n",
    "    return math.log10(word_count/(_sum+1))\n",
    "\n",
    "print(smoothed_word_log_prob(\"delicious\", pos_word_count, positive_tokens))\n",
    "print(smoothed_word_log_prob(\"delicious\", neg_word_count, negative_tokens))\n",
    "print(smoothed_word_log_prob(\"manager\", pos_word_count, positive_tokens))\n",
    "print(smoothed_word_log_prob(\"manager\", neg_word_count, negative_tokens))\n",
    "print(smoothed_word_log_prob(\"edgy\", pos_word_count, positive_tokens))\n",
    "print(smoothed_word_log_prob(\"edgy\", neg_word_count, negative_tokens))\n",
    "print(smoothed_word_log_prob(\"vile\", pos_word_count, positive_tokens))\n",
    "print(smoothed_word_log_prob(\"vile\", neg_word_count, negative_tokens))"
   ]
  },
  {
   "cell_type": "markdown",
   "metadata": {},
   "source": [
    "### Test the Classifier\n",
    "Given a review, determine whether that review is more likely to be positive or negative. "
   ]
  },
  {
   "cell_type": "code",
   "execution_count": 12,
   "metadata": {
    "scrolled": true
   },
   "outputs": [
    {
     "name": "stdout",
     "output_type": "stream",
     "text": [
      "-0.3026502767593442\n"
     ]
    }
   ],
   "source": [
    "def smoothed_review_log_prob(string, counter, _sum):\n",
    "    string_words = word_pattern(string)\n",
    "    log_word_probs = 0\n",
    "    for word in string_words: \n",
    "        log_word_probs = log_word_probs + smoothed_word_log_prob(word, counter, _sum)\n",
    "    return log_word_probs\n",
    "\n",
    "\n",
    "words_g_pos = smoothed_review_log_prob(\"the ambience was edgy but the food was disgusting\", pos_word_count, positive_tokens)\n",
    "pos_conditional = (prob_pos)*words_g_pos\n",
    "\n",
    "\n",
    "words_g_neg = smoothed_review_log_prob(\"the ambience was edgy but the food was disgusting\", neg_word_count, negative_tokens)\n",
    "neg_conditional = (1-prob_pos)*words_g_neg\n",
    "\n",
    "ratio2 = (math.log10(prob_pos)+words_g_pos) - (math.log10(1-prob_pos)+words_g_neg)\n",
    "print(ratio2)"
   ]
  },
  {
   "cell_type": "code",
   "execution_count": 13,
   "metadata": {},
   "outputs": [
    {
     "name": "stdout",
     "output_type": "stream",
     "text": [
      "0.04242821371768102\n"
     ]
    }
   ],
   "source": [
    "ratiofind = (math.log10(.9)+words_g_pos) - (math.log10(1-.9)+words_g_neg)\n",
    "print(ratiofind)"
   ]
  },
  {
   "cell_type": "markdown",
   "metadata": {
    "collapsed": true
   },
   "source": [
    "New suggested prior probability: P(Pos) = 0.9, P(Neg) = 0.1\n",
    "    When tested, this shows a log ratio of 0.0424, which is greater than 0. In this situation, it would be more \n",
    "    likely that the review was positive. "
   ]
  }
 ],
 "metadata": {
  "kernelspec": {
   "display_name": "Python 3",
   "language": "python",
   "name": "python3"
  },
  "language_info": {
   "codemirror_mode": {
    "name": "ipython",
    "version": 3
   },
   "file_extension": ".py",
   "mimetype": "text/x-python",
   "name": "python",
   "nbconvert_exporter": "python",
   "pygments_lexer": "ipython3",
   "version": "3.6.1"
  }
 },
 "nbformat": 4,
 "nbformat_minor": 2
}
